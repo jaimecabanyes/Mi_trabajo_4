{
 "cells": [
  {
   "cell_type": "markdown",
   "id": "4a4a8961",
   "metadata": {},
   "source": [
    "# AJUSTAR LOS DATAFRAMES Y CONECTAR CON MONGODB"
   ]
  },
  {
   "cell_type": "markdown",
   "id": "4c0cef5b",
   "metadata": {},
   "source": [
    "# IMPORTAR LIBRERIAS "
   ]
  },
  {
   "cell_type": "code",
   "execution_count": 1,
   "id": "67a41262",
   "metadata": {},
   "outputs": [],
   "source": [
    "import requests\n",
    "import json\n",
    "from dotenv import load_dotenv\n",
    "import os\n",
    "import pandas as pd\n",
    "import pyjsonviewer\n",
    "import geopandas \n",
    "import shapely\n",
    "import pymongo as pym\n",
    "from pymongo import MongoClient,GEOSPHERE\n",
    "import shapely.geometry as shg\n",
    "import geopandas as gdp"
   ]
  },
  {
   "cell_type": "markdown",
   "id": "26d02ed0",
   "metadata": {},
   "source": [
    "# IMPORTAR TODOS LOS DATAFRAMES "
   ]
  },
  {
   "cell_type": "code",
   "execution_count": 2,
   "id": "d452f4c3",
   "metadata": {},
   "outputs": [],
   "source": [
    "london_schools =  pd.read_csv(\"Data/London/ln_schools.csv\")\n",
    "london_designing_companies =  pd.read_csv(\"Data/London/ln_desing.csv\")\n",
    "london_tech_startups =  pd.read_csv(\"Data/London/ln_tech_startups.csv\")\n",
    "london_leisure =  pd.read_csv(\"Data/London/ln_leisure.csv\")\n",
    "london_travelling_stations =  pd.read_csv(\"Data/London/ln_stations.csv\")\n",
    "london_parks =  pd.read_csv(\"Data/London/ln_parks.csv\")\n",
    "london_df_entero =  pd.read_csv(\"Data/London/ln_entero.csv\")"
   ]
  },
  {
   "cell_type": "code",
   "execution_count": 3,
   "id": "418606c6",
   "metadata": {},
   "outputs": [],
   "source": [
    "singapore_schools =  pd.read_csv(\"Data/Singapore/sg_schools.csv\")\n",
    "singapore_designing_companies =  pd.read_csv(\"Data/Singapore/sg_designco.csv\")\n",
    "singapore_tech_startups =  pd.read_csv(\"Data/Singapore/sg_techstar.csv\")\n",
    "singapore_leisure =  pd.read_csv(\"Data/Singapore/sg_leisure.csv\")\n",
    "singapore_travelling_stations =  pd.read_csv(\"Data/Singapore/sg_stations.csv\")\n",
    "singapore_parks =  pd.read_csv(\"Data/Singapore/sg_parks.csv\")\n",
    "singapore_df_entero =  pd.read_csv(\"Data/Singapore/sg_entero.csv\")"
   ]
  },
  {
   "cell_type": "code",
   "execution_count": 4,
   "id": "f0590ead",
   "metadata": {},
   "outputs": [],
   "source": [
    "sanfrancisco_schools =  pd.read_csv(\"Data/SanFrancisco/sf_schools.csv\")\n",
    "sanfrancisco_designing_companies =  pd.read_csv(\"Data/SanFrancisco/sf_design.csv\")\n",
    "sanfrancisco_tech_startups =  pd.read_csv(\"Data/SanFrancisco/sf_techstartups.csv\")\n",
    "sanfrancisco_leisure =  pd.read_csv(\"Data/SanFrancisco/sf_leisure.csv\")\n",
    "sanfrancisco_travelling_stations =  pd.read_csv(\"Data/SanFrancisco/sf_travelling.csv\")\n",
    "sanfrancisco_parks =  pd.read_csv(\"Data/SanFrancisco/sf_parks.csv\")\n",
    "sanfrancisco_df_entero =  pd.read_csv(\"Data/SanFrancisco/sf_entero.csv\")"
   ]
  },
  {
   "cell_type": "markdown",
   "id": "a200f721",
   "metadata": {},
   "source": [
    "# CAMBIAR DATAFRAMES Y METERLOS EN MONGODB"
   ]
  },
  {
   "cell_type": "code",
   "execution_count": 5,
   "id": "d16371b7",
   "metadata": {},
   "outputs": [
    {
     "data": {
      "text/html": [
       "<div>\n",
       "<style scoped>\n",
       "    .dataframe tbody tr th:only-of-type {\n",
       "        vertical-align: middle;\n",
       "    }\n",
       "\n",
       "    .dataframe tbody tr th {\n",
       "        vertical-align: top;\n",
       "    }\n",
       "\n",
       "    .dataframe thead th {\n",
       "        text-align: right;\n",
       "    }\n",
       "</style>\n",
       "<table border=\"1\" class=\"dataframe\">\n",
       "  <thead>\n",
       "    <tr style=\"text-align: right;\">\n",
       "      <th></th>\n",
       "      <th>Unnamed: 0</th>\n",
       "      <th>Name</th>\n",
       "      <th>Classification</th>\n",
       "      <th>Type</th>\n",
       "      <th>Country</th>\n",
       "      <th>Adress</th>\n",
       "      <th>Latitude</th>\n",
       "      <th>Longitude</th>\n",
       "      <th>location</th>\n",
       "    </tr>\n",
       "  </thead>\n",
       "  <tbody>\n",
       "    <tr>\n",
       "      <th>145</th>\n",
       "      <td>145</td>\n",
       "      <td>XOYO</td>\n",
       "      <td>Leisure Places</td>\n",
       "      <td>Nightclub</td>\n",
       "      <td>GB</td>\n",
       "      <td>32-37 Cowper St</td>\n",
       "      <td>51.525472</td>\n",
       "      <td>-0.085731</td>\n",
       "      <td>{'type': 'Point', 'coordinates': (51.52547227,...</td>\n",
       "    </tr>\n",
       "    <tr>\n",
       "      <th>177</th>\n",
       "      <td>177</td>\n",
       "      <td>The Princess of Shoreditch</td>\n",
       "      <td>Leisure Places</td>\n",
       "      <td>Pub</td>\n",
       "      <td>GB</td>\n",
       "      <td>76 Paul St</td>\n",
       "      <td>51.525393</td>\n",
       "      <td>-0.083895</td>\n",
       "      <td>{'type': 'Point', 'coordinates': (51.525393024...</td>\n",
       "    </tr>\n",
       "    <tr>\n",
       "      <th>350</th>\n",
       "      <td>350</td>\n",
       "      <td>Tower Hill</td>\n",
       "      <td>Parks</td>\n",
       "      <td>Neighborhood</td>\n",
       "      <td>GB</td>\n",
       "      <td>London</td>\n",
       "      <td>51.510053</td>\n",
       "      <td>-0.076536</td>\n",
       "      <td>{'type': 'Point', 'coordinates': (51.510052558...</td>\n",
       "    </tr>\n",
       "  </tbody>\n",
       "</table>\n",
       "</div>"
      ],
      "text/plain": [
       "     Unnamed: 0                        Name  Classification          Type  \\\n",
       "145         145                        XOYO  Leisure Places     Nightclub   \n",
       "177         177  The Princess of Shoreditch  Leisure Places           Pub   \n",
       "350         350                  Tower Hill           Parks  Neighborhood   \n",
       "\n",
       "    Country           Adress   Latitude  Longitude  \\\n",
       "145      GB  32-37 Cowper St  51.525472  -0.085731   \n",
       "177      GB       76 Paul St  51.525393  -0.083895   \n",
       "350      GB           London  51.510053  -0.076536   \n",
       "\n",
       "                                              location  \n",
       "145  {'type': 'Point', 'coordinates': (51.52547227,...  \n",
       "177  {'type': 'Point', 'coordinates': (51.525393024...  \n",
       "350  {'type': 'Point', 'coordinates': (51.510052558...  "
      ]
     },
     "execution_count": 5,
     "metadata": {},
     "output_type": "execute_result"
    }
   ],
   "source": [
    "london_df_entero.sample(3)"
   ]
  },
  {
   "cell_type": "code",
   "execution_count": 6,
   "id": "b4c49dd4",
   "metadata": {},
   "outputs": [
    {
     "data": {
      "text/html": [
       "<div>\n",
       "<style scoped>\n",
       "    .dataframe tbody tr th:only-of-type {\n",
       "        vertical-align: middle;\n",
       "    }\n",
       "\n",
       "    .dataframe tbody tr th {\n",
       "        vertical-align: top;\n",
       "    }\n",
       "\n",
       "    .dataframe thead th {\n",
       "        text-align: right;\n",
       "    }\n",
       "</style>\n",
       "<table border=\"1\" class=\"dataframe\">\n",
       "  <thead>\n",
       "    <tr style=\"text-align: right;\">\n",
       "      <th></th>\n",
       "      <th>Unnamed: 0</th>\n",
       "      <th>Name</th>\n",
       "      <th>Classification</th>\n",
       "      <th>Type</th>\n",
       "      <th>Country</th>\n",
       "      <th>Adress</th>\n",
       "      <th>Latitude</th>\n",
       "      <th>Longitude</th>\n",
       "      <th>location</th>\n",
       "    </tr>\n",
       "  </thead>\n",
       "  <tbody>\n",
       "    <tr>\n",
       "      <th>193</th>\n",
       "      <td>193</td>\n",
       "      <td>The SMU Shop</td>\n",
       "      <td>Leisure Places</td>\n",
       "      <td>Gift Shop</td>\n",
       "      <td>SG</td>\n",
       "      <td>Singapore</td>\n",
       "      <td>1.296425</td>\n",
       "      <td>103.849889</td>\n",
       "      <td>{'type': 'Point', 'coordinates': (1.2964253900...</td>\n",
       "    </tr>\n",
       "    <tr>\n",
       "      <th>298</th>\n",
       "      <td>298</td>\n",
       "      <td>Sticky fingers</td>\n",
       "      <td>Leisure Places</td>\n",
       "      <td>Irish Pub</td>\n",
       "      <td>SG</td>\n",
       "      <td>The riverside plaza (11 Keng Cheow St)</td>\n",
       "      <td>1.288875</td>\n",
       "      <td>103.843887</td>\n",
       "      <td>{'type': 'Point', 'coordinates': (1.2888747302...</td>\n",
       "    </tr>\n",
       "    <tr>\n",
       "      <th>26</th>\n",
       "      <td>26</td>\n",
       "      <td>PSB Academy Block A</td>\n",
       "      <td>School</td>\n",
       "      <td>High School</td>\n",
       "      <td>SG</td>\n",
       "      <td>169199</td>\n",
       "      <td>1.287704</td>\n",
       "      <td>103.825857</td>\n",
       "      <td>{'type': 'Point', 'coordinates': (1.2877039453...</td>\n",
       "    </tr>\n",
       "  </tbody>\n",
       "</table>\n",
       "</div>"
      ],
      "text/plain": [
       "     Unnamed: 0                 Name  Classification         Type Country  \\\n",
       "193         193         The SMU Shop  Leisure Places    Gift Shop      SG   \n",
       "298         298       Sticky fingers  Leisure Places    Irish Pub      SG   \n",
       "26           26  PSB Academy Block A          School  High School      SG   \n",
       "\n",
       "                                     Adress  Latitude   Longitude  \\\n",
       "193                               Singapore  1.296425  103.849889   \n",
       "298  The riverside plaza (11 Keng Cheow St)  1.288875  103.843887   \n",
       "26                                   169199  1.287704  103.825857   \n",
       "\n",
       "                                              location  \n",
       "193  {'type': 'Point', 'coordinates': (1.2964253900...  \n",
       "298  {'type': 'Point', 'coordinates': (1.2888747302...  \n",
       "26   {'type': 'Point', 'coordinates': (1.2877039453...  "
      ]
     },
     "execution_count": 6,
     "metadata": {},
     "output_type": "execute_result"
    }
   ],
   "source": [
    "singapore_df_entero.sample(3)"
   ]
  },
  {
   "cell_type": "code",
   "execution_count": 7,
   "id": "e4c0d797",
   "metadata": {},
   "outputs": [
    {
     "data": {
      "text/html": [
       "<div>\n",
       "<style scoped>\n",
       "    .dataframe tbody tr th:only-of-type {\n",
       "        vertical-align: middle;\n",
       "    }\n",
       "\n",
       "    .dataframe tbody tr th {\n",
       "        vertical-align: top;\n",
       "    }\n",
       "\n",
       "    .dataframe thead th {\n",
       "        text-align: right;\n",
       "    }\n",
       "</style>\n",
       "<table border=\"1\" class=\"dataframe\">\n",
       "  <thead>\n",
       "    <tr style=\"text-align: right;\">\n",
       "      <th></th>\n",
       "      <th>Unnamed: 0</th>\n",
       "      <th>Name</th>\n",
       "      <th>Classification</th>\n",
       "      <th>Type</th>\n",
       "      <th>Country</th>\n",
       "      <th>Adress</th>\n",
       "      <th>Latitude</th>\n",
       "      <th>Longitude</th>\n",
       "      <th>location</th>\n",
       "    </tr>\n",
       "  </thead>\n",
       "  <tbody>\n",
       "    <tr>\n",
       "      <th>139</th>\n",
       "      <td>139</td>\n",
       "      <td>pandadoc</td>\n",
       "      <td>Technological Startups</td>\n",
       "      <td>Tech Startup</td>\n",
       "      <td>US</td>\n",
       "      <td>565 Commercial St (Montgomery St)</td>\n",
       "      <td>37.79391</td>\n",
       "      <td>-122.402772</td>\n",
       "      <td>{'type': 'Point', 'coordinates': (37.793910390...</td>\n",
       "    </tr>\n",
       "    <tr>\n",
       "      <th>302</th>\n",
       "      <td>302</td>\n",
       "      <td>Cable Car Stop Pine And Powell</td>\n",
       "      <td>Travelling Stations</td>\n",
       "      <td>Light Rail Station</td>\n",
       "      <td>US</td>\n",
       "      <td>San Francisco, CA 94108</td>\n",
       "      <td>37.79121</td>\n",
       "      <td>-122.408940</td>\n",
       "      <td>{'type': 'Point', 'coordinates': (37.79121, -1...</td>\n",
       "    </tr>\n",
       "    <tr>\n",
       "      <th>135</th>\n",
       "      <td>135</td>\n",
       "      <td>Silkroad Technology - San Francisco</td>\n",
       "      <td>Technological Startups</td>\n",
       "      <td>Tech Startup</td>\n",
       "      <td>US</td>\n",
       "      <td>550 Montgomery St</td>\n",
       "      <td>37.79421</td>\n",
       "      <td>-122.402927</td>\n",
       "      <td>{'type': 'Point', 'coordinates': (37.794209892...</td>\n",
       "    </tr>\n",
       "  </tbody>\n",
       "</table>\n",
       "</div>"
      ],
      "text/plain": [
       "     Unnamed: 0                                 Name          Classification  \\\n",
       "139         139                             pandadoc  Technological Startups   \n",
       "302         302       Cable Car Stop Pine And Powell     Travelling Stations   \n",
       "135         135  Silkroad Technology - San Francisco  Technological Startups   \n",
       "\n",
       "                   Type Country                             Adress  Latitude  \\\n",
       "139        Tech Startup      US  565 Commercial St (Montgomery St)  37.79391   \n",
       "302  Light Rail Station      US            San Francisco, CA 94108  37.79121   \n",
       "135        Tech Startup      US                  550 Montgomery St  37.79421   \n",
       "\n",
       "      Longitude                                           location  \n",
       "139 -122.402772  {'type': 'Point', 'coordinates': (37.793910390...  \n",
       "302 -122.408940  {'type': 'Point', 'coordinates': (37.79121, -1...  \n",
       "135 -122.402927  {'type': 'Point', 'coordinates': (37.794209892...  "
      ]
     },
     "execution_count": 7,
     "metadata": {},
     "output_type": "execute_result"
    }
   ],
   "source": [
    "sanfrancisco_df_entero.sample(3)"
   ]
  },
  {
   "cell_type": "code",
   "execution_count": 8,
   "id": "1d95e160",
   "metadata": {},
   "outputs": [
    {
     "name": "stdout",
     "output_type": "stream",
     "text": [
      "<class 'pandas.core.series.Series'>\n"
     ]
    }
   ],
   "source": [
    "print(type(sanfrancisco_df_entero['location']))"
   ]
  },
  {
   "cell_type": "markdown",
   "id": "95fbf3ff",
   "metadata": {},
   "source": [
    "# LONDON"
   ]
  },
  {
   "cell_type": "code",
   "execution_count": 9,
   "id": "83eb4372",
   "metadata": {},
   "outputs": [],
   "source": [
    "ln1 = london_df_entero.drop(['Unnamed: 0'], axis=1)"
   ]
  },
  {
   "cell_type": "code",
   "execution_count": 10,
   "id": "0ed46783",
   "metadata": {},
   "outputs": [],
   "source": [
    "sf1 = sanfrancisco_df_entero.drop(['Unnamed: 0'], axis=1)"
   ]
  },
  {
   "cell_type": "code",
   "execution_count": 11,
   "id": "c910864f",
   "metadata": {
    "scrolled": true
   },
   "outputs": [],
   "source": [
    "sg1 = singapore_df_entero.drop(['Unnamed: 0'], axis=1)"
   ]
  },
  {
   "cell_type": "code",
   "execution_count": 12,
   "id": "f7c26f75",
   "metadata": {},
   "outputs": [],
   "source": [
    "#LONDON"
   ]
  },
  {
   "cell_type": "code",
   "execution_count": 13,
   "id": "3004a31f",
   "metadata": {},
   "outputs": [
    {
     "data": {
      "text/html": [
       "<div>\n",
       "<style scoped>\n",
       "    .dataframe tbody tr th:only-of-type {\n",
       "        vertical-align: middle;\n",
       "    }\n",
       "\n",
       "    .dataframe tbody tr th {\n",
       "        vertical-align: top;\n",
       "    }\n",
       "\n",
       "    .dataframe thead th {\n",
       "        text-align: right;\n",
       "    }\n",
       "</style>\n",
       "<table border=\"1\" class=\"dataframe\">\n",
       "  <thead>\n",
       "    <tr style=\"text-align: right;\">\n",
       "      <th></th>\n",
       "      <th>Name</th>\n",
       "      <th>Classification</th>\n",
       "      <th>Type</th>\n",
       "      <th>Country</th>\n",
       "      <th>Adress</th>\n",
       "      <th>Latitude</th>\n",
       "      <th>Longitude</th>\n",
       "      <th>location</th>\n",
       "    </tr>\n",
       "  </thead>\n",
       "  <tbody>\n",
       "    <tr>\n",
       "      <th>0</th>\n",
       "      <td>Hatching Dragons</td>\n",
       "      <td>School</td>\n",
       "      <td>Nursery School</td>\n",
       "      <td>GB</td>\n",
       "      <td>1 Viscount Street</td>\n",
       "      <td>51.521599</td>\n",
       "      <td>-0.095356</td>\n",
       "      <td>{'type': 'Point', 'coordinates': (51.521599411...</td>\n",
       "    </tr>\n",
       "  </tbody>\n",
       "</table>\n",
       "</div>"
      ],
      "text/plain": [
       "               Name Classification            Type Country             Adress  \\\n",
       "0  Hatching Dragons         School  Nursery School      GB  1 Viscount Street   \n",
       "\n",
       "    Latitude  Longitude                                           location  \n",
       "0  51.521599  -0.095356  {'type': 'Point', 'coordinates': (51.521599411...  "
      ]
     },
     "execution_count": 13,
     "metadata": {},
     "output_type": "execute_result"
    }
   ],
   "source": [
    "ln1.head(1)"
   ]
  },
  {
   "cell_type": "code",
   "execution_count": 14,
   "id": "a2acc6c8",
   "metadata": {},
   "outputs": [],
   "source": [
    "gdf = gdp.GeoDataFrame(ln1, geometry= gdp.points_from_xy(ln1.Latitude, ln1.Longitude ))\n",
    "gdf.columns=['Name', 'Classification','Type','Country','Adress', \"Latitude\", \"Longitude\", \"location\", \"location2\" ]\n",
    "#Lo aplicamos a toda la columna\n",
    "gdf['location2']= gdf['location2'].apply(lambda x:shapely.geometry.mapping(x))"
   ]
  },
  {
   "cell_type": "code",
   "execution_count": 15,
   "id": "3a7045a0",
   "metadata": {},
   "outputs": [
    {
     "data": {
      "text/plain": [
       "<pymongo.results.InsertManyResult at 0x7fe7b8952540>"
      ]
     },
     "execution_count": 15,
     "metadata": {},
     "output_type": "execute_result"
    }
   ],
   "source": [
    "client = MongoClient()\n",
    "db = client.Ciudades\n",
    "collection = db.create_collection(name = \"London\")\n",
    "collection = db[\"London\"]\n",
    "collection.create_index([(\"location2\", \"2dsphere\")])\n",
    "data = gdf.to_dict(orient='records')\n",
    "collection.insert_many(data)"
   ]
  },
  {
   "cell_type": "code",
   "execution_count": 16,
   "id": "5db1912b",
   "metadata": {},
   "outputs": [],
   "source": [
    "# SINGAPORE"
   ]
  },
  {
   "cell_type": "code",
   "execution_count": 17,
   "id": "cc358b05",
   "metadata": {},
   "outputs": [],
   "source": [
    "gdf = gdp.GeoDataFrame(sg1, geometry= gdp.points_from_xy(sg1.Longitude, sg1.Latitude ))\n",
    "gdf.columns=['Name', 'Classification','Type','Country','Adress', \"Latitude\", \"Longitude\", \"location\", \"location2\" ]\n",
    "#Lo aplicamos a toda la columna\n",
    "gdf['location2']= gdf['location2'].apply(lambda x:shapely.geometry.mapping(x))"
   ]
  },
  {
   "cell_type": "code",
   "execution_count": 18,
   "id": "7abe8e15",
   "metadata": {},
   "outputs": [
    {
     "data": {
      "text/plain": [
       "<pymongo.results.InsertManyResult at 0x7fe7c0148c00>"
      ]
     },
     "execution_count": 18,
     "metadata": {},
     "output_type": "execute_result"
    }
   ],
   "source": [
    "collection = db.create_collection(name = \"Singapore\")\n",
    "collection = db[\"Singapore\"]\n",
    "collection.create_index([(\"location2\", \"2dsphere\")])\n",
    "data1 = gdf.to_dict(orient='records')\n",
    "collection.insert_many(data1)"
   ]
  },
  {
   "cell_type": "code",
   "execution_count": 19,
   "id": "54d396b3",
   "metadata": {},
   "outputs": [],
   "source": [
    "# SAN FRANCISCO"
   ]
  },
  {
   "cell_type": "code",
   "execution_count": 20,
   "id": "ecf755c8",
   "metadata": {},
   "outputs": [],
   "source": [
    "gdf = gdp.GeoDataFrame(sf1, geometry= gdp.points_from_xy(sf1.Longitude, sf1.Latitude ))\n",
    "gdf.columns=['Name', 'Classification','Type','Country','Adress', \"Latitude\", \"Longitude\", \"location\", \"location2\" ]\n",
    "#Lo aplicamos a toda la columna\n",
    "gdf['location2']= gdf['location2'].apply(lambda x:shapely.geometry.mapping(x))"
   ]
  },
  {
   "cell_type": "code",
   "execution_count": 21,
   "id": "6ae95daf",
   "metadata": {},
   "outputs": [
    {
     "data": {
      "text/plain": [
       "<pymongo.results.InsertManyResult at 0x7fe7a800c240>"
      ]
     },
     "execution_count": 21,
     "metadata": {},
     "output_type": "execute_result"
    }
   ],
   "source": [
    "collection = db.create_collection(name = \"San Francisco\")\n",
    "collection = db[\"San Francisco\"]\n",
    "collection.create_index([(\"location2\", \"2dsphere\")])\n",
    "data2 = gdf.to_dict(orient='records')\n",
    "collection.insert_many(data2)"
   ]
  },
  {
   "cell_type": "code",
   "execution_count": null,
   "id": "8fed2c7b",
   "metadata": {},
   "outputs": [],
   "source": []
  },
  {
   "cell_type": "code",
   "execution_count": null,
   "id": "e55889fc",
   "metadata": {},
   "outputs": [],
   "source": []
  },
  {
   "cell_type": "code",
   "execution_count": null,
   "id": "a27d8bfc",
   "metadata": {},
   "outputs": [],
   "source": []
  },
  {
   "cell_type": "code",
   "execution_count": null,
   "id": "f196ae2b",
   "metadata": {},
   "outputs": [],
   "source": []
  },
  {
   "cell_type": "code",
   "execution_count": null,
   "id": "45d89003",
   "metadata": {},
   "outputs": [],
   "source": []
  },
  {
   "cell_type": "code",
   "execution_count": null,
   "id": "2c84b894",
   "metadata": {},
   "outputs": [],
   "source": []
  },
  {
   "cell_type": "code",
   "execution_count": null,
   "id": "5bc25d5d",
   "metadata": {},
   "outputs": [],
   "source": []
  },
  {
   "cell_type": "code",
   "execution_count": null,
   "id": "13744cf5",
   "metadata": {},
   "outputs": [],
   "source": []
  }
 ],
 "metadata": {
  "kernelspec": {
   "display_name": "ironhack",
   "language": "python",
   "name": "ironhack"
  },
  "language_info": {
   "codemirror_mode": {
    "name": "ipython",
    "version": 3
   },
   "file_extension": ".py",
   "mimetype": "text/x-python",
   "name": "python",
   "nbconvert_exporter": "python",
   "pygments_lexer": "ipython3",
   "version": "3.8.11"
  }
 },
 "nbformat": 4,
 "nbformat_minor": 5
}
