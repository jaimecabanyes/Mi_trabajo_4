{
 "cells": [
  {
   "cell_type": "markdown",
   "id": "4a4a8961",
   "metadata": {},
   "source": [
    "# AJUSTAR LOS DATAFRAMES Y CONECTAR CON MONGODB"
   ]
  },
  {
   "cell_type": "markdown",
   "id": "4c0cef5b",
   "metadata": {},
   "source": [
    "# IMPORTAR LIBRERIAS "
   ]
  },
  {
   "cell_type": "code",
   "execution_count": 1,
   "id": "67a41262",
   "metadata": {},
   "outputs": [],
   "source": [
    "import requests\n",
    "import json\n",
    "from dotenv import load_dotenv\n",
    "import os\n",
    "import pandas as pd\n",
    "import pyjsonviewer\n",
    "import geopandas \n",
    "import shapely\n",
    "import pymongo as pym\n",
    "from pymongo import MongoClient,GEOSPHERE\n",
    "import shapely.geometry as shg\n",
    "import geopandas as gdp"
   ]
  },
  {
   "cell_type": "markdown",
   "id": "26d02ed0",
   "metadata": {},
   "source": [
    "# IMPORTAR TODOS LOS DATAFRAMES "
   ]
  },
  {
   "cell_type": "code",
   "execution_count": 2,
   "id": "d452f4c3",
   "metadata": {},
   "outputs": [],
   "source": [
    "london_schools =  pd.read_csv(\"Data/London/ln_schools.csv\")\n",
    "london_designing_companies =  pd.read_csv(\"Data/London/ln_desing.csv\")\n",
    "london_tech_startups =  pd.read_csv(\"Data/London/ln_tech_startups.csv\")\n",
    "london_leisure =  pd.read_csv(\"Data/London/ln_leisure.csv\")\n",
    "london_travelling_stations =  pd.read_csv(\"Data/London/ln_stations.csv\")\n",
    "london_parks =  pd.read_csv(\"Data/London/ln_parks.csv\")\n",
    "london_df_entero =  pd.read_csv(\"Data/London/ln_entero.csv\")"
   ]
  },
  {
   "cell_type": "code",
   "execution_count": 3,
   "id": "418606c6",
   "metadata": {},
   "outputs": [],
   "source": [
    "singapore_schools =  pd.read_csv(\"Data/Singapore/sg_schools.csv\")\n",
    "singapore_designing_companies =  pd.read_csv(\"Data/Singapore/sg_designco.csv\")\n",
    "singapore_tech_startups =  pd.read_csv(\"Data/Singapore/sg_techstar.csv\")\n",
    "singapore_leisure =  pd.read_csv(\"Data/Singapore/sg_leisure.csv\")\n",
    "singapore_travelling_stations =  pd.read_csv(\"Data/Singapore/sg_stations.csv\")\n",
    "singapore_parks =  pd.read_csv(\"Data/Singapore/sg_parks.csv\")\n",
    "singapore_df_entero =  pd.read_csv(\"Data/Singapore/sg_entero.csv\")"
   ]
  },
  {
   "cell_type": "code",
   "execution_count": 4,
   "id": "f0590ead",
   "metadata": {},
   "outputs": [],
   "source": [
    "sanfrancisco_schools =  pd.read_csv(\"Data/SanFrancisco/sf_schools.csv\")\n",
    "sanfrancisco_designing_companies =  pd.read_csv(\"Data/SanFrancisco/sf_design.csv\")\n",
    "sanfrancisco_tech_startups =  pd.read_csv(\"Data/SanFrancisco/sf_techstartups.csv\")\n",
    "sanfrancisco_leisure =  pd.read_csv(\"Data/SanFrancisco/sf_leisure.csv\")\n",
    "sanfrancisco_travelling_stations =  pd.read_csv(\"Data/SanFrancisco/sf_travelling.csv\")\n",
    "sanfrancisco_parks =  pd.read_csv(\"Data/SanFrancisco/sf_parks.csv\")\n",
    "sanfrancisco_df_entero =  pd.read_csv(\"Data/SanFrancisco/sf_entero.csv\")"
   ]
  },
  {
   "cell_type": "markdown",
   "id": "a200f721",
   "metadata": {},
   "source": [
    "# CAMBIAR DATAFRAMES Y METERLOS EN MONGODB"
   ]
  },
  {
   "cell_type": "code",
   "execution_count": 5,
   "id": "d16371b7",
   "metadata": {},
   "outputs": [
    {
     "data": {
      "text/plain": [
       "(355, 9)"
      ]
     },
     "execution_count": 5,
     "metadata": {},
     "output_type": "execute_result"
    }
   ],
   "source": [
    "london_df_entero.shape"
   ]
  },
  {
   "cell_type": "code",
   "execution_count": 6,
   "id": "b4c49dd4",
   "metadata": {},
   "outputs": [
    {
     "data": {
      "text/plain": [
       "(365, 9)"
      ]
     },
     "execution_count": 6,
     "metadata": {},
     "output_type": "execute_result"
    }
   ],
   "source": [
    "singapore_df_entero.shape"
   ]
  },
  {
   "cell_type": "code",
   "execution_count": 7,
   "id": "e4c0d797",
   "metadata": {},
   "outputs": [
    {
     "data": {
      "text/plain": [
       "(412, 9)"
      ]
     },
     "execution_count": 7,
     "metadata": {},
     "output_type": "execute_result"
    }
   ],
   "source": [
    "sanfrancisco_df_entero.shape"
   ]
  },
  {
   "cell_type": "code",
   "execution_count": 8,
   "id": "c8eea7a1",
   "metadata": {},
   "outputs": [
    {
     "name": "stdout",
     "output_type": "stream",
     "text": [
      "<class 'pandas.core.series.Series'>\n"
     ]
    }
   ],
   "source": [
    "print(type(sanfrancisco_df_entero['location']))"
   ]
  },
  {
   "cell_type": "markdown",
   "id": "95fbf3ff",
   "metadata": {},
   "source": [
    "# Quitar las columnas unamed"
   ]
  },
  {
   "cell_type": "code",
   "execution_count": 9,
   "id": "83eb4372",
   "metadata": {},
   "outputs": [],
   "source": [
    "ln1 = london_df_entero.drop(['Unnamed: 0'], axis=1)"
   ]
  },
  {
   "cell_type": "code",
   "execution_count": 10,
   "id": "a46fe9dd",
   "metadata": {},
   "outputs": [],
   "source": [
    "sf1 = sanfrancisco_df_entero.drop(['Unnamed: 0'], axis=1)"
   ]
  },
  {
   "cell_type": "code",
   "execution_count": 11,
   "id": "1a8342fe",
   "metadata": {
    "scrolled": true
   },
   "outputs": [],
   "source": [
    "sg1 = singapore_df_entero.drop(['Unnamed: 0'], axis=1)"
   ]
  },
  {
   "cell_type": "code",
   "execution_count": 12,
   "id": "8f40db25",
   "metadata": {},
   "outputs": [],
   "source": [
    "#LONDON"
   ]
  },
  {
   "cell_type": "code",
   "execution_count": 13,
   "id": "9f6e39e4",
   "metadata": {},
   "outputs": [
    {
     "data": {
      "text/html": [
       "<div>\n",
       "<style scoped>\n",
       "    .dataframe tbody tr th:only-of-type {\n",
       "        vertical-align: middle;\n",
       "    }\n",
       "\n",
       "    .dataframe tbody tr th {\n",
       "        vertical-align: top;\n",
       "    }\n",
       "\n",
       "    .dataframe thead th {\n",
       "        text-align: right;\n",
       "    }\n",
       "</style>\n",
       "<table border=\"1\" class=\"dataframe\">\n",
       "  <thead>\n",
       "    <tr style=\"text-align: right;\">\n",
       "      <th></th>\n",
       "      <th>Name</th>\n",
       "      <th>Classification</th>\n",
       "      <th>Type</th>\n",
       "      <th>Country</th>\n",
       "      <th>Adress</th>\n",
       "      <th>Latitude</th>\n",
       "      <th>Longitude</th>\n",
       "      <th>location</th>\n",
       "    </tr>\n",
       "  </thead>\n",
       "  <tbody>\n",
       "    <tr>\n",
       "      <th>0</th>\n",
       "      <td>Hatching Dragons</td>\n",
       "      <td>School</td>\n",
       "      <td>Nursery School</td>\n",
       "      <td>GB</td>\n",
       "      <td>1 Viscount Street</td>\n",
       "      <td>51.521599</td>\n",
       "      <td>-0.095356</td>\n",
       "      <td>{'type': 'Point', 'coordinates': (51.521599411...</td>\n",
       "    </tr>\n",
       "  </tbody>\n",
       "</table>\n",
       "</div>"
      ],
      "text/plain": [
       "               Name Classification            Type Country             Adress  \\\n",
       "0  Hatching Dragons         School  Nursery School      GB  1 Viscount Street   \n",
       "\n",
       "    Latitude  Longitude                                           location  \n",
       "0  51.521599  -0.095356  {'type': 'Point', 'coordinates': (51.521599411...  "
      ]
     },
     "execution_count": 13,
     "metadata": {},
     "output_type": "execute_result"
    }
   ],
   "source": [
    "ln1.head(1)"
   ]
  },
  {
   "cell_type": "code",
   "execution_count": 14,
   "id": "e7476d5b",
   "metadata": {},
   "outputs": [],
   "source": [
    "gdf = gdp.GeoDataFrame(ln1, geometry= gdp.points_from_xy(ln1.Longitude, ln1.Latitude ))\n",
    "gdf.columns=['Name', 'Classification','Type','Country','Adress', \"Latitude\", \"Longitude\", \"location\", \"location2\" ]\n",
    "#Lo aplicamos a toda la columna\n",
    "gdf['location2']= gdf['location2'].apply(lambda x:shapely.geometry.mapping(x))"
   ]
  },
  {
   "cell_type": "code",
   "execution_count": 15,
   "id": "d26c59d5",
   "metadata": {},
   "outputs": [
    {
     "data": {
      "text/plain": [
       "<pymongo.results.InsertManyResult at 0x7ff0528b8640>"
      ]
     },
     "execution_count": 15,
     "metadata": {},
     "output_type": "execute_result"
    }
   ],
   "source": [
    "client = MongoClient()\n",
    "db = client.Ciudades\n",
    "collection = db.create_collection(name = \"London\")\n",
    "collection = db[\"London\"]\n",
    "collection.create_index([(\"location2\", \"2dsphere\")])\n",
    "data = gdf.to_dict(orient='records')\n",
    "collection.insert_many(data)"
   ]
  },
  {
   "cell_type": "code",
   "execution_count": 16,
   "id": "1405e152",
   "metadata": {},
   "outputs": [],
   "source": [
    "# SINGAPORE"
   ]
  },
  {
   "cell_type": "code",
   "execution_count": 17,
   "id": "0516fde9",
   "metadata": {},
   "outputs": [],
   "source": [
    "gdf = gdp.GeoDataFrame(sg1, geometry= gdp.points_from_xy(sg1.Longitude, sg1.Latitude ))\n",
    "gdf.columns=['Name', 'Classification','Type','Country','Adress', \"Latitude\", \"Longitude\", \"location\", \"location2\" ]\n",
    "#Lo aplicamos a toda la columna\n",
    "gdf['location2']= gdf['location2'].apply(lambda x:shapely.geometry.mapping(x))"
   ]
  },
  {
   "cell_type": "code",
   "execution_count": 18,
   "id": "93e43588",
   "metadata": {},
   "outputs": [
    {
     "data": {
      "text/plain": [
       "<pymongo.results.InsertManyResult at 0x7ff052918240>"
      ]
     },
     "execution_count": 18,
     "metadata": {},
     "output_type": "execute_result"
    }
   ],
   "source": [
    "collection = db.create_collection(name = \"Singapore\")\n",
    "collection = db[\"Singapore\"]\n",
    "collection.create_index([(\"location2\", \"2dsphere\")])\n",
    "data1 = gdf.to_dict(orient='records')\n",
    "collection.insert_many(data1)"
   ]
  },
  {
   "cell_type": "code",
   "execution_count": 19,
   "id": "0636291d",
   "metadata": {},
   "outputs": [],
   "source": [
    "# SAN FRANCISCO"
   ]
  },
  {
   "cell_type": "code",
   "execution_count": 20,
   "id": "0ecaa7fc",
   "metadata": {},
   "outputs": [],
   "source": [
    "gdf = gdp.GeoDataFrame(sf1, geometry= gdp.points_from_xy(sf1.Longitude, sf1.Latitude ))\n",
    "gdf.columns=['Name', 'Classification','Type','Country','Adress', \"Latitude\", \"Longitude\", \"location\", \"location2\" ]\n",
    "#Lo aplicamos a toda la columna\n",
    "gdf['location2']= gdf['location2'].apply(lambda x:shapely.geometry.mapping(x))"
   ]
  },
  {
   "cell_type": "code",
   "execution_count": 21,
   "id": "9544efe3",
   "metadata": {},
   "outputs": [
    {
     "data": {
      "text/plain": [
       "<pymongo.results.InsertManyResult at 0x7ff010020780>"
      ]
     },
     "execution_count": 21,
     "metadata": {},
     "output_type": "execute_result"
    }
   ],
   "source": [
    "collection = db.create_collection(name = \"San Francisco\")\n",
    "collection = db[\"San Francisco\"]\n",
    "collection.create_index([(\"location2\", \"2dsphere\")])\n",
    "data2 = gdf.to_dict(orient='records')\n",
    "collection.insert_many(data2)"
   ]
  },
  {
   "cell_type": "code",
   "execution_count": null,
   "id": "fbfaa9de",
   "metadata": {},
   "outputs": [],
   "source": []
  },
  {
   "cell_type": "code",
   "execution_count": null,
   "id": "b011faca",
   "metadata": {},
   "outputs": [],
   "source": []
  },
  {
   "cell_type": "code",
   "execution_count": null,
   "id": "9340aa0c",
   "metadata": {},
   "outputs": [],
   "source": []
  },
  {
   "cell_type": "code",
   "execution_count": null,
   "id": "51cefd7a",
   "metadata": {},
   "outputs": [],
   "source": []
  },
  {
   "cell_type": "code",
   "execution_count": null,
   "id": "0c01036e",
   "metadata": {},
   "outputs": [],
   "source": []
  },
  {
   "cell_type": "code",
   "execution_count": null,
   "id": "50af305f",
   "metadata": {},
   "outputs": [],
   "source": []
  },
  {
   "cell_type": "code",
   "execution_count": null,
   "id": "91df8a18",
   "metadata": {},
   "outputs": [],
   "source": []
  },
  {
   "cell_type": "code",
   "execution_count": null,
   "id": "6099c273",
   "metadata": {},
   "outputs": [],
   "source": []
  }
 ],
 "metadata": {
  "kernelspec": {
   "display_name": "ironhack",
   "language": "python",
   "name": "ironhack"
  },
  "language_info": {
   "codemirror_mode": {
    "name": "ipython",
    "version": 3
   },
   "file_extension": ".py",
   "mimetype": "text/x-python",
   "name": "python",
   "nbconvert_exporter": "python",
   "pygments_lexer": "ipython3",
   "version": "3.8.11"
  }
 },
 "nbformat": 4,
 "nbformat_minor": 5
}
