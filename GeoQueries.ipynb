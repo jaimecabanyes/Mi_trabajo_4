{
 "cells": [
  {
   "cell_type": "markdown",
   "id": "23e345dd",
   "metadata": {},
   "source": [
    "# GEOQUERIES"
   ]
  },
  {
   "cell_type": "code",
   "execution_count": 1,
   "id": "42006073",
   "metadata": {},
   "outputs": [],
   "source": [
    "from pymongo import MongoClient\n",
    "from pymongo import GEOSPHERE\n",
    "import json\n",
    "import pandas as pd\n",
    "from dotenv import load_dotenv\n",
    "import os\n",
    "import requests\n",
    "import geopandas as gpd"
   ]
  },
  {
   "cell_type": "code",
   "execution_count": 2,
   "id": "e0080ff8",
   "metadata": {},
   "outputs": [],
   "source": [
    "london_loc = {'type': 'Point', 'coordinates':[ -0.0870022262169723, 51.520624794291884]}\n",
    "singapore_loc = {'type': 'Point', 'coordinates':[103.84868192263733, 1.2862863534171092]}\n",
    "san_francisco_loc = {'type': 'Point', 'coordinates':[ -122.41049370727525,37.79787988216447]}"
   ]
  },
  {
   "cell_type": "code",
   "execution_count": 3,
   "id": "3ca352e4",
   "metadata": {},
   "outputs": [],
   "source": [
    "metros = 2500"
   ]
  },
  {
   "cell_type": "code",
   "execution_count": 4,
   "id": "38cc1194",
   "metadata": {},
   "outputs": [],
   "source": [
    "#Crear la conexión con el database de Londres dentro de MongoDB\n",
    "client = MongoClient(\"localhost:27017\")\n",
    "db = client.get_database(\"Ciudades\")"
   ]
  },
  {
   "cell_type": "code",
   "execution_count": 5,
   "id": "764d1a00",
   "metadata": {},
   "outputs": [],
   "source": [
    "ln = db.get_collection(\"London\")\n",
    "sg = db.get_collection(\"Singapore\")\n",
    "sf = db.get_collection(\"San Francisco\")\n"
   ]
  },
  {
   "cell_type": "markdown",
   "id": "78418ea9",
   "metadata": {},
   "source": [
    "# LONDON"
   ]
  },
  {
   "cell_type": "code",
   "execution_count": 6,
   "id": "107104bd",
   "metadata": {},
   "outputs": [],
   "source": [
    "query = {\"location2\": {\"$near\": {\"$geometry\": london_loc,\"$minDistance\":0,\"$maxDistance\": 1000}}}\n"
   ]
  },
  {
   "cell_type": "code",
   "execution_count": 7,
   "id": "aa4f9cce",
   "metadata": {},
   "outputs": [
    {
     "data": {
      "text/plain": [
       "184"
      ]
     },
     "execution_count": 7,
     "metadata": {},
     "output_type": "execute_result"
    }
   ],
   "source": [
    "len(list(ln.find(query)))"
   ]
  },
  {
   "cell_type": "code",
   "execution_count": 13,
   "id": "349c2f8e",
   "metadata": {},
   "outputs": [],
   "source": [
    " a = list(ln.find({\"Classification\": \"School\"}))"
   ]
  },
  {
   "cell_type": "code",
   "execution_count": 14,
   "id": "4db860fd",
   "metadata": {},
   "outputs": [],
   "source": [
    "query = {\"location2\": {\"$near\": {\"$geometry\": london_loc,\"$minDistance\":0,\"$maxDistance\": 1000}}}"
   ]
  },
  {
   "cell_type": "code",
   "execution_count": 15,
   "id": "211dde19",
   "metadata": {},
   "outputs": [],
   "source": [
    "def distancia(colect, coords):\n",
    "    client = MongoClient(\"localhost:27017\")\n",
    "    db = client.get_database(\"Ciudades\")\n",
    "    colec = db.get_collection(f\"{colect}\")\n",
    "    query = [{\n",
    "        '$geoNear': {'near': [coords[1],coords[0]],\n",
    "            'distanceField': 'distancia(km)',\n",
    "            'maxDistance': 10000,\n",
    "            'query': {'type': {'$regex': f'(?i){venue}'}},\n",
    "            'distanceMultiplier': 6371.008,\n",
    "            #'includeLocs': \"dist.location\",\n",
    "            'spherical': True,\n",
    "            }\n",
    "        }]\n",
    "    geoloc = colec.aggregate(query)\n",
    "    df = pd.DataFrame(geoloc)\n",
    "    media = df['distancia(km)'].mean()\n",
    "    mini = df['distancia(km)'].min()\n",
    "    return {'media':media,'minima':mini}"
   ]
  },
  {
   "cell_type": "code",
   "execution_count": 16,
   "id": "083241da",
   "metadata": {},
   "outputs": [
    {
     "ename": "KeyError",
     "evalue": "1",
     "output_type": "error",
     "traceback": [
      "\u001b[0;31m---------------------------------------------------------------------------\u001b[0m",
      "\u001b[0;31mKeyError\u001b[0m                                  Traceback (most recent call last)",
      "\u001b[0;32m/var/folders/f9/ww50zmn51ylc9hycc8vysr9c0000gn/T/ipykernel_1502/3531282000.py\u001b[0m in \u001b[0;36m<module>\u001b[0;34m\u001b[0m\n\u001b[0;32m----> 1\u001b[0;31m \u001b[0mdistancia\u001b[0m\u001b[0;34m(\u001b[0m\u001b[0mln\u001b[0m\u001b[0;34m,\u001b[0m \u001b[0mlondon_loc\u001b[0m\u001b[0;34m)\u001b[0m\u001b[0;34m\u001b[0m\u001b[0;34m\u001b[0m\u001b[0m\n\u001b[0m",
      "\u001b[0;32m/var/folders/f9/ww50zmn51ylc9hycc8vysr9c0000gn/T/ipykernel_1502/725553335.py\u001b[0m in \u001b[0;36mdistancia\u001b[0;34m(colect, coords)\u001b[0m\n\u001b[1;32m      4\u001b[0m     \u001b[0mcolec\u001b[0m \u001b[0;34m=\u001b[0m \u001b[0mdb\u001b[0m\u001b[0;34m.\u001b[0m\u001b[0mget_collection\u001b[0m\u001b[0;34m(\u001b[0m\u001b[0;34mf\"{colect}\"\u001b[0m\u001b[0;34m)\u001b[0m\u001b[0;34m\u001b[0m\u001b[0;34m\u001b[0m\u001b[0m\n\u001b[1;32m      5\u001b[0m     query = [{\n\u001b[0;32m----> 6\u001b[0;31m         '$geoNear': {'near': [coords[1],coords[0]],\n\u001b[0m\u001b[1;32m      7\u001b[0m             \u001b[0;34m'distanceField'\u001b[0m\u001b[0;34m:\u001b[0m \u001b[0;34m'distancia(km)'\u001b[0m\u001b[0;34m,\u001b[0m\u001b[0;34m\u001b[0m\u001b[0;34m\u001b[0m\u001b[0m\n\u001b[1;32m      8\u001b[0m             \u001b[0;34m'maxDistance'\u001b[0m\u001b[0;34m:\u001b[0m \u001b[0;36m10000\u001b[0m\u001b[0;34m,\u001b[0m\u001b[0;34m\u001b[0m\u001b[0;34m\u001b[0m\u001b[0m\n",
      "\u001b[0;31mKeyError\u001b[0m: 1"
     ]
    }
   ],
   "source": [
    "distancia(ln, london_loc)"
   ]
  },
  {
   "cell_type": "code",
   "execution_count": null,
   "id": "ec6c58e5",
   "metadata": {},
   "outputs": [],
   "source": []
  }
 ],
 "metadata": {
  "kernelspec": {
   "display_name": "ironhack",
   "language": "python",
   "name": "ironhack"
  },
  "language_info": {
   "codemirror_mode": {
    "name": "ipython",
    "version": 3
   },
   "file_extension": ".py",
   "mimetype": "text/x-python",
   "name": "python",
   "nbconvert_exporter": "python",
   "pygments_lexer": "ipython3",
   "version": "3.8.11"
  }
 },
 "nbformat": 4,
 "nbformat_minor": 5
}
