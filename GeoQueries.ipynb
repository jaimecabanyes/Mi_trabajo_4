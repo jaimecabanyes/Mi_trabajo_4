{
 "cells": [
  {
   "cell_type": "markdown",
   "id": "23e345dd",
   "metadata": {},
   "source": [
    "# GEOQUERIES"
   ]
  },
  {
   "cell_type": "code",
   "execution_count": 1,
   "id": "42006073",
   "metadata": {},
   "outputs": [],
   "source": [
    "from pymongo import MongoClient\n",
    "from pymongo import GEOSPHERE\n",
    "import json\n",
    "import pandas as pd\n",
    "from dotenv import load_dotenv\n",
    "import os\n",
    "import requests\n",
    "import geopandas as gpd\n",
    "import folium\n",
    "from folium import Choropleth, Circle, Marker, Icon, Map\n",
    "from folium.plugins import HeatMap, MarkerCluster\n",
    "from bson.json_util import dumps\n",
    "import numpy as np"
   ]
  },
  {
   "cell_type": "code",
   "execution_count": 2,
   "id": "e0080ff8",
   "metadata": {},
   "outputs": [],
   "source": [
    "#london_loc = {'type': 'Point', 'coordinates':[ -0.0870022262169723, 51.520624794291884]}\n",
    "#singapore_loc = {'type': 'Point', 'coordinates':[103.84868192263733, 1.2862863534171092]}\n",
    "#san_francisco_loc = {'type': 'Point', 'coordinates':[ -122.41049370727525,37.79787988216447]}\n",
    "london_loc1 = [-0.0870022262169723, 51.520624794291884]\n",
    "singapore_loc1 = [103.84868192263733, 1.2862863534171092]\n",
    "san_francisco_loc1 =[ -122.41049370727525,37.79787988216447]"
   ]
  },
  {
   "cell_type": "code",
   "execution_count": 3,
   "id": "3ca352e4",
   "metadata": {},
   "outputs": [],
   "source": [
    "metros = 2500"
   ]
  },
  {
   "cell_type": "code",
   "execution_count": 4,
   "id": "38cc1194",
   "metadata": {},
   "outputs": [],
   "source": [
    "#Crear la conexión con el database de Londres dentro de MongoDB\n",
    "client = MongoClient(\"localhost:27017\")\n",
    "db = client.get_database(\"Ciudades\")"
   ]
  },
  {
   "cell_type": "code",
   "execution_count": 5,
   "id": "764d1a00",
   "metadata": {},
   "outputs": [],
   "source": [
    "ln = db.get_collection(\"London\")\n",
    "sg = db.get_collection(\"Singapore\")\n",
    "sf = db.get_collection(\"San Francisco\")\n"
   ]
  },
  {
   "cell_type": "markdown",
   "id": "ba4d8a2b",
   "metadata": {},
   "source": [
    "# FUNCIONES"
   ]
  },
  {
   "cell_type": "code",
   "execution_count": 6,
   "id": "70842b5a",
   "metadata": {},
   "outputs": [],
   "source": [
    "'''\n",
    "Esta función recibe la coleccion con la que quieres trabajar, la localizacion establecida, el maximo de distancia\n",
    "que quieres y la classificación que quieres buscar.\n",
    "Te devuelve sitios cercanos a la ubicación ajustandose a las condiciones(maxima distancia, por classificacion y por\n",
    "localización)\n",
    "\n",
    "'''\n",
    "def coger_sitios_cercanos(collection, location, Classification, max_distance):\n",
    "    var_schools = {\"$and\":[{\"location2\": {\"$near\": {\"$geometry\": location,\"$minDistance\":0,\"$maxDistance\": max_distance}}},{\"Classification\": f'{Classification}'}]}\n",
    "    encontrar_colegios = collection.find(var_schools)\n",
    "    return list(encontrar_colegios)\n",
    "    "
   ]
  },
  {
   "cell_type": "code",
   "execution_count": 7,
   "id": "1feee232",
   "metadata": {},
   "outputs": [],
   "source": [
    "#Tipos de classificación/Type\n",
    "#1. School: Type\n",
    "#2. Technological Startups\n",
    "#3. Designing Studios\n",
    "#4. Leisure Places\n",
    "#5. Travelling Stations\n",
    "#6. Parks"
   ]
  },
  {
   "cell_type": "code",
   "execution_count": 8,
   "id": "c448349a",
   "metadata": {
    "scrolled": false
   },
   "outputs": [],
   "source": [
    "# A esta función entra la collection de mongoDB con la que queremos trabajar y la localización establecida.\n",
    "# Esta función nos crea un dataframe nuevo con la distacia de cada sitio a la localización establecida. \n",
    "def get_distances(collection, location1):\n",
    "    query = [{'$geoNear':{'near':location1,\n",
    "    'distanceField' : \"distance\",\n",
    "    'maxDistance': 1,\n",
    "    'distanceMultiplier': 6371*1000 ,\n",
    "    'spherical': True}}]\n",
    "    geoloc = collection.aggregate(query)\n",
    "    response_json = json.loads(dumps(geoloc))\n",
    "    df = pd.DataFrame(response_json)\n",
    "    df1 = df[['Name', 'Classification', 'Type', 'Country', 'Adress', 'Latitude', 'Longitude', 'location2', 'distance']]\n",
    "    return df1\n",
    "    \n"
   ]
  },
  {
   "cell_type": "code",
   "execution_count": 9,
   "id": "9c105702",
   "metadata": {},
   "outputs": [],
   "source": [
    "# En estas 3 variables, tenemos el dataframe con la distacia a nuestro punto inicial en metros.\n",
    "london_distances = get_distances(ln, london_loc1)\n",
    "san_francisco_distances = get_distances(sf, san_francisco_loc1)\n",
    "singapore_distances = get_distances(sg, singapore_loc1)"
   ]
  },
  {
   "cell_type": "code",
   "execution_count": 10,
   "id": "5f8ebf07",
   "metadata": {},
   "outputs": [
    {
     "data": {
      "text/html": [
       "<div>\n",
       "<style scoped>\n",
       "    .dataframe tbody tr th:only-of-type {\n",
       "        vertical-align: middle;\n",
       "    }\n",
       "\n",
       "    .dataframe tbody tr th {\n",
       "        vertical-align: top;\n",
       "    }\n",
       "\n",
       "    .dataframe thead th {\n",
       "        text-align: right;\n",
       "    }\n",
       "</style>\n",
       "<table border=\"1\" class=\"dataframe\">\n",
       "  <thead>\n",
       "    <tr style=\"text-align: right;\">\n",
       "      <th></th>\n",
       "      <th>Name</th>\n",
       "      <th>Classification</th>\n",
       "      <th>Type</th>\n",
       "      <th>Country</th>\n",
       "      <th>Adress</th>\n",
       "      <th>Latitude</th>\n",
       "      <th>Longitude</th>\n",
       "      <th>location2</th>\n",
       "      <th>distance</th>\n",
       "    </tr>\n",
       "  </thead>\n",
       "  <tbody>\n",
       "    <tr>\n",
       "      <th>0</th>\n",
       "      <td>Finsbury Square</td>\n",
       "      <td>Parks</td>\n",
       "      <td>Park</td>\n",
       "      <td>GB</td>\n",
       "      <td>Finsbury Sq (Finsbury Pavement)</td>\n",
       "      <td>51.520694</td>\n",
       "      <td>-0.086512</td>\n",
       "      <td>{'type': 'Point', 'coordinates': [-0.086511969...</td>\n",
       "      <td>34.776274</td>\n",
       "    </tr>\n",
       "    <tr>\n",
       "      <th>1</th>\n",
       "      <td>Finch's</td>\n",
       "      <td>Leisure Places</td>\n",
       "      <td>Pub</td>\n",
       "      <td>GB</td>\n",
       "      <td>12A Finsbury Sq (City Rd)</td>\n",
       "      <td>51.521709</td>\n",
       "      <td>-0.087048</td>\n",
       "      <td>{'type': 'Point', 'coordinates': [-0.087048251...</td>\n",
       "      <td>120.590198</td>\n",
       "    </tr>\n",
       "  </tbody>\n",
       "</table>\n",
       "</div>"
      ],
      "text/plain": [
       "              Name  Classification  Type Country  \\\n",
       "0  Finsbury Square           Parks  Park      GB   \n",
       "1          Finch's  Leisure Places   Pub      GB   \n",
       "\n",
       "                            Adress   Latitude  Longitude  \\\n",
       "0  Finsbury Sq (Finsbury Pavement)  51.520694  -0.086512   \n",
       "1        12A Finsbury Sq (City Rd)  51.521709  -0.087048   \n",
       "\n",
       "                                           location2    distance  \n",
       "0  {'type': 'Point', 'coordinates': [-0.086511969...   34.776274  \n",
       "1  {'type': 'Point', 'coordinates': [-0.087048251...  120.590198  "
      ]
     },
     "execution_count": 10,
     "metadata": {},
     "output_type": "execute_result"
    }
   ],
   "source": [
    "london_distances.head(2)"
   ]
  },
  {
   "cell_type": "code",
   "execution_count": 11,
   "id": "9550ff0d",
   "metadata": {},
   "outputs": [
    {
     "data": {
      "text/html": [
       "<div>\n",
       "<style scoped>\n",
       "    .dataframe tbody tr th:only-of-type {\n",
       "        vertical-align: middle;\n",
       "    }\n",
       "\n",
       "    .dataframe tbody tr th {\n",
       "        vertical-align: top;\n",
       "    }\n",
       "\n",
       "    .dataframe thead th {\n",
       "        text-align: right;\n",
       "    }\n",
       "</style>\n",
       "<table border=\"1\" class=\"dataframe\">\n",
       "  <thead>\n",
       "    <tr style=\"text-align: right;\">\n",
       "      <th></th>\n",
       "      <th>Name</th>\n",
       "      <th>Classification</th>\n",
       "      <th>Type</th>\n",
       "      <th>Country</th>\n",
       "      <th>Adress</th>\n",
       "      <th>Latitude</th>\n",
       "      <th>Longitude</th>\n",
       "      <th>location2</th>\n",
       "      <th>distance</th>\n",
       "    </tr>\n",
       "  </thead>\n",
       "  <tbody>\n",
       "    <tr>\n",
       "      <th>0</th>\n",
       "      <td>Jean Parker Elementary</td>\n",
       "      <td>School</td>\n",
       "      <td>Elementary School</td>\n",
       "      <td>US</td>\n",
       "      <td>840 Broadway</td>\n",
       "      <td>37.797641</td>\n",
       "      <td>-122.411043</td>\n",
       "      <td>{'type': 'Point', 'coordinates': [-122.411043,...</td>\n",
       "      <td>55.089767</td>\n",
       "    </tr>\n",
       "    <tr>\n",
       "      <th>1</th>\n",
       "      <td>Broadway Tunnel East Mini Park</td>\n",
       "      <td>Parks</td>\n",
       "      <td>Park</td>\n",
       "      <td>US</td>\n",
       "      <td>967 Broadway (at Himmelman)</td>\n",
       "      <td>37.797354</td>\n",
       "      <td>-122.410502</td>\n",
       "      <td>{'type': 'Point', 'coordinates': [-122.4105024...</td>\n",
       "      <td>58.444345</td>\n",
       "    </tr>\n",
       "  </tbody>\n",
       "</table>\n",
       "</div>"
      ],
      "text/plain": [
       "                             Name Classification               Type Country  \\\n",
       "0          Jean Parker Elementary         School  Elementary School      US   \n",
       "1  Broadway Tunnel East Mini Park          Parks               Park      US   \n",
       "\n",
       "                        Adress   Latitude   Longitude  \\\n",
       "0                 840 Broadway  37.797641 -122.411043   \n",
       "1  967 Broadway (at Himmelman)  37.797354 -122.410502   \n",
       "\n",
       "                                           location2   distance  \n",
       "0  {'type': 'Point', 'coordinates': [-122.411043,...  55.089767  \n",
       "1  {'type': 'Point', 'coordinates': [-122.4105024...  58.444345  "
      ]
     },
     "execution_count": 11,
     "metadata": {},
     "output_type": "execute_result"
    }
   ],
   "source": [
    "san_francisco_distances.head(2)"
   ]
  },
  {
   "cell_type": "code",
   "execution_count": 12,
   "id": "962a65f2",
   "metadata": {
    "scrolled": true
   },
   "outputs": [
    {
     "data": {
      "text/html": [
       "<div>\n",
       "<style scoped>\n",
       "    .dataframe tbody tr th:only-of-type {\n",
       "        vertical-align: middle;\n",
       "    }\n",
       "\n",
       "    .dataframe tbody tr th {\n",
       "        vertical-align: top;\n",
       "    }\n",
       "\n",
       "    .dataframe thead th {\n",
       "        text-align: right;\n",
       "    }\n",
       "</style>\n",
       "<table border=\"1\" class=\"dataframe\">\n",
       "  <thead>\n",
       "    <tr style=\"text-align: right;\">\n",
       "      <th></th>\n",
       "      <th>Name</th>\n",
       "      <th>Classification</th>\n",
       "      <th>Type</th>\n",
       "      <th>Country</th>\n",
       "      <th>Adress</th>\n",
       "      <th>Latitude</th>\n",
       "      <th>Longitude</th>\n",
       "      <th>location2</th>\n",
       "      <th>distance</th>\n",
       "    </tr>\n",
       "  </thead>\n",
       "  <tbody>\n",
       "    <tr>\n",
       "      <th>0</th>\n",
       "      <td>Liquid 40</td>\n",
       "      <td>Leisure Places</td>\n",
       "      <td>Pub</td>\n",
       "      <td>SG</td>\n",
       "      <td>Circular Rd</td>\n",
       "      <td>1.286381</td>\n",
       "      <td>103.848842</td>\n",
       "      <td>{'type': 'Point', 'coordinates': [103.84884158...</td>\n",
       "      <td>20.615074</td>\n",
       "    </tr>\n",
       "    <tr>\n",
       "      <th>1</th>\n",
       "      <td>Audition pub</td>\n",
       "      <td>Leisure Places</td>\n",
       "      <td>Pub</td>\n",
       "      <td>SG</td>\n",
       "      <td>76 Circular Road</td>\n",
       "      <td>1.286644</td>\n",
       "      <td>103.848966</td>\n",
       "      <td>{'type': 'Point', 'coordinates': [103.84896614...</td>\n",
       "      <td>50.772528</td>\n",
       "    </tr>\n",
       "  </tbody>\n",
       "</table>\n",
       "</div>"
      ],
      "text/plain": [
       "           Name  Classification Type Country            Adress  Latitude  \\\n",
       "0     Liquid 40  Leisure Places  Pub      SG       Circular Rd  1.286381   \n",
       "1  Audition pub  Leisure Places  Pub      SG  76 Circular Road  1.286644   \n",
       "\n",
       "    Longitude                                          location2   distance  \n",
       "0  103.848842  {'type': 'Point', 'coordinates': [103.84884158...  20.615074  \n",
       "1  103.848966  {'type': 'Point', 'coordinates': [103.84896614...  50.772528  "
      ]
     },
     "execution_count": 12,
     "metadata": {},
     "output_type": "execute_result"
    }
   ],
   "source": [
    "singapore_distances.head(2)"
   ]
  },
  {
   "cell_type": "code",
   "execution_count": 13,
   "id": "43641dcc",
   "metadata": {},
   "outputs": [
    {
     "data": {
      "text/html": [
       "<div>\n",
       "<style scoped>\n",
       "    .dataframe tbody tr th:only-of-type {\n",
       "        vertical-align: middle;\n",
       "    }\n",
       "\n",
       "    .dataframe tbody tr th {\n",
       "        vertical-align: top;\n",
       "    }\n",
       "\n",
       "    .dataframe thead th {\n",
       "        text-align: right;\n",
       "    }\n",
       "</style>\n",
       "<table border=\"1\" class=\"dataframe\">\n",
       "  <thead>\n",
       "    <tr style=\"text-align: right;\">\n",
       "      <th></th>\n",
       "      <th>Name</th>\n",
       "      <th>Classification</th>\n",
       "      <th>Type</th>\n",
       "      <th>Country</th>\n",
       "      <th>Adress</th>\n",
       "      <th>Latitude</th>\n",
       "      <th>Longitude</th>\n",
       "      <th>location2</th>\n",
       "      <th>distance</th>\n",
       "    </tr>\n",
       "  </thead>\n",
       "  <tbody>\n",
       "    <tr>\n",
       "      <th>0</th>\n",
       "      <td>Finsbury Square</td>\n",
       "      <td>Parks</td>\n",
       "      <td>Park</td>\n",
       "      <td>GB</td>\n",
       "      <td>Finsbury Sq (Finsbury Pavement)</td>\n",
       "      <td>51.520694</td>\n",
       "      <td>-0.086512</td>\n",
       "      <td>{'type': 'Point', 'coordinates': [-0.086511969...</td>\n",
       "      <td>34.776274</td>\n",
       "    </tr>\n",
       "    <tr>\n",
       "      <th>1</th>\n",
       "      <td>Finch's</td>\n",
       "      <td>Leisure Places</td>\n",
       "      <td>Pub</td>\n",
       "      <td>GB</td>\n",
       "      <td>12A Finsbury Sq (City Rd)</td>\n",
       "      <td>51.521709</td>\n",
       "      <td>-0.087048</td>\n",
       "      <td>{'type': 'Point', 'coordinates': [-0.087048251...</td>\n",
       "      <td>120.590198</td>\n",
       "    </tr>\n",
       "    <tr>\n",
       "      <th>2</th>\n",
       "      <td>The Flying Horse</td>\n",
       "      <td>Leisure Places</td>\n",
       "      <td>Pub</td>\n",
       "      <td>GB</td>\n",
       "      <td>52 Wilson St (Sun St)</td>\n",
       "      <td>51.520375</td>\n",
       "      <td>-0.085176</td>\n",
       "      <td>{'type': 'Point', 'coordinates': [-0.085176182...</td>\n",
       "      <td>129.349477</td>\n",
       "    </tr>\n",
       "    <tr>\n",
       "      <th>3</th>\n",
       "      <td>Singer Tavern</td>\n",
       "      <td>Leisure Places</td>\n",
       "      <td>Bar</td>\n",
       "      <td>GB</td>\n",
       "      <td>1 City Rd</td>\n",
       "      <td>51.522259</td>\n",
       "      <td>-0.086933</td>\n",
       "      <td>{'type': 'Point', 'coordinates': [-0.086932681...</td>\n",
       "      <td>181.762518</td>\n",
       "    </tr>\n",
       "    <tr>\n",
       "      <th>4</th>\n",
       "      <td>Red Lion</td>\n",
       "      <td>Leisure Places</td>\n",
       "      <td>Pub</td>\n",
       "      <td>GB</td>\n",
       "      <td>1 Eldon St (South Pl)</td>\n",
       "      <td>51.518843</td>\n",
       "      <td>-0.086181</td>\n",
       "      <td>{'type': 'Point', 'coordinates': [-0.086181312...</td>\n",
       "      <td>206.137330</td>\n",
       "    </tr>\n",
       "    <tr>\n",
       "      <th>...</th>\n",
       "      <td>...</td>\n",
       "      <td>...</td>\n",
       "      <td>...</td>\n",
       "      <td>...</td>\n",
       "      <td>...</td>\n",
       "      <td>...</td>\n",
       "      <td>...</td>\n",
       "      <td>...</td>\n",
       "      <td>...</td>\n",
       "    </tr>\n",
       "    <tr>\n",
       "      <th>350</th>\n",
       "      <td>Bright Horizons Mount Carmel Day Nursery and P...</td>\n",
       "      <td>School</td>\n",
       "      <td>Nursery School</td>\n",
       "      <td>GB</td>\n",
       "      <td>18 Eden Grove</td>\n",
       "      <td>51.551394</td>\n",
       "      <td>-0.112786</td>\n",
       "      <td>{'type': 'Point', 'coordinates': [-0.112786369...</td>\n",
       "      <td>3858.263739</td>\n",
       "    </tr>\n",
       "    <tr>\n",
       "      <th>351</th>\n",
       "      <td>Monkey Puzzle Day Nursery</td>\n",
       "      <td>School</td>\n",
       "      <td>Nursery School</td>\n",
       "      <td>GB</td>\n",
       "      <td>Loxfords House, Highbury Park, N5</td>\n",
       "      <td>51.556389</td>\n",
       "      <td>-0.098601</td>\n",
       "      <td>{'type': 'Point', 'coordinates': [-0.098600901...</td>\n",
       "      <td>4056.887769</td>\n",
       "    </tr>\n",
       "    <tr>\n",
       "      <th>352</th>\n",
       "      <td>City Academy Hackney</td>\n",
       "      <td>School</td>\n",
       "      <td>High School</td>\n",
       "      <td>GB</td>\n",
       "      <td>Homerton Row</td>\n",
       "      <td>51.548704</td>\n",
       "      <td>-0.048845</td>\n",
       "      <td>{'type': 'Point', 'coordinates': [-0.048845102...</td>\n",
       "      <td>4088.335992</td>\n",
       "    </tr>\n",
       "    <tr>\n",
       "      <th>353</th>\n",
       "      <td>Camden School for Girls</td>\n",
       "      <td>School</td>\n",
       "      <td>High School</td>\n",
       "      <td>GB</td>\n",
       "      <td>Sandall Street</td>\n",
       "      <td>51.547697</td>\n",
       "      <td>-0.134395</td>\n",
       "      <td>{'type': 'Point', 'coordinates': [-0.134395257...</td>\n",
       "      <td>4450.610518</td>\n",
       "    </tr>\n",
       "    <tr>\n",
       "      <th>354</th>\n",
       "      <td>Tufnel Park School</td>\n",
       "      <td>School</td>\n",
       "      <td>Middle School</td>\n",
       "      <td>GB</td>\n",
       "      <td>United Kingdom</td>\n",
       "      <td>51.554251</td>\n",
       "      <td>-0.129383</td>\n",
       "      <td>{'type': 'Point', 'coordinates': [-0.129382830...</td>\n",
       "      <td>4751.047531</td>\n",
       "    </tr>\n",
       "  </tbody>\n",
       "</table>\n",
       "<p>355 rows × 9 columns</p>\n",
       "</div>"
      ],
      "text/plain": [
       "                                                  Name  Classification  \\\n",
       "0                                      Finsbury Square           Parks   \n",
       "1                                              Finch's  Leisure Places   \n",
       "2                                     The Flying Horse  Leisure Places   \n",
       "3                                        Singer Tavern  Leisure Places   \n",
       "4                                             Red Lion  Leisure Places   \n",
       "..                                                 ...             ...   \n",
       "350  Bright Horizons Mount Carmel Day Nursery and P...          School   \n",
       "351                          Monkey Puzzle Day Nursery          School   \n",
       "352                               City Academy Hackney          School   \n",
       "353                            Camden School for Girls          School   \n",
       "354                                 Tufnel Park School          School   \n",
       "\n",
       "               Type Country                             Adress   Latitude  \\\n",
       "0              Park      GB    Finsbury Sq (Finsbury Pavement)  51.520694   \n",
       "1               Pub      GB          12A Finsbury Sq (City Rd)  51.521709   \n",
       "2               Pub      GB              52 Wilson St (Sun St)  51.520375   \n",
       "3               Bar      GB                          1 City Rd  51.522259   \n",
       "4               Pub      GB              1 Eldon St (South Pl)  51.518843   \n",
       "..              ...     ...                                ...        ...   \n",
       "350  Nursery School      GB                      18 Eden Grove  51.551394   \n",
       "351  Nursery School      GB  Loxfords House, Highbury Park, N5  51.556389   \n",
       "352     High School      GB                       Homerton Row  51.548704   \n",
       "353     High School      GB                     Sandall Street  51.547697   \n",
       "354   Middle School      GB                     United Kingdom  51.554251   \n",
       "\n",
       "     Longitude                                          location2     distance  \n",
       "0    -0.086512  {'type': 'Point', 'coordinates': [-0.086511969...    34.776274  \n",
       "1    -0.087048  {'type': 'Point', 'coordinates': [-0.087048251...   120.590198  \n",
       "2    -0.085176  {'type': 'Point', 'coordinates': [-0.085176182...   129.349477  \n",
       "3    -0.086933  {'type': 'Point', 'coordinates': [-0.086932681...   181.762518  \n",
       "4    -0.086181  {'type': 'Point', 'coordinates': [-0.086181312...   206.137330  \n",
       "..         ...                                                ...          ...  \n",
       "350  -0.112786  {'type': 'Point', 'coordinates': [-0.112786369...  3858.263739  \n",
       "351  -0.098601  {'type': 'Point', 'coordinates': [-0.098600901...  4056.887769  \n",
       "352  -0.048845  {'type': 'Point', 'coordinates': [-0.048845102...  4088.335992  \n",
       "353  -0.134395  {'type': 'Point', 'coordinates': [-0.134395257...  4450.610518  \n",
       "354  -0.129383  {'type': 'Point', 'coordinates': [-0.129382830...  4751.047531  \n",
       "\n",
       "[355 rows x 9 columns]"
      ]
     },
     "execution_count": 13,
     "metadata": {},
     "output_type": "execute_result"
    }
   ],
   "source": [
    "london_distances"
   ]
  },
  {
   "cell_type": "markdown",
   "id": "78418ea9",
   "metadata": {},
   "source": [
    "# PONDERACION"
   ]
  },
  {
   "cell_type": "code",
   "execution_count": 14,
   "id": "e7b42437",
   "metadata": {},
   "outputs": [],
   "source": [
    "# Para escoger la localización, debemos dar importancia a las condiciones escogidas"
   ]
  },
  {
   "cell_type": "code",
   "execution_count": 15,
   "id": "18ec292f",
   "metadata": {},
   "outputs": [],
   "source": [
    "def eliminar_a_mas_de_1km (df):\n",
    "    df = df.drop(df[df.distance > 1000].index)\n",
    "    return df"
   ]
  },
  {
   "cell_type": "code",
   "execution_count": 16,
   "id": "3e3e1980",
   "metadata": {},
   "outputs": [],
   "source": [
    "lnd_final_definitivo = eliminar_a_mas_de_1km(london_distances)"
   ]
  },
  {
   "cell_type": "code",
   "execution_count": 17,
   "id": "5079c40f",
   "metadata": {},
   "outputs": [],
   "source": [
    "sgp_final_definitivo = eliminar_a_mas_de_1km(singapore_distances)"
   ]
  },
  {
   "cell_type": "code",
   "execution_count": 18,
   "id": "fdadb7ff",
   "metadata": {},
   "outputs": [],
   "source": [
    "sf_final_definitivo = eliminar_a_mas_de_1km(san_francisco_distances)"
   ]
  },
  {
   "cell_type": "code",
   "execution_count": 19,
   "id": "3fc1e598",
   "metadata": {},
   "outputs": [],
   "source": [
    "parks_pond = 0.05\n",
    "school_pond = 0.30\n",
    "technological_Startups_pond = 0.05\n",
    "designing_Studios_pond = 0.25\n",
    "travelling_Stations_pond = 0.2\n",
    "leisure_pond = 0.15"
   ]
  },
  {
   "cell_type": "code",
   "execution_count": 20,
   "id": "9ea7f932",
   "metadata": {},
   "outputs": [
    {
     "data": {
      "text/plain": [
       "6"
      ]
     },
     "execution_count": 20,
     "metadata": {},
     "output_type": "execute_result"
    }
   ],
   "source": [
    "len(lnd_final_definitivo.Classification.unique())"
   ]
  },
  {
   "cell_type": "code",
   "execution_count": 21,
   "id": "aa3c85e5",
   "metadata": {},
   "outputs": [
    {
     "data": {
      "text/plain": [
       "array(['Leisure Places', 'Designing Studios', 'Technological Startups',\n",
       "       'Parks', 'Travelling Stations'], dtype=object)"
      ]
     },
     "execution_count": 21,
     "metadata": {},
     "output_type": "execute_result"
    }
   ],
   "source": [
    "sgp_final_definitivo.Classification.unique()\n",
    "#Como vemos Singapur no tiene colegios a menos de 1 km, por lo tanto podemos ir descartandolo."
   ]
  },
  {
   "cell_type": "code",
   "execution_count": 22,
   "id": "94f85fb7",
   "metadata": {},
   "outputs": [
    {
     "data": {
      "text/plain": [
       "6"
      ]
     },
     "execution_count": 22,
     "metadata": {},
     "output_type": "execute_result"
    }
   ],
   "source": [
    "len(sf_final_definitivo.Classification.unique())"
   ]
  },
  {
   "cell_type": "code",
   "execution_count": 28,
   "id": "ed96e42c",
   "metadata": {},
   "outputs": [],
   "source": [
    "def conditions(df):\n",
    "    for i in df['Classification']:\n",
    "        if i == 'Parks':\n",
    "            return df['distance'] * parks_pond\n",
    "        elif i == 'Leisure Places':\n",
    "            return df['distance'] * leisure_pond\n",
    "        elif i == 'Technological Startups':\n",
    "            return df['distance'] * technological_Startups_pond\n",
    "        elif i == 'Designing Studios':\n",
    "            return df['distance'] * designing_Studios_pond\n",
    "        elif i == 'Travelling Stations':\n",
    "            return df['distance'] * travelling_Stations_pond\n",
    "        elif i == 'School':\n",
    "            return df['distance'] * school_pond\n",
    "        \n",
    "        \n",
    "        \n",
    "    "
   ]
  },
  {
   "cell_type": "code",
   "execution_count": 29,
   "id": "c9bb06c9",
   "metadata": {},
   "outputs": [],
   "source": [
    "lnd_final_definitivo[\"valor\"] = conditions(lnd_final_definitivo)"
   ]
  },
  {
   "cell_type": "code",
   "execution_count": 30,
   "id": "d553adc3",
   "metadata": {},
   "outputs": [
    {
     "data": {
      "text/html": [
       "<div>\n",
       "<style scoped>\n",
       "    .dataframe tbody tr th:only-of-type {\n",
       "        vertical-align: middle;\n",
       "    }\n",
       "\n",
       "    .dataframe tbody tr th {\n",
       "        vertical-align: top;\n",
       "    }\n",
       "\n",
       "    .dataframe thead th {\n",
       "        text-align: right;\n",
       "    }\n",
       "</style>\n",
       "<table border=\"1\" class=\"dataframe\">\n",
       "  <thead>\n",
       "    <tr style=\"text-align: right;\">\n",
       "      <th></th>\n",
       "      <th>Name</th>\n",
       "      <th>Classification</th>\n",
       "      <th>Type</th>\n",
       "      <th>Country</th>\n",
       "      <th>Adress</th>\n",
       "      <th>Latitude</th>\n",
       "      <th>Longitude</th>\n",
       "      <th>location2</th>\n",
       "      <th>distance</th>\n",
       "      <th>valor</th>\n",
       "    </tr>\n",
       "  </thead>\n",
       "  <tbody>\n",
       "    <tr>\n",
       "      <th>166</th>\n",
       "      <td>The Fox and Anchor</td>\n",
       "      <td>Leisure Places</td>\n",
       "      <td>Pub</td>\n",
       "      <td>GB</td>\n",
       "      <td>115 Charterhouse St (Lindsey St)</td>\n",
       "      <td>51.520347</td>\n",
       "      <td>-0.100530</td>\n",
       "      <td>{'type': 'Point', 'coordinates': [-0.100530048...</td>\n",
       "      <td>936.489505</td>\n",
       "      <td>46.824475</td>\n",
       "    </tr>\n",
       "    <tr>\n",
       "      <th>138</th>\n",
       "      <td>Trafik</td>\n",
       "      <td>Leisure Places</td>\n",
       "      <td>Nightclub</td>\n",
       "      <td>GB</td>\n",
       "      <td>331 Old St (Hoxton Sq)</td>\n",
       "      <td>51.527047</td>\n",
       "      <td>-0.080405</td>\n",
       "      <td>{'type': 'Point', 'coordinates': [-0.080405340...</td>\n",
       "      <td>847.494948</td>\n",
       "      <td>42.374747</td>\n",
       "    </tr>\n",
       "    <tr>\n",
       "      <th>67</th>\n",
       "      <td>The Whitecross Tap</td>\n",
       "      <td>Leisure Places</td>\n",
       "      <td>Pub</td>\n",
       "      <td>GB</td>\n",
       "      <td>142-146 Whitecross Street</td>\n",
       "      <td>51.524134</td>\n",
       "      <td>-0.093500</td>\n",
       "      <td>{'type': 'Point', 'coordinates': [-0.0934997, ...</td>\n",
       "      <td>595.253770</td>\n",
       "      <td>29.762689</td>\n",
       "    </tr>\n",
       "    <tr>\n",
       "      <th>143</th>\n",
       "      <td>Coq d'Argent</td>\n",
       "      <td>Leisure Places</td>\n",
       "      <td>Pub</td>\n",
       "      <td>GB</td>\n",
       "      <td>No. 1 Poultry</td>\n",
       "      <td>51.513303</td>\n",
       "      <td>-0.091036</td>\n",
       "      <td>{'type': 'Point', 'coordinates': [-0.091035806...</td>\n",
       "      <td>860.628806</td>\n",
       "      <td>43.031440</td>\n",
       "    </tr>\n",
       "    <tr>\n",
       "      <th>70</th>\n",
       "      <td>The Otherist</td>\n",
       "      <td>Leisure Places</td>\n",
       "      <td>Bar</td>\n",
       "      <td>GB</td>\n",
       "      <td>111 Old Broad St</td>\n",
       "      <td>51.515387</td>\n",
       "      <td>-0.084843</td>\n",
       "      <td>{'type': 'Point', 'coordinates': [-0.084843, 5...</td>\n",
       "      <td>601.273655</td>\n",
       "      <td>30.063683</td>\n",
       "    </tr>\n",
       "  </tbody>\n",
       "</table>\n",
       "</div>"
      ],
      "text/plain": [
       "                   Name  Classification       Type Country  \\\n",
       "166  The Fox and Anchor  Leisure Places        Pub      GB   \n",
       "138              Trafik  Leisure Places  Nightclub      GB   \n",
       "67   The Whitecross Tap  Leisure Places        Pub      GB   \n",
       "143        Coq d'Argent  Leisure Places        Pub      GB   \n",
       "70         The Otherist  Leisure Places        Bar      GB   \n",
       "\n",
       "                               Adress   Latitude  Longitude  \\\n",
       "166  115 Charterhouse St (Lindsey St)  51.520347  -0.100530   \n",
       "138            331 Old St (Hoxton Sq)  51.527047  -0.080405   \n",
       "67          142-146 Whitecross Street  51.524134  -0.093500   \n",
       "143                     No. 1 Poultry  51.513303  -0.091036   \n",
       "70                   111 Old Broad St  51.515387  -0.084843   \n",
       "\n",
       "                                             location2    distance      valor  \n",
       "166  {'type': 'Point', 'coordinates': [-0.100530048...  936.489505  46.824475  \n",
       "138  {'type': 'Point', 'coordinates': [-0.080405340...  847.494948  42.374747  \n",
       "67   {'type': 'Point', 'coordinates': [-0.0934997, ...  595.253770  29.762689  \n",
       "143  {'type': 'Point', 'coordinates': [-0.091035806...  860.628806  43.031440  \n",
       "70   {'type': 'Point', 'coordinates': [-0.084843, 5...  601.273655  30.063683  "
      ]
     },
     "execution_count": 30,
     "metadata": {},
     "output_type": "execute_result"
    }
   ],
   "source": [
    "lnd_final_definitivo.sample(5)"
   ]
  },
  {
   "cell_type": "code",
   "execution_count": 31,
   "id": "f2c494a7",
   "metadata": {},
   "outputs": [],
   "source": [
    "sf_final_definitivo['valor'] = conditions(sf_final_definitivo)"
   ]
  },
  {
   "cell_type": "code",
   "execution_count": 32,
   "id": "fdb042a7",
   "metadata": {},
   "outputs": [
    {
     "data": {
      "text/html": [
       "<div>\n",
       "<style scoped>\n",
       "    .dataframe tbody tr th:only-of-type {\n",
       "        vertical-align: middle;\n",
       "    }\n",
       "\n",
       "    .dataframe tbody tr th {\n",
       "        vertical-align: top;\n",
       "    }\n",
       "\n",
       "    .dataframe thead th {\n",
       "        text-align: right;\n",
       "    }\n",
       "</style>\n",
       "<table border=\"1\" class=\"dataframe\">\n",
       "  <thead>\n",
       "    <tr style=\"text-align: right;\">\n",
       "      <th></th>\n",
       "      <th>Name</th>\n",
       "      <th>Classification</th>\n",
       "      <th>Type</th>\n",
       "      <th>Country</th>\n",
       "      <th>Adress</th>\n",
       "      <th>Latitude</th>\n",
       "      <th>Longitude</th>\n",
       "      <th>location2</th>\n",
       "      <th>distance</th>\n",
       "      <th>valor</th>\n",
       "    </tr>\n",
       "  </thead>\n",
       "  <tbody>\n",
       "    <tr>\n",
       "      <th>81</th>\n",
       "      <td>Cathedral School for Boys</td>\n",
       "      <td>School</td>\n",
       "      <td>Elementary School</td>\n",
       "      <td>US</td>\n",
       "      <td>1275 Sacramento St (Jones)</td>\n",
       "      <td>37.792128</td>\n",
       "      <td>-122.414404</td>\n",
       "      <td>{'type': 'Point', 'coordinates': [-122.4144037...</td>\n",
       "      <td>726.058740</td>\n",
       "      <td>217.817622</td>\n",
       "    </tr>\n",
       "    <tr>\n",
       "      <th>131</th>\n",
       "      <td>Costa Brown Architecture</td>\n",
       "      <td>Designing Studios</td>\n",
       "      <td>Design Studio</td>\n",
       "      <td>US</td>\n",
       "      <td>1620 Montgomery St (Lombard)</td>\n",
       "      <td>37.804157</td>\n",
       "      <td>-122.404694</td>\n",
       "      <td>{'type': 'Point', 'coordinates': [-122.4046936...</td>\n",
       "      <td>864.239789</td>\n",
       "      <td>259.271937</td>\n",
       "    </tr>\n",
       "    <tr>\n",
       "      <th>137</th>\n",
       "      <td>Irish Times</td>\n",
       "      <td>Leisure Places</td>\n",
       "      <td>Irish Pub</td>\n",
       "      <td>US</td>\n",
       "      <td>500 Sacramento St (at Sansome St.)</td>\n",
       "      <td>37.794010</td>\n",
       "      <td>-122.401690</td>\n",
       "      <td>{'type': 'Point', 'coordinates': [-122.40169, ...</td>\n",
       "      <td>885.179498</td>\n",
       "      <td>265.553849</td>\n",
       "    </tr>\n",
       "    <tr>\n",
       "      <th>38</th>\n",
       "      <td>Sutra Nightclub &amp; Lounge</td>\n",
       "      <td>Leisure Places</td>\n",
       "      <td>Nightclub</td>\n",
       "      <td>US</td>\n",
       "      <td>443 Broadway (btwn Montgomery &amp; Kearny)</td>\n",
       "      <td>37.797950</td>\n",
       "      <td>-122.404346</td>\n",
       "      <td>{'type': 'Point', 'coordinates': [-122.4043464...</td>\n",
       "      <td>540.175780</td>\n",
       "      <td>162.052734</td>\n",
       "    </tr>\n",
       "    <tr>\n",
       "      <th>107</th>\n",
       "      <td>Mashape HQ</td>\n",
       "      <td>Technological Startups</td>\n",
       "      <td>Tech Startup</td>\n",
       "      <td>US</td>\n",
       "      <td>500 Montgomery St</td>\n",
       "      <td>37.793896</td>\n",
       "      <td>-122.402937</td>\n",
       "      <td>{'type': 'Point', 'coordinates': [-122.4029373...</td>\n",
       "      <td>798.160205</td>\n",
       "      <td>239.448062</td>\n",
       "    </tr>\n",
       "  </tbody>\n",
       "</table>\n",
       "</div>"
      ],
      "text/plain": [
       "                          Name          Classification               Type  \\\n",
       "81   Cathedral School for Boys                  School  Elementary School   \n",
       "131   Costa Brown Architecture       Designing Studios      Design Studio   \n",
       "137                Irish Times          Leisure Places          Irish Pub   \n",
       "38    Sutra Nightclub & Lounge          Leisure Places          Nightclub   \n",
       "107                 Mashape HQ  Technological Startups       Tech Startup   \n",
       "\n",
       "    Country                                   Adress   Latitude   Longitude  \\\n",
       "81       US               1275 Sacramento St (Jones)  37.792128 -122.414404   \n",
       "131      US             1620 Montgomery St (Lombard)  37.804157 -122.404694   \n",
       "137      US       500 Sacramento St (at Sansome St.)  37.794010 -122.401690   \n",
       "38       US  443 Broadway (btwn Montgomery & Kearny)  37.797950 -122.404346   \n",
       "107      US                        500 Montgomery St  37.793896 -122.402937   \n",
       "\n",
       "                                             location2    distance       valor  \n",
       "81   {'type': 'Point', 'coordinates': [-122.4144037...  726.058740  217.817622  \n",
       "131  {'type': 'Point', 'coordinates': [-122.4046936...  864.239789  259.271937  \n",
       "137  {'type': 'Point', 'coordinates': [-122.40169, ...  885.179498  265.553849  \n",
       "38   {'type': 'Point', 'coordinates': [-122.4043464...  540.175780  162.052734  \n",
       "107  {'type': 'Point', 'coordinates': [-122.4029373...  798.160205  239.448062  "
      ]
     },
     "execution_count": 32,
     "metadata": {},
     "output_type": "execute_result"
    }
   ],
   "source": [
    "sf_final_definitivo.sample(5)"
   ]
  },
  {
   "cell_type": "code",
   "execution_count": 34,
   "id": "e54608a9",
   "metadata": {},
   "outputs": [],
   "source": [
    "# By multiplyng the distance by the average ponderation given, we give certain importance to eache place.\n",
    "# Now, we som all the values together an see which place is the best location."
   ]
  },
  {
   "cell_type": "markdown",
   "id": "8ca88dcc",
   "metadata": {},
   "source": [
    "# SUMA PONDERACIONES "
   ]
  },
  {
   "cell_type": "code",
   "execution_count": 37,
   "id": "27477c1a",
   "metadata": {},
   "outputs": [],
   "source": [
    "san_francisco_value = sf_final_definitivo.valor.sum()"
   ]
  },
  {
   "cell_type": "code",
   "execution_count": 38,
   "id": "c5aaf689",
   "metadata": {},
   "outputs": [],
   "source": [
    "london_value = lnd_final_definitivo.valor.sum()"
   ]
  },
  {
   "cell_type": "code",
   "execution_count": 57,
   "id": "c0323951",
   "metadata": {},
   "outputs": [
    {
     "data": {
      "text/plain": [
       "40627.75581183808"
      ]
     },
     "execution_count": 57,
     "metadata": {},
     "output_type": "execute_result"
    }
   ],
   "source": [
    "san_francisco_value"
   ]
  },
  {
   "cell_type": "code",
   "execution_count": 58,
   "id": "b0e82555",
   "metadata": {},
   "outputs": [
    {
     "data": {
      "text/plain": [
       "6204.168892842272"
      ]
     },
     "execution_count": 58,
     "metadata": {},
     "output_type": "execute_result"
    }
   ],
   "source": [
    "london_value\n"
   ]
  },
  {
   "cell_type": "code",
   "execution_count": 59,
   "id": "2abdd025",
   "metadata": {},
   "outputs": [],
   "source": [
    "# We have decided to set up our business in London."
   ]
  },
  {
   "cell_type": "code",
   "execution_count": null,
   "id": "aee39884",
   "metadata": {},
   "outputs": [],
   "source": []
  }
 ],
 "metadata": {
  "kernelspec": {
   "display_name": "ironhack",
   "language": "python",
   "name": "ironhack"
  },
  "language_info": {
   "codemirror_mode": {
    "name": "ipython",
    "version": 3
   },
   "file_extension": ".py",
   "mimetype": "text/x-python",
   "name": "python",
   "nbconvert_exporter": "python",
   "pygments_lexer": "ipython3",
   "version": "3.8.11"
  }
 },
 "nbformat": 4,
 "nbformat_minor": 5
}
