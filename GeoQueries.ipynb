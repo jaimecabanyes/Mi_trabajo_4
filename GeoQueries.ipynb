{
 "cells": [
  {
   "cell_type": "markdown",
   "id": "23e345dd",
   "metadata": {},
   "source": [
    "# GEOQUERIES"
   ]
  },
  {
   "cell_type": "code",
   "execution_count": 1,
   "id": "42006073",
   "metadata": {},
   "outputs": [],
   "source": [
    "from pymongo import MongoClient\n",
    "from pymongo import GEOSPHERE\n",
    "import json\n",
    "import pandas as pd\n",
    "from dotenv import load_dotenv\n",
    "import os\n",
    "import requests\n",
    "import geopandas as gpd\n",
    "import folium\n",
    "from folium import Choropleth, Circle, Marker, Icon, Map\n",
    "from folium.plugins import HeatMap, MarkerCluster\n",
    "from bson.json_util import dumps"
   ]
  },
  {
   "cell_type": "code",
   "execution_count": 20,
   "id": "e0080ff8",
   "metadata": {},
   "outputs": [],
   "source": [
    "#london_loc = {'type': 'Point', 'coordinates':[ -0.0870022262169723, 51.520624794291884]}\n",
    "#singapore_loc = {'type': 'Point', 'coordinates':[103.84868192263733, 1.2862863534171092]}\n",
    "#san_francisco_loc = {'type': 'Point', 'coordinates':[ -122.41049370727525,37.79787988216447]}\n",
    "london_loc1 = [-0.0870022262169723, 51.520624794291884]\n",
    "singapore_loc1 = [103.84868192263733, 1.2862863534171092]\n",
    "san_francisco_loc1 =[ -122.41049370727525,37.79787988216447]"
   ]
  },
  {
   "cell_type": "code",
   "execution_count": 21,
   "id": "3ca352e4",
   "metadata": {},
   "outputs": [],
   "source": [
    "metros = 2500"
   ]
  },
  {
   "cell_type": "code",
   "execution_count": 22,
   "id": "38cc1194",
   "metadata": {},
   "outputs": [],
   "source": [
    "#Crear la conexión con el database de Londres dentro de MongoDB\n",
    "client = MongoClient(\"localhost:27017\")\n",
    "db = client.get_database(\"Ciudades\")"
   ]
  },
  {
   "cell_type": "code",
   "execution_count": 23,
   "id": "764d1a00",
   "metadata": {},
   "outputs": [],
   "source": [
    "ln = db.get_collection(\"London\")\n",
    "sg = db.get_collection(\"Singapore\")\n",
    "sf = db.get_collection(\"San Francisco\")\n"
   ]
  },
  {
   "cell_type": "markdown",
   "id": "ba4d8a2b",
   "metadata": {},
   "source": [
    "# FUNCIONES"
   ]
  },
  {
   "cell_type": "code",
   "execution_count": 24,
   "id": "70842b5a",
   "metadata": {},
   "outputs": [],
   "source": [
    "'''\n",
    "Esta función recibe la coleccion con la que quieres trabajar, la localizacion establecida, el maximo de distancia\n",
    "que quieres y la classificación que quieres buscar.\n",
    "Te devuelve sitios cercanos a la ubicación ajustandose a las condiciones(maxima distancia, por classificacion y por\n",
    "localización)\n",
    "\n",
    "'''\n",
    "def coger_sitios_cercanos(collection, location, Classification, max_distance):\n",
    "    var_schools = {\"$and\":[{\"location2\": {\"$near\": {\"$geometry\": location,\"$minDistance\":0,\"$maxDistance\": max_distance}}},{\"Classification\": f'{Classification}'}]}\n",
    "    encontrar_colegios = collection.find(var_schools)\n",
    "    return list(encontrar_colegios)\n",
    "    "
   ]
  },
  {
   "cell_type": "code",
   "execution_count": 25,
   "id": "1feee232",
   "metadata": {},
   "outputs": [],
   "source": [
    "#Tipos de classificación/Type\n",
    "#1. School: Type\n",
    "#2. Technological Startups\n",
    "#3. Designing Studios\n",
    "#4. Leisure Places\n",
    "#5. Travelling Stations\n",
    "#6. Parks"
   ]
  },
  {
   "cell_type": "code",
   "execution_count": 76,
   "id": "c448349a",
   "metadata": {
    "scrolled": false
   },
   "outputs": [],
   "source": [
    "# A esta función entra la collection de mongoDB con la que queremos trabajar y la localización establecida.\n",
    "# Esta función nos crea un dataframe nuevo con la distacia de cada sitio a la localización establecida. \n",
    "def get_distances(collection, location1):\n",
    "    query = [{'$geoNear':{'near':location1,\n",
    "    'distanceField' : \"distance\",\n",
    "    'maxDistance': 1,\n",
    "    'distanceMultiplier': 6371*1000 ,\n",
    "    'spherical': True}}]\n",
    "    geoloc = collection.aggregate(query)\n",
    "    response_json = json.loads(dumps(geoloc))\n",
    "    df = pd.DataFrame(response_json)\n",
    "    df1 = df[['Name', 'Classification', 'Type', 'Country', 'Adress', 'Latitude', 'Longitude', 'location2', 'distance']]\n",
    "    return df1\n",
    "    \n"
   ]
  },
  {
   "cell_type": "code",
   "execution_count": 87,
   "id": "9c105702",
   "metadata": {},
   "outputs": [],
   "source": [
    "# En estas 3 variables, tenemos el dataframe con la distacia a nuestro punto inicial en metros.\n",
    "london_distances = get_distances(ln, london_loc1)\n",
    "san_francisco_distances = get_distances(sf, san_francisco_loc1)\n",
    "singapore_distances = get_distances(sg, singapore_loc1)"
   ]
  },
  {
   "cell_type": "code",
   "execution_count": 89,
   "id": "5f8ebf07",
   "metadata": {},
   "outputs": [
    {
     "data": {
      "text/html": [
       "<div>\n",
       "<style scoped>\n",
       "    .dataframe tbody tr th:only-of-type {\n",
       "        vertical-align: middle;\n",
       "    }\n",
       "\n",
       "    .dataframe tbody tr th {\n",
       "        vertical-align: top;\n",
       "    }\n",
       "\n",
       "    .dataframe thead th {\n",
       "        text-align: right;\n",
       "    }\n",
       "</style>\n",
       "<table border=\"1\" class=\"dataframe\">\n",
       "  <thead>\n",
       "    <tr style=\"text-align: right;\">\n",
       "      <th></th>\n",
       "      <th>Name</th>\n",
       "      <th>Classification</th>\n",
       "      <th>Type</th>\n",
       "      <th>Country</th>\n",
       "      <th>Adress</th>\n",
       "      <th>Latitude</th>\n",
       "      <th>Longitude</th>\n",
       "      <th>location2</th>\n",
       "      <th>distance</th>\n",
       "    </tr>\n",
       "  </thead>\n",
       "  <tbody>\n",
       "    <tr>\n",
       "      <th>0</th>\n",
       "      <td>Finsbury Square</td>\n",
       "      <td>Parks</td>\n",
       "      <td>Park</td>\n",
       "      <td>GB</td>\n",
       "      <td>Finsbury Sq (Finsbury Pavement)</td>\n",
       "      <td>51.520694</td>\n",
       "      <td>-0.086512</td>\n",
       "      <td>{'type': 'Point', 'coordinates': [-0.086511969...</td>\n",
       "      <td>34.776274</td>\n",
       "    </tr>\n",
       "    <tr>\n",
       "      <th>1</th>\n",
       "      <td>Finch's</td>\n",
       "      <td>Leisure Places</td>\n",
       "      <td>Pub</td>\n",
       "      <td>GB</td>\n",
       "      <td>12A Finsbury Sq (City Rd)</td>\n",
       "      <td>51.521709</td>\n",
       "      <td>-0.087048</td>\n",
       "      <td>{'type': 'Point', 'coordinates': [-0.087048251...</td>\n",
       "      <td>120.590198</td>\n",
       "    </tr>\n",
       "  </tbody>\n",
       "</table>\n",
       "</div>"
      ],
      "text/plain": [
       "              Name  Classification  Type Country  \\\n",
       "0  Finsbury Square           Parks  Park      GB   \n",
       "1          Finch's  Leisure Places   Pub      GB   \n",
       "\n",
       "                            Adress   Latitude  Longitude  \\\n",
       "0  Finsbury Sq (Finsbury Pavement)  51.520694  -0.086512   \n",
       "1        12A Finsbury Sq (City Rd)  51.521709  -0.087048   \n",
       "\n",
       "                                           location2    distance  \n",
       "0  {'type': 'Point', 'coordinates': [-0.086511969...   34.776274  \n",
       "1  {'type': 'Point', 'coordinates': [-0.087048251...  120.590198  "
      ]
     },
     "execution_count": 89,
     "metadata": {},
     "output_type": "execute_result"
    }
   ],
   "source": [
    "london_distances.head(2)"
   ]
  },
  {
   "cell_type": "code",
   "execution_count": 90,
   "id": "9550ff0d",
   "metadata": {},
   "outputs": [
    {
     "data": {
      "text/html": [
       "<div>\n",
       "<style scoped>\n",
       "    .dataframe tbody tr th:only-of-type {\n",
       "        vertical-align: middle;\n",
       "    }\n",
       "\n",
       "    .dataframe tbody tr th {\n",
       "        vertical-align: top;\n",
       "    }\n",
       "\n",
       "    .dataframe thead th {\n",
       "        text-align: right;\n",
       "    }\n",
       "</style>\n",
       "<table border=\"1\" class=\"dataframe\">\n",
       "  <thead>\n",
       "    <tr style=\"text-align: right;\">\n",
       "      <th></th>\n",
       "      <th>Name</th>\n",
       "      <th>Classification</th>\n",
       "      <th>Type</th>\n",
       "      <th>Country</th>\n",
       "      <th>Adress</th>\n",
       "      <th>Latitude</th>\n",
       "      <th>Longitude</th>\n",
       "      <th>location2</th>\n",
       "      <th>distance</th>\n",
       "    </tr>\n",
       "  </thead>\n",
       "  <tbody>\n",
       "    <tr>\n",
       "      <th>0</th>\n",
       "      <td>Jean Parker Elementary</td>\n",
       "      <td>School</td>\n",
       "      <td>Elementary School</td>\n",
       "      <td>US</td>\n",
       "      <td>840 Broadway</td>\n",
       "      <td>37.797641</td>\n",
       "      <td>-122.411043</td>\n",
       "      <td>{'type': 'Point', 'coordinates': [-122.411043,...</td>\n",
       "      <td>55.089767</td>\n",
       "    </tr>\n",
       "    <tr>\n",
       "      <th>1</th>\n",
       "      <td>Broadway Tunnel East Mini Park</td>\n",
       "      <td>Parks</td>\n",
       "      <td>Park</td>\n",
       "      <td>US</td>\n",
       "      <td>967 Broadway (at Himmelman)</td>\n",
       "      <td>37.797354</td>\n",
       "      <td>-122.410502</td>\n",
       "      <td>{'type': 'Point', 'coordinates': [-122.4105024...</td>\n",
       "      <td>58.444345</td>\n",
       "    </tr>\n",
       "  </tbody>\n",
       "</table>\n",
       "</div>"
      ],
      "text/plain": [
       "                             Name Classification               Type Country  \\\n",
       "0          Jean Parker Elementary         School  Elementary School      US   \n",
       "1  Broadway Tunnel East Mini Park          Parks               Park      US   \n",
       "\n",
       "                        Adress   Latitude   Longitude  \\\n",
       "0                 840 Broadway  37.797641 -122.411043   \n",
       "1  967 Broadway (at Himmelman)  37.797354 -122.410502   \n",
       "\n",
       "                                           location2   distance  \n",
       "0  {'type': 'Point', 'coordinates': [-122.411043,...  55.089767  \n",
       "1  {'type': 'Point', 'coordinates': [-122.4105024...  58.444345  "
      ]
     },
     "execution_count": 90,
     "metadata": {},
     "output_type": "execute_result"
    }
   ],
   "source": [
    "san_francisco_distances.head(2)"
   ]
  },
  {
   "cell_type": "code",
   "execution_count": 91,
   "id": "962a65f2",
   "metadata": {
    "scrolled": false
   },
   "outputs": [
    {
     "data": {
      "text/html": [
       "<div>\n",
       "<style scoped>\n",
       "    .dataframe tbody tr th:only-of-type {\n",
       "        vertical-align: middle;\n",
       "    }\n",
       "\n",
       "    .dataframe tbody tr th {\n",
       "        vertical-align: top;\n",
       "    }\n",
       "\n",
       "    .dataframe thead th {\n",
       "        text-align: right;\n",
       "    }\n",
       "</style>\n",
       "<table border=\"1\" class=\"dataframe\">\n",
       "  <thead>\n",
       "    <tr style=\"text-align: right;\">\n",
       "      <th></th>\n",
       "      <th>Name</th>\n",
       "      <th>Classification</th>\n",
       "      <th>Type</th>\n",
       "      <th>Country</th>\n",
       "      <th>Adress</th>\n",
       "      <th>Latitude</th>\n",
       "      <th>Longitude</th>\n",
       "      <th>location2</th>\n",
       "      <th>distance</th>\n",
       "    </tr>\n",
       "  </thead>\n",
       "  <tbody>\n",
       "    <tr>\n",
       "      <th>0</th>\n",
       "      <td>Liquid 40</td>\n",
       "      <td>Leisure Places</td>\n",
       "      <td>Pub</td>\n",
       "      <td>SG</td>\n",
       "      <td>Circular Rd</td>\n",
       "      <td>1.286381</td>\n",
       "      <td>103.848842</td>\n",
       "      <td>{'type': 'Point', 'coordinates': [103.84884158...</td>\n",
       "      <td>20.615074</td>\n",
       "    </tr>\n",
       "    <tr>\n",
       "      <th>1</th>\n",
       "      <td>Audition pub</td>\n",
       "      <td>Leisure Places</td>\n",
       "      <td>Pub</td>\n",
       "      <td>SG</td>\n",
       "      <td>76 Circular Road</td>\n",
       "      <td>1.286644</td>\n",
       "      <td>103.848966</td>\n",
       "      <td>{'type': 'Point', 'coordinates': [103.84896614...</td>\n",
       "      <td>50.772528</td>\n",
       "    </tr>\n",
       "  </tbody>\n",
       "</table>\n",
       "</div>"
      ],
      "text/plain": [
       "           Name  Classification Type Country            Adress  Latitude  \\\n",
       "0     Liquid 40  Leisure Places  Pub      SG       Circular Rd  1.286381   \n",
       "1  Audition pub  Leisure Places  Pub      SG  76 Circular Road  1.286644   \n",
       "\n",
       "    Longitude                                          location2   distance  \n",
       "0  103.848842  {'type': 'Point', 'coordinates': [103.84884158...  20.615074  \n",
       "1  103.848966  {'type': 'Point', 'coordinates': [103.84896614...  50.772528  "
      ]
     },
     "execution_count": 91,
     "metadata": {},
     "output_type": "execute_result"
    }
   ],
   "source": [
    "singapore_distances.head(2)"
   ]
  },
  {
   "cell_type": "markdown",
   "id": "78418ea9",
   "metadata": {},
   "source": [
    "# PONDERACION"
   ]
  },
  {
   "cell_type": "code",
   "execution_count": null,
   "id": "e7b42437",
   "metadata": {},
   "outputs": [],
   "source": [
    "# Para escoger la localización, debemos dar importancia a las condiciones escogidas"
   ]
  },
  {
   "cell_type": "code",
   "execution_count": 92,
   "id": "1134d4f6",
   "metadata": {},
   "outputs": [],
   "source": [
    "parks_pond = 0.05\n",
    "school_pond = 0.30\n",
    "technological_Startups_pond = 0.05\n",
    "designing_Studios_pond = 0.25\n",
    "travelling_Stations_pond = 0.2\n",
    "leisure_pond = 0.15"
   ]
  },
  {
   "cell_type": "code",
   "execution_count": null,
   "id": "64758496",
   "metadata": {},
   "outputs": [],
   "source": []
  }
 ],
 "metadata": {
  "kernelspec": {
   "display_name": "ironhack",
   "language": "python",
   "name": "ironhack"
  },
  "language_info": {
   "codemirror_mode": {
    "name": "ipython",
    "version": 3
   },
   "file_extension": ".py",
   "mimetype": "text/x-python",
   "name": "python",
   "nbconvert_exporter": "python",
   "pygments_lexer": "ipython3",
   "version": "3.8.11"
  }
 },
 "nbformat": 4,
 "nbformat_minor": 5
}
