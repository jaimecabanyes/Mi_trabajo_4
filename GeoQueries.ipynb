{
 "cells": [
  {
   "cell_type": "markdown",
   "id": "23e345dd",
   "metadata": {},
   "source": [
    "# GEOQUERIES"
   ]
  },
  {
   "cell_type": "code",
   "execution_count": 1,
   "id": "42006073",
   "metadata": {},
   "outputs": [],
   "source": [
    "from pymongo import MongoClient\n",
    "from pymongo import GEOSPHERE\n",
    "import json\n",
    "import pandas as pd\n",
    "from dotenv import load_dotenv\n",
    "import os\n",
    "import requests\n",
    "import geopandas as gpd\n",
    "from bson.json_util import dumps"
   ]
  },
  {
   "cell_type": "code",
   "execution_count": 2,
   "id": "e0080ff8",
   "metadata": {},
   "outputs": [],
   "source": [
    "#london_loc = {'type': 'Point', 'coordinates':[ -0.0870022262169723, 51.520624794291884]}\n",
    "#singapore_loc = {'type': 'Point', 'coordinates':[103.84868192263733, 1.2862863534171092]}\n",
    "#san_francisco_loc = {'type': 'Point', 'coordinates':[ -122.41049370727525,37.79787988216447]}\n",
    "london_loc1 = [-0.0870022262169723, 51.520624794291884]\n",
    "singapore_loc1 = [103.84868192263733, 1.2862863534171092]\n",
    "san_francisco_loc1 =[ -122.41049370727525,37.79787988216447]"
   ]
  },
  {
   "cell_type": "code",
   "execution_count": 3,
   "id": "3ca352e4",
   "metadata": {},
   "outputs": [],
   "source": [
    "metros = 2500"
   ]
  },
  {
   "cell_type": "code",
   "execution_count": 4,
   "id": "38cc1194",
   "metadata": {},
   "outputs": [],
   "source": [
    "#Crear la conexión con el database de Londres dentro de MongoDB\n",
    "client = MongoClient(\"localhost:27017\")\n",
    "db = client.get_database(\"Ciudades\")"
   ]
  },
  {
   "cell_type": "code",
   "execution_count": 5,
   "id": "764d1a00",
   "metadata": {},
   "outputs": [],
   "source": [
    "ln = db.get_collection(\"London\")\n",
    "sg = db.get_collection(\"Singapore\")\n",
    "sf = db.get_collection(\"San Francisco\")\n"
   ]
  },
  {
   "cell_type": "markdown",
   "id": "5b3d6b7d",
   "metadata": {},
   "source": [
    "# FUNCIONES"
   ]
  },
  {
   "cell_type": "code",
   "execution_count": 6,
   "id": "c685c3ae",
   "metadata": {},
   "outputs": [],
   "source": [
    "'''\n",
    "Esta función recibe la coleccion con la que quieres trabajar, la localizacion establecida, el maximo de distancia\n",
    "que quieres y la classificación que quieres buscar.\n",
    "Te devuelve sitios cercanos a la ubicación ajustandose a las condiciones(maxima distancia, por classificacion y por\n",
    "localización)\n",
    "\n",
    "'''\n",
    "def coger_sitios_cercanos(collection, location, Classification, max_distance):\n",
    "    var_schools = {\"$and\":[{\"location2\": {\"$near\": {\"$geometry\": location,\"$minDistance\":0,\"$maxDistance\": max_distance}}},{\"Classification\": f'{Classification}'}]}\n",
    "    encontrar_colegios = collection.find(var_schools)\n",
    "    return list(encontrar_colegios)\n",
    "    "
   ]
  },
  {
   "cell_type": "code",
   "execution_count": 7,
   "id": "640d2374",
   "metadata": {},
   "outputs": [],
   "source": [
    "#Tipos de classificación/Type\n",
    "#1. School: Type\n",
    "#2. Technological Startups\n",
    "#3. Designing Studios\n",
    "#4. Leisure Places\n",
    "#5. Travelling Stations\n",
    "#6. Parks"
   ]
  },
  {
   "cell_type": "code",
   "execution_count": 12,
   "id": "fc4347e7",
   "metadata": {
    "scrolled": false
   },
   "outputs": [],
   "source": [
    "def get_distances(collection, location1):\n",
    "    query = [{'$geoNear':{'near':location1,\n",
    "    'distanceField' : \"distance\",\n",
    "    'maxDistance': 0.1,\n",
    "    'distanceMultiplier': 6371,\n",
    "    'spherical': True}}]\n",
    "    geoloc = collection.aggregate(query)\n",
    "    response_json = json.loads(dumps(geoloc))\n",
    "    df = pd.DataFrame(response_json)\n",
    "    df1 = df[['Name', 'Classification', 'Type', 'Country', 'Adress', 'Latitude', 'Longitude', 'location2', 'distance']]\n",
    "    return df1\n",
    "    \n"
   ]
  },
  {
   "cell_type": "code",
   "execution_count": 26,
   "id": "62cddeef",
   "metadata": {},
   "outputs": [
    {
     "data": {
      "text/html": [
       "<div>\n",
       "<style scoped>\n",
       "    .dataframe tbody tr th:only-of-type {\n",
       "        vertical-align: middle;\n",
       "    }\n",
       "\n",
       "    .dataframe tbody tr th {\n",
       "        vertical-align: top;\n",
       "    }\n",
       "\n",
       "    .dataframe thead th {\n",
       "        text-align: right;\n",
       "    }\n",
       "</style>\n",
       "<table border=\"1\" class=\"dataframe\">\n",
       "  <thead>\n",
       "    <tr style=\"text-align: right;\">\n",
       "      <th></th>\n",
       "      <th>Name</th>\n",
       "      <th>Classification</th>\n",
       "      <th>Type</th>\n",
       "      <th>Country</th>\n",
       "      <th>Adress</th>\n",
       "      <th>Latitude</th>\n",
       "      <th>Longitude</th>\n",
       "      <th>location2</th>\n",
       "      <th>distance</th>\n",
       "    </tr>\n",
       "  </thead>\n",
       "  <tbody>\n",
       "    <tr>\n",
       "      <th>0</th>\n",
       "      <td>Finsbury Square</td>\n",
       "      <td>Parks</td>\n",
       "      <td>Park</td>\n",
       "      <td>GB</td>\n",
       "      <td>Finsbury Sq (Finsbury Pavement)</td>\n",
       "      <td>51.520694</td>\n",
       "      <td>-0.086512</td>\n",
       "      <td>{'type': 'Point', 'coordinates': [-0.086511969...</td>\n",
       "      <td>0.034776</td>\n",
       "    </tr>\n",
       "    <tr>\n",
       "      <th>1</th>\n",
       "      <td>Finch's</td>\n",
       "      <td>Leisure Places</td>\n",
       "      <td>Pub</td>\n",
       "      <td>GB</td>\n",
       "      <td>12A Finsbury Sq (City Rd)</td>\n",
       "      <td>51.521709</td>\n",
       "      <td>-0.087048</td>\n",
       "      <td>{'type': 'Point', 'coordinates': [-0.087048251...</td>\n",
       "      <td>0.120590</td>\n",
       "    </tr>\n",
       "    <tr>\n",
       "      <th>2</th>\n",
       "      <td>The Flying Horse</td>\n",
       "      <td>Leisure Places</td>\n",
       "      <td>Pub</td>\n",
       "      <td>GB</td>\n",
       "      <td>52 Wilson St (Sun St)</td>\n",
       "      <td>51.520375</td>\n",
       "      <td>-0.085176</td>\n",
       "      <td>{'type': 'Point', 'coordinates': [-0.085176182...</td>\n",
       "      <td>0.129349</td>\n",
       "    </tr>\n",
       "    <tr>\n",
       "      <th>3</th>\n",
       "      <td>Singer Tavern</td>\n",
       "      <td>Leisure Places</td>\n",
       "      <td>Bar</td>\n",
       "      <td>GB</td>\n",
       "      <td>1 City Rd</td>\n",
       "      <td>51.522259</td>\n",
       "      <td>-0.086933</td>\n",
       "      <td>{'type': 'Point', 'coordinates': [-0.086932681...</td>\n",
       "      <td>0.181763</td>\n",
       "    </tr>\n",
       "    <tr>\n",
       "      <th>4</th>\n",
       "      <td>Red Lion</td>\n",
       "      <td>Leisure Places</td>\n",
       "      <td>Pub</td>\n",
       "      <td>GB</td>\n",
       "      <td>1 Eldon St (South Pl)</td>\n",
       "      <td>51.518843</td>\n",
       "      <td>-0.086181</td>\n",
       "      <td>{'type': 'Point', 'coordinates': [-0.086181312...</td>\n",
       "      <td>0.206137</td>\n",
       "    </tr>\n",
       "    <tr>\n",
       "      <th>...</th>\n",
       "      <td>...</td>\n",
       "      <td>...</td>\n",
       "      <td>...</td>\n",
       "      <td>...</td>\n",
       "      <td>...</td>\n",
       "      <td>...</td>\n",
       "      <td>...</td>\n",
       "      <td>...</td>\n",
       "      <td>...</td>\n",
       "    </tr>\n",
       "    <tr>\n",
       "      <th>350</th>\n",
       "      <td>Bright Horizons Mount Carmel Day Nursery and P...</td>\n",
       "      <td>School</td>\n",
       "      <td>Nursery School</td>\n",
       "      <td>GB</td>\n",
       "      <td>18 Eden Grove</td>\n",
       "      <td>51.551394</td>\n",
       "      <td>-0.112786</td>\n",
       "      <td>{'type': 'Point', 'coordinates': [-0.112786369...</td>\n",
       "      <td>3.858264</td>\n",
       "    </tr>\n",
       "    <tr>\n",
       "      <th>351</th>\n",
       "      <td>Monkey Puzzle Day Nursery</td>\n",
       "      <td>School</td>\n",
       "      <td>Nursery School</td>\n",
       "      <td>GB</td>\n",
       "      <td>Loxfords House, Highbury Park, N5</td>\n",
       "      <td>51.556389</td>\n",
       "      <td>-0.098601</td>\n",
       "      <td>{'type': 'Point', 'coordinates': [-0.098600901...</td>\n",
       "      <td>4.056888</td>\n",
       "    </tr>\n",
       "    <tr>\n",
       "      <th>352</th>\n",
       "      <td>City Academy Hackney</td>\n",
       "      <td>School</td>\n",
       "      <td>High School</td>\n",
       "      <td>GB</td>\n",
       "      <td>Homerton Row</td>\n",
       "      <td>51.548704</td>\n",
       "      <td>-0.048845</td>\n",
       "      <td>{'type': 'Point', 'coordinates': [-0.048845102...</td>\n",
       "      <td>4.088336</td>\n",
       "    </tr>\n",
       "    <tr>\n",
       "      <th>353</th>\n",
       "      <td>Camden School for Girls</td>\n",
       "      <td>School</td>\n",
       "      <td>High School</td>\n",
       "      <td>GB</td>\n",
       "      <td>Sandall Street</td>\n",
       "      <td>51.547697</td>\n",
       "      <td>-0.134395</td>\n",
       "      <td>{'type': 'Point', 'coordinates': [-0.134395257...</td>\n",
       "      <td>4.450611</td>\n",
       "    </tr>\n",
       "    <tr>\n",
       "      <th>354</th>\n",
       "      <td>Tufnel Park School</td>\n",
       "      <td>School</td>\n",
       "      <td>Middle School</td>\n",
       "      <td>GB</td>\n",
       "      <td>United Kingdom</td>\n",
       "      <td>51.554251</td>\n",
       "      <td>-0.129383</td>\n",
       "      <td>{'type': 'Point', 'coordinates': [-0.129382830...</td>\n",
       "      <td>4.751048</td>\n",
       "    </tr>\n",
       "  </tbody>\n",
       "</table>\n",
       "<p>355 rows × 9 columns</p>\n",
       "</div>"
      ],
      "text/plain": [
       "                                                  Name  Classification  \\\n",
       "0                                      Finsbury Square           Parks   \n",
       "1                                              Finch's  Leisure Places   \n",
       "2                                     The Flying Horse  Leisure Places   \n",
       "3                                        Singer Tavern  Leisure Places   \n",
       "4                                             Red Lion  Leisure Places   \n",
       "..                                                 ...             ...   \n",
       "350  Bright Horizons Mount Carmel Day Nursery and P...          School   \n",
       "351                          Monkey Puzzle Day Nursery          School   \n",
       "352                               City Academy Hackney          School   \n",
       "353                            Camden School for Girls          School   \n",
       "354                                 Tufnel Park School          School   \n",
       "\n",
       "               Type Country                             Adress   Latitude  \\\n",
       "0              Park      GB    Finsbury Sq (Finsbury Pavement)  51.520694   \n",
       "1               Pub      GB          12A Finsbury Sq (City Rd)  51.521709   \n",
       "2               Pub      GB              52 Wilson St (Sun St)  51.520375   \n",
       "3               Bar      GB                          1 City Rd  51.522259   \n",
       "4               Pub      GB              1 Eldon St (South Pl)  51.518843   \n",
       "..              ...     ...                                ...        ...   \n",
       "350  Nursery School      GB                      18 Eden Grove  51.551394   \n",
       "351  Nursery School      GB  Loxfords House, Highbury Park, N5  51.556389   \n",
       "352     High School      GB                       Homerton Row  51.548704   \n",
       "353     High School      GB                     Sandall Street  51.547697   \n",
       "354   Middle School      GB                     United Kingdom  51.554251   \n",
       "\n",
       "     Longitude                                          location2  distance  \n",
       "0    -0.086512  {'type': 'Point', 'coordinates': [-0.086511969...  0.034776  \n",
       "1    -0.087048  {'type': 'Point', 'coordinates': [-0.087048251...  0.120590  \n",
       "2    -0.085176  {'type': 'Point', 'coordinates': [-0.085176182...  0.129349  \n",
       "3    -0.086933  {'type': 'Point', 'coordinates': [-0.086932681...  0.181763  \n",
       "4    -0.086181  {'type': 'Point', 'coordinates': [-0.086181312...  0.206137  \n",
       "..         ...                                                ...       ...  \n",
       "350  -0.112786  {'type': 'Point', 'coordinates': [-0.112786369...  3.858264  \n",
       "351  -0.098601  {'type': 'Point', 'coordinates': [-0.098600901...  4.056888  \n",
       "352  -0.048845  {'type': 'Point', 'coordinates': [-0.048845102...  4.088336  \n",
       "353  -0.134395  {'type': 'Point', 'coordinates': [-0.134395257...  4.450611  \n",
       "354  -0.129383  {'type': 'Point', 'coordinates': [-0.129382830...  4.751048  \n",
       "\n",
       "[355 rows x 9 columns]"
      ]
     },
     "execution_count": 26,
     "metadata": {},
     "output_type": "execute_result"
    }
   ],
   "source": [
    "a"
   ]
  },
  {
   "cell_type": "code",
   "execution_count": 14,
   "id": "efe21278",
   "metadata": {},
   "outputs": [],
   "source": [
    "a = get_distances(ln, london_loc1)"
   ]
  },
  {
   "cell_type": "markdown",
   "id": "78418ea9",
   "metadata": {},
   "source": [
    "# PONDERACION"
   ]
  },
  {
   "cell_type": "code",
   "execution_count": 15,
   "id": "f0fa1a9e",
   "metadata": {},
   "outputs": [],
   "source": [
    "# Para escoger la localización, debemos dar importancia a las condiciones escogidas"
   ]
  },
  {
   "cell_type": "code",
   "execution_count": 24,
   "id": "07e9702a",
   "metadata": {},
   "outputs": [],
   "source": [
    "parks = 0.05\n",
    "school = 0.30\n",
    "Technological_Startups = 0.05\n",
    "Designing_Studios = 0.25\n",
    "Travelling_Stations = 0.2\n",
    "Leisure = 0.15"
   ]
  },
  {
   "cell_type": "code",
   "execution_count": null,
   "id": "cdad1a1d",
   "metadata": {},
   "outputs": [],
   "source": [
    "\n"
   ]
  },
  {
   "cell_type": "code",
   "execution_count": null,
   "id": "6b9f96cc",
   "metadata": {},
   "outputs": [],
   "source": []
  },
  {
   "cell_type": "code",
   "execution_count": null,
   "id": "45783eb1",
   "metadata": {},
   "outputs": [],
   "source": []
  }
 ],
 "metadata": {
  "kernelspec": {
   "display_name": "ironhack",
   "language": "python",
   "name": "ironhack"
  },
  "language_info": {
   "codemirror_mode": {
    "name": "ipython",
    "version": 3
   },
   "file_extension": ".py",
   "mimetype": "text/x-python",
   "name": "python",
   "nbconvert_exporter": "python",
   "pygments_lexer": "ipython3",
   "version": "3.8.11"
  }
 },
 "nbformat": 4,
 "nbformat_minor": 5
}
