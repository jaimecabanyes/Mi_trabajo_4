{
 "cells": [
  {
   "cell_type": "markdown",
   "id": "23e345dd",
   "metadata": {},
   "source": [
    "# GEOQUERIES"
   ]
  },
  {
   "cell_type": "code",
   "execution_count": 1,
   "id": "42006073",
   "metadata": {},
   "outputs": [],
   "source": [
    "from pymongo import MongoClient\n",
    "from pymongo import GEOSPHERE\n",
    "import json\n",
    "import pandas as pd\n",
    "from dotenv import load_dotenv\n",
    "import os\n",
    "import requests\n",
    "import geopandas as gpd"
   ]
  },
  {
   "cell_type": "code",
   "execution_count": 2,
   "id": "e1f36da9",
   "metadata": {},
   "outputs": [],
   "source": [
    "london_loc = [51.520624794291884, -0.0870022262169723]\n",
    "singapore_loc = [1.2862863534171092, 103.84868192263733]\n",
    "san_francisco_loc = [37.79787988216447, -122.41049370727525]"
   ]
  },
  {
   "cell_type": "markdown",
   "id": "87e64a47",
   "metadata": {},
   "source": [
    "# LONDON"
   ]
  },
  {
   "cell_type": "code",
   "execution_count": 3,
   "id": "38cc1194",
   "metadata": {},
   "outputs": [],
   "source": [
    "#Crear la conexión con el database de Londres dentro de MongoDB\n",
    "client = MongoClient(\"localhost:27017\")\n",
    "db_lnd = client.get_database(\"London\")"
   ]
  },
  {
   "cell_type": "code",
   "execution_count": 4,
   "id": "a90581cc",
   "metadata": {},
   "outputs": [
    {
     "data": {
      "text/plain": [
       "'location_2dsphere'"
      ]
     },
     "execution_count": 4,
     "metadata": {},
     "output_type": "execute_result"
    }
   ],
   "source": [
    "# Crear el index de 2dsphere para la base de datos de Londres para siempre\n",
    "db_lnd.barrios.create_index([(\"location\", GEOSPHERE)])"
   ]
  },
  {
   "cell_type": "code",
   "execution_count": 5,
   "id": "d910b9fa",
   "metadata": {},
   "outputs": [],
   "source": [
    "#Hacer las conexiones con cada collection de la base de datos\n",
    "ln_designco = db_lnd.get_collection(\"Designing Companies\")\n",
    "ln_leisure = db_lnd.get_collection(\"Leisure\")\n",
    "ln_parks = db_lnd.get_collection(\"Parks\")\n",
    "ln_schools = db_lnd.get_collection(\"Schools\")\n",
    "ln_techstartups = db_lnd.get_collection(\"Technological Startups\")\n",
    "ln_stations = db_lnd.get_collection(\"Travelling Stations\")\n",
    "ln_entero = db_lnd.get_collection(\"Entero\")"
   ]
  },
  {
   "cell_type": "markdown",
   "id": "2d5b0a71",
   "metadata": {},
   "source": [
    "# SINGAPORE"
   ]
  },
  {
   "cell_type": "code",
   "execution_count": 6,
   "id": "4dc668be",
   "metadata": {},
   "outputs": [],
   "source": [
    "#Crear la conexión con el database de Londres dentro de MongoDB\n",
    "client = MongoClient(\"localhost:27017\")\n",
    "db_sg = client.get_database(\"Singapore\")"
   ]
  },
  {
   "cell_type": "code",
   "execution_count": 7,
   "id": "aeac5c32",
   "metadata": {},
   "outputs": [
    {
     "data": {
      "text/plain": [
       "'location_2dsphere'"
      ]
     },
     "execution_count": 7,
     "metadata": {},
     "output_type": "execute_result"
    }
   ],
   "source": [
    "# Crear el index de 2dsphere para la base de datos de Londres para siempre\n",
    "db_sg.barrios.create_index([(\"location\", GEOSPHERE)])"
   ]
  },
  {
   "cell_type": "code",
   "execution_count": 8,
   "id": "24962dd3",
   "metadata": {},
   "outputs": [],
   "source": [
    "sg_designco = db_sg.get_collection(\"Designing Companies\")\n",
    "sg_leisure = db_sg.get_collection(\"Leisure\")\n",
    "sg_parks = db_sg.get_collection(\"Parks\")\n",
    "sg_schools = db_sg.get_collection(\"Schools\")\n",
    "sg_techstartups = db_sg.get_collection(\"Technological Startups\")\n",
    "sg_stations = db_sg.get_collection(\"Travelling Stations\")\n",
    "sg_entero = db_sg.get_collection(\"Entero\")"
   ]
  },
  {
   "cell_type": "markdown",
   "id": "b3b51a3b",
   "metadata": {},
   "source": [
    "# SAN FRANCISCO"
   ]
  },
  {
   "cell_type": "code",
   "execution_count": 9,
   "id": "4b715e41",
   "metadata": {},
   "outputs": [],
   "source": [
    "#Crear la conexión con el database de Londres dentro de MongoDB\n",
    "client = MongoClient(\"localhost:27017\")\n",
    "db_sf = client.get_database(\"San_Francisco\")"
   ]
  },
  {
   "cell_type": "code",
   "execution_count": 10,
   "id": "1e88416f",
   "metadata": {},
   "outputs": [
    {
     "data": {
      "text/plain": [
       "'location_2dsphere'"
      ]
     },
     "execution_count": 10,
     "metadata": {},
     "output_type": "execute_result"
    }
   ],
   "source": [
    "db_sf.barrios.create_index([(\"location\", GEOSPHERE)])"
   ]
  },
  {
   "cell_type": "code",
   "execution_count": 11,
   "id": "9c173ffc",
   "metadata": {},
   "outputs": [],
   "source": [
    "sf_designco = db_sf.get_collection(\"Designing Companies\")\n",
    "sf_leisure = db_sf.get_collection(\"Leisure\")\n",
    "sf_parks = db_sf.get_collection(\"Parks\")\n",
    "sf_schools = db_sf.get_collection(\"Schools\")\n",
    "sf_techstartups = db_sf.get_collection(\"Technological Startups\")\n",
    "sf_stations = db_sf.get_collection(\"Travelling Stations\")\n",
    "sf_entero = db_sf.get_collection(\"Entero\")"
   ]
  },
  {
   "cell_type": "code",
   "execution_count": null,
   "id": "77640b2c",
   "metadata": {},
   "outputs": [],
   "source": []
  }
 ],
 "metadata": {
  "kernelspec": {
   "display_name": "ironhack",
   "language": "python",
   "name": "ironhack"
  },
  "language_info": {
   "codemirror_mode": {
    "name": "ipython",
    "version": 3
   },
   "file_extension": ".py",
   "mimetype": "text/x-python",
   "name": "python",
   "nbconvert_exporter": "python",
   "pygments_lexer": "ipython3",
   "version": "3.8.11"
  }
 },
 "nbformat": 4,
 "nbformat_minor": 5
}
