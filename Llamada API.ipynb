{
 "cells": [
  {
   "cell_type": "markdown",
   "id": "d0bb1c43",
   "metadata": {},
   "source": [
    "# LOCALIZACIONES DEFINIDAS\n",
    "posibles lugares bien situados"
   ]
  },
  {
   "cell_type": "code",
   "execution_count": 1,
   "id": "fd3e2273",
   "metadata": {},
   "outputs": [],
   "source": [
    "london_loc = \"51.520624794291884, -0.0870022262169723\""
   ]
  },
  {
   "cell_type": "code",
   "execution_count": 2,
   "id": "b5207585",
   "metadata": {},
   "outputs": [],
   "source": [
    "singapore_loc = \"1.2862863534171092, 103.84868192263733\""
   ]
  },
  {
   "cell_type": "code",
   "execution_count": 3,
   "id": "0fda389d",
   "metadata": {},
   "outputs": [],
   "source": [
    "san_francisco_loc = \"37.79787988216447, -122.41049370727525\""
   ]
  },
  {
   "cell_type": "markdown",
   "id": "c1358bfa",
   "metadata": {},
   "source": [
    "# API\n",
    "importar librerias"
   ]
  },
  {
   "cell_type": "code",
   "execution_count": 4,
   "id": "25644eae",
   "metadata": {},
   "outputs": [],
   "source": [
    "import requests\n",
    "import json\n",
    "from dotenv import load_dotenv\n",
    "import os\n",
    "import pandas as pd\n",
    "import pyjsonviewer\n",
    "import geopandas \n",
    "import shapely\n",
    "import pymongo as pym\n",
    "from pymongo import MongoClient,GEOSPHERE\n",
    "import shapely.geometry as shg"
   ]
  },
  {
   "cell_type": "markdown",
   "id": "fde6d99e",
   "metadata": {},
   "source": [
    "# FUNCIONES DE LLAMADA A LA API"
   ]
  },
  {
   "cell_type": "code",
   "execution_count": 5,
   "id": "72123b6f",
   "metadata": {},
   "outputs": [
    {
     "data": {
      "text/plain": [
       "True"
      ]
     },
     "execution_count": 5,
     "metadata": {},
     "output_type": "execute_result"
    }
   ],
   "source": [
    "load_dotenv()\n",
    "#Tenemos los tokens guardados en un .env en el visual studio code"
   ]
  },
  {
   "cell_type": "code",
   "execution_count": 6,
   "id": "dec2bab8",
   "metadata": {},
   "outputs": [],
   "source": [
    "tk_id = os.getenv(\"token_client_id\")"
   ]
  },
  {
   "cell_type": "code",
   "execution_count": 7,
   "id": "376db8da",
   "metadata": {},
   "outputs": [],
   "source": [
    "tk_secret = os.getenv(\"token_client_secret\")"
   ]
  },
  {
   "cell_type": "code",
   "execution_count": 8,
   "id": "265e2807",
   "metadata": {},
   "outputs": [],
   "source": [
    "git_tk = os.getenv(\"github_tk\")"
   ]
  },
  {
   "cell_type": "code",
   "execution_count": 9,
   "id": "ac79c0bf",
   "metadata": {},
   "outputs": [],
   "source": [
    "url = 'https://api.foursquare.com/v2/venues/explore'"
   ]
  },
  {
   "cell_type": "code",
   "execution_count": 10,
   "id": "78e62246",
   "metadata": {},
   "outputs": [],
   "source": [
    "#pyjsonviewer.view_data(json_data = LaVariableQueQuierasSinComillas)"
   ]
  },
  {
   "cell_type": "code",
   "execution_count": 11,
   "id": "53d27374",
   "metadata": {},
   "outputs": [],
   "source": [
    "def llamada_API(url, coordenadas, query):\n",
    "    parametros = {\n",
    "    \"client_id\": tk_id,\n",
    "    \"client_secret\": tk_secret,\n",
    "    \"v\": \"20180323\",\n",
    "    \"ll\": f\"{coordenadas}\",\n",
    "    \"query\": f\"{query}\",\n",
    "    \"limit\": 200  \n",
    "}\n",
    "    response = requests.get(url, params=parametros).json()[\"response\"][\"groups\"][0][\"items\"]\n",
    "    return response"
   ]
  },
  {
   "cell_type": "code",
   "execution_count": 12,
   "id": "8a98844a",
   "metadata": {},
   "outputs": [],
   "source": [
    "def escoger_datos(response):\n",
    "    name = []\n",
    "    type_ = []\n",
    "    lat = []\n",
    "    lng = []\n",
    "    cc = []\n",
    "    adress = []\n",
    "    for i in response:\n",
    "        name.append(i[\"venue\"][\"name\"])\n",
    "    for i in response:\n",
    "        type_.append(i[\"venue\"][\"categories\"][0][\"name\"])\n",
    "    for i in response:\n",
    "        lng.append(i[\"venue\"][\"location\"][\"lng\"])\n",
    "    for i in response:\n",
    "        lat.append(i[\"venue\"][\"location\"][\"lat\"])\n",
    "    for i in response:\n",
    "        cc.append(i[\"venue\"][\"location\"][\"cc\"])\n",
    "    for i in response:\n",
    "        adress.append(i[\"venue\"][\"location\"][\"formattedAddress\"][0])      \n",
    "    response2 = [name , type_, cc, adress,  lat, lng ]\n",
    "\n",
    "    return response2"
   ]
  },
  {
   "cell_type": "code",
   "execution_count": 13,
   "id": "7e6d6db9",
   "metadata": {},
   "outputs": [],
   "source": [
    "def crear_df(response2):\n",
    "    df = pd.DataFrame(response2).T\n",
    "    df1 = df.rename(columns = {0:\"Name\", 1:\"Type\", 2:\"Country\", 3:\"Adress\", 4:\"Latitude\", 5:\"Longitude\", })\n",
    "    return df1"
   ]
  },
  {
   "cell_type": "code",
   "execution_count": 14,
   "id": "825c0406",
   "metadata": {},
   "outputs": [],
   "source": [
    "def get_geometry(df):\n",
    "    df2 = geopandas.GeoDataFrame(df, geometry=geopandas.points_from_xy(df.Latitude, df.Longitude))\n",
    "    return df2"
   ]
  },
  {
   "cell_type": "code",
   "execution_count": 15,
   "id": "968fe774",
   "metadata": {},
   "outputs": [],
   "source": [
    "def get_loc(df):\n",
    "    df3 = df['geometry'].apply(lambda x:shapely.geometry.mapping(x))\n",
    "    return pd.DataFrame(df3)"
   ]
  },
  {
   "cell_type": "code",
   "execution_count": 16,
   "id": "2b1fcf5e",
   "metadata": {},
   "outputs": [],
   "source": [
    "def df_final1(url, coordenadas, query):\n",
    "    a  = llamada_API(url, coordenadas, query)\n",
    "    b = escoger_datos(a)\n",
    "    c = crear_df(b)\n",
    "    d = get_geometry(c)\n",
    "    d[\"location\"] = get_loc(d)\n",
    "    df_terminado = d[[\"Name\",\"Type\",\"Country\", \"Adress\",\"Latitude\",\"Longitude\",\"location\"]]\n",
    "    return df_terminado"
   ]
  },
  {
   "cell_type": "markdown",
   "id": "43046f9d",
   "metadata": {},
   "source": [
    "# FUNCTIONS TO GET CONDITIONS OF A LOCATION"
   ]
  },
  {
   "cell_type": "markdown",
   "id": "0e7fc5ba",
   "metadata": {},
   "source": [
    "# SCHOOLS"
   ]
  },
  {
   "cell_type": "code",
   "execution_count": 17,
   "id": "3669910d",
   "metadata": {},
   "outputs": [],
   "source": [
    "Schools = [\"Nursery School\",\"Elementary School\",\"Middle School\",\"High School\"]\n",
    "def get_schools(location, Schools):\n",
    "    Nursery_sch = df_final1(url, location, Schools[0])\n",
    "    Elementary_sch = df_final1(url, location, Schools[1])\n",
    "    Middle_sch = df_final1(url, location, Schools[2])\n",
    "    High_sch = df_final1(url, location, Schools[3])\n",
    "    all_schools_bad_index = pd.concat([Nursery_sch, Elementary_sch, Middle_sch, High_sch])\n",
    "    all_schools = all_schools_bad_index.reset_index(drop=True)\n",
    "    return all_schools"
   ]
  },
  {
   "cell_type": "markdown",
   "id": "dda70290",
   "metadata": {},
   "source": [
    "# DESIGNING COMPANIES"
   ]
  },
  {
   "cell_type": "code",
   "execution_count": 18,
   "id": "f5050aa5",
   "metadata": {},
   "outputs": [],
   "source": [
    "def get_design_studio(location):\n",
    "    DesignCo = df_final1(url, location, \"Design Studio\")\n",
    "    return DesignCo"
   ]
  },
  {
   "cell_type": "markdown",
   "id": "ca0ab44f",
   "metadata": {},
   "source": [
    "# TECH STARTUPS"
   ]
  },
  {
   "cell_type": "code",
   "execution_count": 19,
   "id": "ff45f115",
   "metadata": {},
   "outputs": [],
   "source": [
    "def get_tech_startups(location):\n",
    "    TechStaUp = df_final1(url, location, \"Tech Startup\")\n",
    "    return TechStaUp\n",
    "    "
   ]
  },
  {
   "cell_type": "markdown",
   "id": "4fa62d17",
   "metadata": {},
   "source": [
    "# LEISURE"
   ]
  },
  {
   "cell_type": "code",
   "execution_count": 20,
   "id": "d23d24c1",
   "metadata": {},
   "outputs": [],
   "source": [
    "leisure = [\"Nightclub\", \"Piano Bar\", \"Pub\", \"Irish Pub\"]\n",
    "def get_leisure(location, leisure):\n",
    "    Disco = df_final1(url, location, leisure[0])\n",
    "    Piano_bar = df_final1(url, location, leisure[1])\n",
    "    Pub = df_final1(url, location, leisure[2])\n",
    "    irish_pub = df_final1(url, location, leisure[3])\n",
    "    all_leisure_bad_index = pd.concat([Disco, Piano_bar, Pub, irish_pub])\n",
    "    leisure = all_leisure_bad_index.reset_index(drop=True)\n",
    "    return leisure"
   ]
  },
  {
   "cell_type": "markdown",
   "id": "448d6676",
   "metadata": {},
   "source": [
    "# TRAVELLING STATIONS"
   ]
  },
  {
   "cell_type": "code",
   "execution_count": 21,
   "id": "9af6a727",
   "metadata": {},
   "outputs": [],
   "source": [
    "stations = [\"Metro Station\", \"Light Rail Station\", \"Bus Station\"  ]\n",
    "def get_closeby_stations(location, stations):\n",
    "    Metro = df_final1(url, location, stations[0])\n",
    "    Rail_Station = df_final1(url, location, stations[1])\n",
    "    Bus_Station = df_final1(url, location, stations[1])\n",
    "    all_stations_bad_index = pd.concat([Metro, Rail_Station, Bus_Station])\n",
    "    stations = all_stations_bad_index.reset_index(drop=True)\n",
    "    return stations"
   ]
  },
  {
   "cell_type": "markdown",
   "id": "483c50ab",
   "metadata": {},
   "source": [
    "# PARKS"
   ]
  },
  {
   "cell_type": "code",
   "execution_count": 22,
   "id": "f70c46c7",
   "metadata": {},
   "outputs": [],
   "source": [
    "def get_parks(location):\n",
    "    Parks = df_final1(url, london_loc, \"Park\")\n",
    "    return Parks"
   ]
  },
  {
   "cell_type": "markdown",
   "id": "f08ec3d8",
   "metadata": {},
   "source": [
    "# DATAFRAME GLOBAL Y LIMPIO"
   ]
  },
  {
   "cell_type": "code",
   "execution_count": 23,
   "id": "20607813",
   "metadata": {},
   "outputs": [],
   "source": [
    "def df_FINAL(location):\n",
    "    a = get_schools(location, Schools)\n",
    "    b = get_design_studio(location)\n",
    "    c = get_tech_startups(location)\n",
    "    d = get_leisure(location, leisure)\n",
    "    e = get_closeby_stations(location,stations)\n",
    "    f = get_parks(location)\n",
    "    global_dataframe_bad_index = pd.concat([a,b,c,d,e,f])\n",
    "    global_df_final = global_dataframe_bad_index.reset_index(drop=True)\n",
    "    return global_df_final"
   ]
  },
  {
   "cell_type": "code",
   "execution_count": 24,
   "id": "cb9bbff6",
   "metadata": {},
   "outputs": [],
   "source": [
    "a = df_FINAL(london_loc)"
   ]
  },
  {
   "cell_type": "code",
   "execution_count": 40,
   "id": "c562ff78",
   "metadata": {},
   "outputs": [
    {
     "data": {
      "text/html": [
       "<div>\n",
       "<style scoped>\n",
       "    .dataframe tbody tr th:only-of-type {\n",
       "        vertical-align: middle;\n",
       "    }\n",
       "\n",
       "    .dataframe tbody tr th {\n",
       "        vertical-align: top;\n",
       "    }\n",
       "\n",
       "    .dataframe thead th {\n",
       "        text-align: right;\n",
       "    }\n",
       "</style>\n",
       "<table border=\"1\" class=\"dataframe\">\n",
       "  <thead>\n",
       "    <tr style=\"text-align: right;\">\n",
       "      <th></th>\n",
       "      <th>Name</th>\n",
       "      <th>Type</th>\n",
       "      <th>Country</th>\n",
       "      <th>Adress</th>\n",
       "      <th>Latitude</th>\n",
       "      <th>Longitude</th>\n",
       "      <th>location</th>\n",
       "    </tr>\n",
       "  </thead>\n",
       "  <tbody>\n",
       "    <tr>\n",
       "      <th>72</th>\n",
       "      <td>By Creative Ltd</td>\n",
       "      <td>Design Studio</td>\n",
       "      <td>GB</td>\n",
       "      <td>147, Curtain Rd</td>\n",
       "      <td>51.526614</td>\n",
       "      <td>-0.080559</td>\n",
       "      <td>{'type': 'Point', 'coordinates': (51.5266135, ...</td>\n",
       "    </tr>\n",
       "    <tr>\n",
       "      <th>104</th>\n",
       "      <td>Knewton London</td>\n",
       "      <td>Tech Startup</td>\n",
       "      <td>GB</td>\n",
       "      <td>89 Worship Place</td>\n",
       "      <td>51.522069</td>\n",
       "      <td>-0.081966</td>\n",
       "      <td>{'type': 'Point', 'coordinates': (51.522069432...</td>\n",
       "    </tr>\n",
       "    <tr>\n",
       "      <th>76</th>\n",
       "      <td>Fuerte International</td>\n",
       "      <td>Design Studio</td>\n",
       "      <td>GB</td>\n",
       "      <td>6-8 Bonhill Street</td>\n",
       "      <td>51.529646</td>\n",
       "      <td>-0.086316</td>\n",
       "      <td>{'type': 'Point', 'coordinates': (51.529646321...</td>\n",
       "    </tr>\n",
       "    <tr>\n",
       "      <th>231</th>\n",
       "      <td>The Fox</td>\n",
       "      <td>Pub</td>\n",
       "      <td>GB</td>\n",
       "      <td>28 Paul St.</td>\n",
       "      <td>51.523358</td>\n",
       "      <td>-0.08433</td>\n",
       "      <td>{'type': 'Point', 'coordinates': (51.523357650...</td>\n",
       "    </tr>\n",
       "    <tr>\n",
       "      <th>40</th>\n",
       "      <td>Harris Academy</td>\n",
       "      <td>High School</td>\n",
       "      <td>GB</td>\n",
       "      <td>55 Southwark Park Road</td>\n",
       "      <td>51.492903</td>\n",
       "      <td>-0.070644</td>\n",
       "      <td>{'type': 'Point', 'coordinates': (51.492903442...</td>\n",
       "    </tr>\n",
       "    <tr>\n",
       "      <th>51</th>\n",
       "      <td>Alexander McQueen</td>\n",
       "      <td>Design Studio</td>\n",
       "      <td>GB</td>\n",
       "      <td>76-78 Clerkenwell Rd.</td>\n",
       "      <td>51.522614</td>\n",
       "      <td>-0.101735</td>\n",
       "      <td>{'type': 'Point', 'coordinates': (51.522613794...</td>\n",
       "    </tr>\n",
       "    <tr>\n",
       "      <th>0</th>\n",
       "      <td>Hatching Dragons</td>\n",
       "      <td>Nursery School</td>\n",
       "      <td>GB</td>\n",
       "      <td>1 Viscount Street</td>\n",
       "      <td>51.521599</td>\n",
       "      <td>-0.095356</td>\n",
       "      <td>{'type': 'Point', 'coordinates': (51.521599411...</td>\n",
       "    </tr>\n",
       "    <tr>\n",
       "      <th>31</th>\n",
       "      <td>Tufnel Park School</td>\n",
       "      <td>Middle School</td>\n",
       "      <td>GB</td>\n",
       "      <td>United Kingdom</td>\n",
       "      <td>51.554251</td>\n",
       "      <td>-0.129383</td>\n",
       "      <td>{'type': 'Point', 'coordinates': (51.554250946...</td>\n",
       "    </tr>\n",
       "    <tr>\n",
       "      <th>200</th>\n",
       "      <td>Well &amp; Bucket</td>\n",
       "      <td>Pub</td>\n",
       "      <td>GB</td>\n",
       "      <td>143 Bethnal Green Rd</td>\n",
       "      <td>51.525294</td>\n",
       "      <td>-0.070989</td>\n",
       "      <td>{'type': 'Point', 'coordinates': (51.525293555...</td>\n",
       "    </tr>\n",
       "    <tr>\n",
       "      <th>330</th>\n",
       "      <td>Quaker Garden</td>\n",
       "      <td>Park</td>\n",
       "      <td>GB</td>\n",
       "      <td>Banner St</td>\n",
       "      <td>51.523688</td>\n",
       "      <td>-0.090893</td>\n",
       "      <td>{'type': 'Point', 'coordinates': (51.523688241...</td>\n",
       "    </tr>\n",
       "  </tbody>\n",
       "</table>\n",
       "</div>"
      ],
      "text/plain": [
       "                     Name            Type Country                  Adress  \\\n",
       "72        By Creative Ltd   Design Studio      GB         147, Curtain Rd   \n",
       "104        Knewton London    Tech Startup      GB        89 Worship Place   \n",
       "76   Fuerte International   Design Studio      GB      6-8 Bonhill Street   \n",
       "231               The Fox             Pub      GB             28 Paul St.   \n",
       "40         Harris Academy     High School      GB  55 Southwark Park Road   \n",
       "51      Alexander McQueen   Design Studio      GB   76-78 Clerkenwell Rd.   \n",
       "0        Hatching Dragons  Nursery School      GB       1 Viscount Street   \n",
       "31     Tufnel Park School   Middle School      GB          United Kingdom   \n",
       "200         Well & Bucket             Pub      GB    143 Bethnal Green Rd   \n",
       "330         Quaker Garden            Park      GB               Banner St   \n",
       "\n",
       "      Latitude Longitude                                           location  \n",
       "72   51.526614 -0.080559  {'type': 'Point', 'coordinates': (51.5266135, ...  \n",
       "104  51.522069 -0.081966  {'type': 'Point', 'coordinates': (51.522069432...  \n",
       "76   51.529646 -0.086316  {'type': 'Point', 'coordinates': (51.529646321...  \n",
       "231  51.523358  -0.08433  {'type': 'Point', 'coordinates': (51.523357650...  \n",
       "40   51.492903 -0.070644  {'type': 'Point', 'coordinates': (51.492903442...  \n",
       "51   51.522614 -0.101735  {'type': 'Point', 'coordinates': (51.522613794...  \n",
       "0    51.521599 -0.095356  {'type': 'Point', 'coordinates': (51.521599411...  \n",
       "31   51.554251 -0.129383  {'type': 'Point', 'coordinates': (51.554250946...  \n",
       "200  51.525294 -0.070989  {'type': 'Point', 'coordinates': (51.525293555...  \n",
       "330  51.523688 -0.090893  {'type': 'Point', 'coordinates': (51.523688241...  "
      ]
     },
     "execution_count": 40,
     "metadata": {},
     "output_type": "execute_result"
    }
   ],
   "source": [
    "a.sample(10)"
   ]
  },
  {
   "cell_type": "markdown",
   "id": "e8512708",
   "metadata": {},
   "source": [
    "# LONDON"
   ]
  },
  {
   "cell_type": "code",
   "execution_count": 42,
   "id": "ac06f623",
   "metadata": {},
   "outputs": [],
   "source": [
    "london_schools = get_schools(london_loc, Schools)\n",
    "london_designing_companies = get_design_studio(london_loc)\n",
    "london_tech_startups = get_tech_startups(london_loc)\n",
    "london_leisure = get_leisure(london_loc, leisure)\n",
    "london_travelling_stations = get_closeby_stations(london_loc, stations)\n",
    "london_parks = get_parks(london_loc)\n",
    "london_df_entero = df_FINAL(london_loc)"
   ]
  },
  {
   "cell_type": "markdown",
   "id": "679b4765",
   "metadata": {},
   "source": [
    "# SINGAPORE"
   ]
  },
  {
   "cell_type": "code",
   "execution_count": 43,
   "id": "d03fa511",
   "metadata": {},
   "outputs": [],
   "source": [
    "singapore_schools = get_schools(singapore_loc, Schools)\n",
    "singapore_designing_companies = get_design_studio(singapore_loc)\n",
    "singapore_tech_startups = get_tech_startups(singapore_loc)\n",
    "singapore_leisure = get_leisure(singapore_loc, leisure)\n",
    "singapore_travelling_stations = get_closeby_stations(singapore_loc, stations)\n",
    "singapore_parks = get_parks(singapore_loc)\n",
    "singapore_df_entero = df_FINAL(singapore_loc)"
   ]
  },
  {
   "cell_type": "markdown",
   "id": "05208796",
   "metadata": {},
   "source": [
    "# SAN FRANCISCO"
   ]
  },
  {
   "cell_type": "code",
   "execution_count": 45,
   "id": "db78fc33",
   "metadata": {},
   "outputs": [],
   "source": [
    "sanfrancisco_schools = get_schools(san_francisco_loc, Schools)\n",
    "sanfrancisco_designing_companies = get_design_studio(san_francisco_loc)\n",
    "sanfrancisco_tech_startups = get_tech_startups(san_francisco_loc)\n",
    "sanfrancisco_leisure = get_leisure(san_francisco_loc, leisure)\n",
    "sanfrancisco_travelling_stations = get_closeby_stations(san_francisco_loc, stations)\n",
    "sanfrancisco_parks = get_parks(san_francisco_loc)\n",
    "sanfrancisco_df_entero = df_FINAL(san_francisco_loc)"
   ]
  },
  {
   "cell_type": "code",
   "execution_count": null,
   "id": "452b6f4e",
   "metadata": {},
   "outputs": [],
   "source": []
  }
 ],
 "metadata": {
  "kernelspec": {
   "display_name": "ironhack",
   "language": "python",
   "name": "ironhack"
  },
  "language_info": {
   "codemirror_mode": {
    "name": "ipython",
    "version": 3
   },
   "file_extension": ".py",
   "mimetype": "text/x-python",
   "name": "python",
   "nbconvert_exporter": "python",
   "pygments_lexer": "ipython3",
   "version": "3.8.11"
  }
 },
 "nbformat": 4,
 "nbformat_minor": 5
}
