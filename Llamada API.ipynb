{
 "cells": [
  {
   "cell_type": "markdown",
   "id": "d0bb1c43",
   "metadata": {},
   "source": [
    "# LOCALIZACIONES DEFINIDAS\n",
    "posibles lugares bien situados"
   ]
  },
  {
   "cell_type": "code",
   "execution_count": 1,
   "id": "fd3e2273",
   "metadata": {},
   "outputs": [],
   "source": [
    "london_loc = \"51.520624794291884, -0.0870022262169723\""
   ]
  },
  {
   "cell_type": "code",
   "execution_count": 2,
   "id": "b5207585",
   "metadata": {},
   "outputs": [],
   "source": [
    "singapore_loc = \"1.2862863534171092, 103.84868192263733\""
   ]
  },
  {
   "cell_type": "code",
   "execution_count": 3,
   "id": "0fda389d",
   "metadata": {},
   "outputs": [],
   "source": [
    "san_francisco_loc = \"37.79787988216447, -122.41049370727525\""
   ]
  },
  {
   "cell_type": "markdown",
   "id": "c1358bfa",
   "metadata": {},
   "source": [
    "# API\n",
    "importar librerias"
   ]
  },
  {
   "cell_type": "code",
   "execution_count": 4,
   "id": "25644eae",
   "metadata": {},
   "outputs": [],
   "source": [
    "import requests\n",
    "import json\n",
    "from dotenv import load_dotenv\n",
    "import os\n",
    "import pandas as pd\n",
    "import pyjsonviewer\n",
    "import geopandas \n",
    "import shapely\n",
    "import pymongo as pym\n",
    "from pymongo import MongoClient,GEOSPHERE\n",
    "import shapely.geometry as shg"
   ]
  },
  {
   "cell_type": "markdown",
   "id": "fde6d99e",
   "metadata": {},
   "source": [
    "# FUNCIONES DE LLAMADA A LA API"
   ]
  },
  {
   "cell_type": "code",
   "execution_count": 5,
   "id": "72123b6f",
   "metadata": {},
   "outputs": [
    {
     "data": {
      "text/plain": [
       "True"
      ]
     },
     "execution_count": 5,
     "metadata": {},
     "output_type": "execute_result"
    }
   ],
   "source": [
    "load_dotenv()\n",
    "#Tenemos los tokens guardados en un .env en el visual studio code"
   ]
  },
  {
   "cell_type": "code",
   "execution_count": 6,
   "id": "dec2bab8",
   "metadata": {},
   "outputs": [],
   "source": [
    "tk_id = os.getenv(\"token_client_id\")"
   ]
  },
  {
   "cell_type": "code",
   "execution_count": 7,
   "id": "376db8da",
   "metadata": {},
   "outputs": [],
   "source": [
    "tk_secret = os.getenv(\"token_client_secret\")"
   ]
  },
  {
   "cell_type": "code",
   "execution_count": 8,
   "id": "265e2807",
   "metadata": {},
   "outputs": [],
   "source": [
    "git_tk = os.getenv(\"github_tk\")"
   ]
  },
  {
   "cell_type": "code",
   "execution_count": 9,
   "id": "ac79c0bf",
   "metadata": {},
   "outputs": [],
   "source": [
    "url = 'https://api.foursquare.com/v2/venues/explore'"
   ]
  },
  {
   "cell_type": "code",
   "execution_count": 10,
   "id": "78e62246",
   "metadata": {},
   "outputs": [],
   "source": [
    "#pyjsonviewer.view_data(json_data = LaVariableQueQuierasSinComillas)"
   ]
  },
  {
   "cell_type": "code",
   "execution_count": 11,
   "id": "53d27374",
   "metadata": {},
   "outputs": [],
   "source": [
    "def llamada_API(url, coordenadas, query):\n",
    "    parametros = {\n",
    "    \"client_id\": tk_id,\n",
    "    \"client_secret\": tk_secret,\n",
    "    \"v\": \"20180323\",\n",
    "    \"ll\": f\"{coordenadas}\",\n",
    "    \"query\": f\"{query}\",\n",
    "    \"limit\": 200  \n",
    "}\n",
    "    response = requests.get(url, params=parametros).json()[\"response\"][\"groups\"][0][\"items\"]\n",
    "    return response"
   ]
  },
  {
   "cell_type": "code",
   "execution_count": 12,
   "id": "8a98844a",
   "metadata": {},
   "outputs": [],
   "source": [
    "def escoger_datos(response):\n",
    "    name = []\n",
    "    type_ = []\n",
    "    lat = []\n",
    "    lng = []\n",
    "    cc = []\n",
    "    adress = []\n",
    "    for i in response:\n",
    "        name.append(i[\"venue\"][\"name\"])\n",
    "    for i in response:\n",
    "        type_.append(i[\"venue\"][\"categories\"][0][\"name\"])\n",
    "    for i in response:\n",
    "        lng.append(i[\"venue\"][\"location\"][\"lng\"])\n",
    "    for i in response:\n",
    "        lat.append(i[\"venue\"][\"location\"][\"lat\"])\n",
    "    for i in response:\n",
    "        cc.append(i[\"venue\"][\"location\"][\"cc\"])\n",
    "    for i in response:\n",
    "        adress.append(i[\"venue\"][\"location\"][\"formattedAddress\"][0])      \n",
    "    response2 = [name , type_, cc, adress,  lat, lng ]\n",
    "\n",
    "    return response2"
   ]
  },
  {
   "cell_type": "code",
   "execution_count": 13,
   "id": "7e6d6db9",
   "metadata": {},
   "outputs": [],
   "source": [
    "def crear_df(response2):\n",
    "    df = pd.DataFrame(response2).T\n",
    "    df1 = df.rename(columns = {0:\"Name\", 1:\"Type\", 2:\"Country\", 3:\"Adress\", 4:\"Latitude\", 5:\"Longitude\", })\n",
    "    return df1"
   ]
  },
  {
   "cell_type": "code",
   "execution_count": 14,
   "id": "825c0406",
   "metadata": {},
   "outputs": [],
   "source": [
    "def get_geometry(df):\n",
    "    df2 = geopandas.GeoDataFrame(df, geometry=geopandas.points_from_xy(df.Latitude, df.Longitude))\n",
    "    return df2"
   ]
  },
  {
   "cell_type": "code",
   "execution_count": 15,
   "id": "1fefe139",
   "metadata": {},
   "outputs": [],
   "source": [
    "def get_loc(df):\n",
    "    df3 = df['geometry'].apply(lambda x:shapely.geometry.mapping(x))\n",
    "    return pd.DataFrame(df3)"
   ]
  },
  {
   "cell_type": "code",
   "execution_count": 16,
   "id": "2b1fcf5e",
   "metadata": {},
   "outputs": [],
   "source": [
    "def df_final1(url, coordenadas, query):\n",
    "    a  = llamada_API(url, coordenadas, query)\n",
    "    b = escoger_datos(a)\n",
    "    c = crear_df(b)\n",
    "    d = get_geometry(c)\n",
    "    d[\"location\"] = get_loc(d)\n",
    "    df_terminado = d[[\"Name\",\"Type\",\"Country\", \"Adress\",\"Latitude\",\"Longitude\",\"location\"]]\n",
    "    return df_terminado"
   ]
  },
  {
   "cell_type": "markdown",
   "id": "815f3d76",
   "metadata": {},
   "source": [
    "# FUNCTIONS TO GET CONDITIONS OF A LOCATION"
   ]
  },
  {
   "cell_type": "markdown",
   "id": "63a6cef8",
   "metadata": {},
   "source": [
    "# SCHOOLS"
   ]
  },
  {
   "cell_type": "code",
   "execution_count": 17,
   "id": "b0f2c48e",
   "metadata": {},
   "outputs": [],
   "source": [
    "Schools = [\"Nursery School\",\"Elementary School\",\"Middle School\",\"High School\"]\n",
    "def get_schools(location, Schools):\n",
    "    Nursery_sch = df_final1(url, location, Schools[0])\n",
    "    Elementary_sch = df_final1(url, location, Schools[1])\n",
    "    Middle_sch = df_final1(url, location, Schools[2])\n",
    "    High_sch = df_final1(url, location, Schools[3])\n",
    "    all_schools_bad_index = pd.concat([Nursery_sch, Elementary_sch, Middle_sch, High_sch])\n",
    "    all_schools = all_schools_bad_index.reset_index(drop=True)\n",
    "    return all_schools"
   ]
  },
  {
   "cell_type": "markdown",
   "id": "c066a34f",
   "metadata": {},
   "source": [
    "# DESIGNING COMPANIES"
   ]
  },
  {
   "cell_type": "code",
   "execution_count": 18,
   "id": "e8c13011",
   "metadata": {},
   "outputs": [],
   "source": [
    "def get_design_studio(location):\n",
    "    DesignCo = df_final1(url, location, \"Design Studio\")\n",
    "    return DesignCo"
   ]
  },
  {
   "cell_type": "markdown",
   "id": "dd13ea08",
   "metadata": {},
   "source": [
    "# TECH STARTUPS"
   ]
  },
  {
   "cell_type": "code",
   "execution_count": 19,
   "id": "c351611e",
   "metadata": {},
   "outputs": [],
   "source": [
    "def get_tech_startups(location):\n",
    "    TechStaUp = df_final1(url, location, \"Tech Startup\")\n",
    "    return TechStaUp\n",
    "    "
   ]
  },
  {
   "cell_type": "markdown",
   "id": "93ac29bb",
   "metadata": {},
   "source": [
    "# LEISURE"
   ]
  },
  {
   "cell_type": "code",
   "execution_count": 20,
   "id": "d168bd9d",
   "metadata": {},
   "outputs": [],
   "source": [
    "leisure = [\"Nightclub\", \"Piano Bar\", \"Pub\", \"Irish Pub\"]\n",
    "def get_leisure(location, leisure):\n",
    "    Disco = df_final1(url, location, leisure[0])\n",
    "    Piano_bar = df_final1(url, location, leisure[1])\n",
    "    Pub = df_final1(url, location, leisure[2])\n",
    "    irish_pub = df_final1(url, location, leisure[3])\n",
    "    all_leisure_bad_index = pd.concat([Disco, Piano_bar, Pub, irish_pub])\n",
    "    leisure = all_leisure_bad_index.reset_index(drop=True)\n",
    "    return leisure"
   ]
  },
  {
   "cell_type": "markdown",
   "id": "e0138771",
   "metadata": {},
   "source": [
    "# TRAVELLING STATIONS"
   ]
  },
  {
   "cell_type": "code",
   "execution_count": 21,
   "id": "96098c73",
   "metadata": {},
   "outputs": [],
   "source": [
    "stations = [\"Metro Station\", \"Light Rail Station\", \"Bus Station\"  ]\n",
    "def get_closeby_stations(location, stations):\n",
    "    Metro = df_final1(url, location, stations[0])\n",
    "    Rail_Station = df_final1(url, location, stations[1])\n",
    "    Bus_Station = df_final1(url, location, stations[1])\n",
    "    all_stations_bad_index = pd.concat([Metro, Rail_Station, Bus_Station])\n",
    "    stations = all_stations_bad_index.reset_index(drop=True)\n",
    "    return stations"
   ]
  },
  {
   "cell_type": "markdown",
   "id": "3a80c790",
   "metadata": {},
   "source": [
    "# PARKS"
   ]
  },
  {
   "cell_type": "code",
   "execution_count": 22,
   "id": "fc3ebb3b",
   "metadata": {},
   "outputs": [],
   "source": [
    "def get_parks(location):\n",
    "    Parks = df_final1(url, london_loc, \"Park\")\n",
    "    return Parks"
   ]
  },
  {
   "cell_type": "markdown",
   "id": "16e22356",
   "metadata": {},
   "source": [
    "# DATAFRAME GLOBAL Y LIMPIO"
   ]
  },
  {
   "cell_type": "code",
   "execution_count": 25,
   "id": "9e8e5d7b",
   "metadata": {},
   "outputs": [],
   "source": [
    "def df_FINAL(location):\n",
    "    a = get_schools(location, Schools)\n",
    "    b = get_design_studio(location)\n",
    "    c = get_tech_startups(location)\n",
    "    d = get_leisure(location, leisure)\n",
    "    e = get_closeby_stations(location,stations)\n",
    "    f = get_parks(location)\n",
    "    global_dataframe_bad_index = pd.concat([a,b,c,d,e,f])\n",
    "    global_df_final = global_dataframe_bad_index.reset_index(drop=True)\n",
    "    return global_df_final"
   ]
  },
  {
   "cell_type": "code",
   "execution_count": 28,
   "id": "d6fa21b0",
   "metadata": {},
   "outputs": [],
   "source": [
    "a = df_FINAL(london_loc)"
   ]
  },
  {
   "cell_type": "code",
   "execution_count": 30,
   "id": "487b2701",
   "metadata": {},
   "outputs": [
    {
     "data": {
      "text/html": [
       "<div>\n",
       "<style scoped>\n",
       "    .dataframe tbody tr th:only-of-type {\n",
       "        vertical-align: middle;\n",
       "    }\n",
       "\n",
       "    .dataframe tbody tr th {\n",
       "        vertical-align: top;\n",
       "    }\n",
       "\n",
       "    .dataframe thead th {\n",
       "        text-align: right;\n",
       "    }\n",
       "</style>\n",
       "<table border=\"1\" class=\"dataframe\">\n",
       "  <thead>\n",
       "    <tr style=\"text-align: right;\">\n",
       "      <th></th>\n",
       "      <th>Name</th>\n",
       "      <th>Type</th>\n",
       "      <th>Country</th>\n",
       "      <th>Adress</th>\n",
       "      <th>Latitude</th>\n",
       "      <th>Longitude</th>\n",
       "      <th>location</th>\n",
       "    </tr>\n",
       "  </thead>\n",
       "  <tbody>\n",
       "    <tr>\n",
       "      <th>108</th>\n",
       "      <td>Lanyrd HQ</td>\n",
       "      <td>Tech Startup</td>\n",
       "      <td>GB</td>\n",
       "      <td>32-38 Scrutton Street</td>\n",
       "      <td>51.523215</td>\n",
       "      <td>-0.081803</td>\n",
       "      <td>{'type': 'Point', 'coordinates': (51.523214917...</td>\n",
       "    </tr>\n",
       "    <tr>\n",
       "      <th>247</th>\n",
       "      <td>Duke Of Somerset</td>\n",
       "      <td>Pub</td>\n",
       "      <td>GB</td>\n",
       "      <td>15 Little Somerset Street (Mansell St)</td>\n",
       "      <td>51.513644</td>\n",
       "      <td>-0.073862</td>\n",
       "      <td>{'type': 'Point', 'coordinates': (51.513644015...</td>\n",
       "    </tr>\n",
       "    <tr>\n",
       "      <th>24</th>\n",
       "      <td>Shackelwell Primary School</td>\n",
       "      <td>Elementary School</td>\n",
       "      <td>GB</td>\n",
       "      <td>Shackelwell Row</td>\n",
       "      <td>51.551951</td>\n",
       "      <td>-0.071973</td>\n",
       "      <td>{'type': 'Point', 'coordinates': (51.551950637...</td>\n",
       "    </tr>\n",
       "    <tr>\n",
       "      <th>275</th>\n",
       "      <td>The Hoop and Grapes</td>\n",
       "      <td>Pub</td>\n",
       "      <td>GB</td>\n",
       "      <td>47 High St (Mansell St)</td>\n",
       "      <td>51.5144</td>\n",
       "      <td>-0.074285</td>\n",
       "      <td>{'type': 'Point', 'coordinates': (51.514400476...</td>\n",
       "    </tr>\n",
       "    <tr>\n",
       "      <th>58</th>\n",
       "      <td>Chroma Studios</td>\n",
       "      <td>Design Studio</td>\n",
       "      <td>GB</td>\n",
       "      <td>86-90 Paul Street</td>\n",
       "      <td>51.525719</td>\n",
       "      <td>-0.083741</td>\n",
       "      <td>{'type': 'Point', 'coordinates': (51.525718702...</td>\n",
       "    </tr>\n",
       "    <tr>\n",
       "      <th>189</th>\n",
       "      <td>The Owl &amp; Pussycat</td>\n",
       "      <td>Pub</td>\n",
       "      <td>GB</td>\n",
       "      <td>34 Redchurch St</td>\n",
       "      <td>51.524366</td>\n",
       "      <td>-0.0755</td>\n",
       "      <td>{'type': 'Point', 'coordinates': (51.524366445...</td>\n",
       "    </tr>\n",
       "    <tr>\n",
       "      <th>231</th>\n",
       "      <td>The Fox</td>\n",
       "      <td>Pub</td>\n",
       "      <td>GB</td>\n",
       "      <td>28 Paul St.</td>\n",
       "      <td>51.523358</td>\n",
       "      <td>-0.08433</td>\n",
       "      <td>{'type': 'Point', 'coordinates': (51.523357650...</td>\n",
       "    </tr>\n",
       "    <tr>\n",
       "      <th>214</th>\n",
       "      <td>Bricklayer's Arms</td>\n",
       "      <td>Pub</td>\n",
       "      <td>GB</td>\n",
       "      <td>63 Charlotte Rd. (at Rivington St.)</td>\n",
       "      <td>51.526095</td>\n",
       "      <td>-0.081181</td>\n",
       "      <td>{'type': 'Point', 'coordinates': (51.526095376...</td>\n",
       "    </tr>\n",
       "    <tr>\n",
       "      <th>159</th>\n",
       "      <td>Club Reina</td>\n",
       "      <td>Nightclub</td>\n",
       "      <td>GB</td>\n",
       "      <td>85 Charterhouse St</td>\n",
       "      <td>51.519715</td>\n",
       "      <td>-0.101815</td>\n",
       "      <td>{'type': 'Point', 'coordinates': (51.519714631...</td>\n",
       "    </tr>\n",
       "    <tr>\n",
       "      <th>162</th>\n",
       "      <td>Shoreditch House</td>\n",
       "      <td>Social Club</td>\n",
       "      <td>GB</td>\n",
       "      <td>Ebor Street</td>\n",
       "      <td>51.523781</td>\n",
       "      <td>-0.075933</td>\n",
       "      <td>{'type': 'Point', 'coordinates': (51.52378114,...</td>\n",
       "    </tr>\n",
       "  </tbody>\n",
       "</table>\n",
       "</div>"
      ],
      "text/plain": [
       "                           Name               Type Country  \\\n",
       "108                   Lanyrd HQ       Tech Startup      GB   \n",
       "247            Duke Of Somerset                Pub      GB   \n",
       "24   Shackelwell Primary School  Elementary School      GB   \n",
       "275         The Hoop and Grapes                Pub      GB   \n",
       "58               Chroma Studios      Design Studio      GB   \n",
       "189          The Owl & Pussycat                Pub      GB   \n",
       "231                     The Fox                Pub      GB   \n",
       "214           Bricklayer's Arms                Pub      GB   \n",
       "159                  Club Reina          Nightclub      GB   \n",
       "162            Shoreditch House        Social Club      GB   \n",
       "\n",
       "                                     Adress   Latitude Longitude  \\\n",
       "108                   32-38 Scrutton Street  51.523215 -0.081803   \n",
       "247  15 Little Somerset Street (Mansell St)  51.513644 -0.073862   \n",
       "24                          Shackelwell Row  51.551951 -0.071973   \n",
       "275                 47 High St (Mansell St)    51.5144 -0.074285   \n",
       "58                        86-90 Paul Street  51.525719 -0.083741   \n",
       "189                         34 Redchurch St  51.524366   -0.0755   \n",
       "231                             28 Paul St.  51.523358  -0.08433   \n",
       "214     63 Charlotte Rd. (at Rivington St.)  51.526095 -0.081181   \n",
       "159                      85 Charterhouse St  51.519715 -0.101815   \n",
       "162                             Ebor Street  51.523781 -0.075933   \n",
       "\n",
       "                                              location  \n",
       "108  {'type': 'Point', 'coordinates': (51.523214917...  \n",
       "247  {'type': 'Point', 'coordinates': (51.513644015...  \n",
       "24   {'type': 'Point', 'coordinates': (51.551950637...  \n",
       "275  {'type': 'Point', 'coordinates': (51.514400476...  \n",
       "58   {'type': 'Point', 'coordinates': (51.525718702...  \n",
       "189  {'type': 'Point', 'coordinates': (51.524366445...  \n",
       "231  {'type': 'Point', 'coordinates': (51.523357650...  \n",
       "214  {'type': 'Point', 'coordinates': (51.526095376...  \n",
       "159  {'type': 'Point', 'coordinates': (51.519714631...  \n",
       "162  {'type': 'Point', 'coordinates': (51.52378114,...  "
      ]
     },
     "execution_count": 30,
     "metadata": {},
     "output_type": "execute_result"
    }
   ],
   "source": [
    "a.sample(10)"
   ]
  },
  {
   "cell_type": "code",
   "execution_count": null,
   "id": "e965ee62",
   "metadata": {},
   "outputs": [],
   "source": []
  },
  {
   "cell_type": "code",
   "execution_count": null,
   "id": "c4871672",
   "metadata": {},
   "outputs": [],
   "source": []
  },
  {
   "cell_type": "markdown",
   "id": "96f3882b",
   "metadata": {},
   "source": [
    "# LONDON"
   ]
  },
  {
   "cell_type": "markdown",
   "id": "29885dca",
   "metadata": {},
   "source": [
    "####### Schools\n",
    "ldn_Nursery_sch = df_final(url, london_loc, \"Nursery School\")\n",
    "ldn_Elementary_sch = df_final(url, london_loc, \"Elementary School\")\n",
    "ldn_Middle_sch = df_final(url, london_loc, \"Middle School\")\n",
    "ldn_High_sch = df_final(url, london_loc, \"High School\")\n",
    "####### Design Studio\n",
    "ldn_DesignCo = df_final(url, london_loc, \"Design Studio\")\n",
    "####### Technological StartUps\n",
    "ldn_TechStaUp = df_final(url, london_loc, \"Tech Startup\")\n",
    "####### London Leisure\n",
    "ldn_Disco = df_final(url, london_loc, \"Nightclub\")\n",
    "ldn_Piano_bar = df_final(url, london_loc, \"Piano Bar\")\n",
    "ldn_Pub = df_final(url, london_loc, \"Pub\")\n",
    "ldn_irish_pub = df_final(url, london_loc, \"Irish Pub\")\n",
    "####### Travelling \n",
    "ldn_Metro = df_final(url, london_loc, \"Metro Station\")\n",
    "ldn_Rail_Station = df_final(url, london_loc, \"Light Rail Station\")\n",
    "ldn_Bus_Station = df_final(url, london_loc, \"Bus Station\")\n",
    "####### Parks (For Dobby and maintenance guy)\n",
    "ldn_Park = df_final(url, london_loc, \"Park\"))\n"
   ]
  },
  {
   "cell_type": "code",
   "execution_count": null,
   "id": "dce8088a",
   "metadata": {},
   "outputs": [],
   "source": []
  }
 ],
 "metadata": {
  "kernelspec": {
   "display_name": "ironhack",
   "language": "python",
   "name": "ironhack"
  },
  "language_info": {
   "codemirror_mode": {
    "name": "ipython",
    "version": 3
   },
   "file_extension": ".py",
   "mimetype": "text/x-python",
   "name": "python",
   "nbconvert_exporter": "python",
   "pygments_lexer": "ipython3",
   "version": "3.8.11"
  }
 },
 "nbformat": 4,
 "nbformat_minor": 5
}
