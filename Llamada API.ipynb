{
 "cells": [
  {
   "cell_type": "markdown",
   "id": "d0bb1c43",
   "metadata": {},
   "source": [
    "# LOCALIZACIONES DEFINIDAS\n",
    "posibles lugares bien situados"
   ]
  },
  {
   "cell_type": "code",
   "execution_count": 1,
   "id": "fd3e2273",
   "metadata": {},
   "outputs": [],
   "source": [
    "london_loc = \"51.520624794291884, -0.0870022262169723\""
   ]
  },
  {
   "cell_type": "code",
   "execution_count": 2,
   "id": "b5207585",
   "metadata": {},
   "outputs": [],
   "source": [
    "singapore_loc = \"1.2862863534171092, 103.84868192263733\""
   ]
  },
  {
   "cell_type": "code",
   "execution_count": 3,
   "id": "0fda389d",
   "metadata": {},
   "outputs": [],
   "source": [
    "san_francisco_loc = \"37.79787988216447, -122.41049370727525\""
   ]
  },
  {
   "cell_type": "markdown",
   "id": "c1358bfa",
   "metadata": {},
   "source": [
    "# API\n",
    "importar librerias"
   ]
  },
  {
   "cell_type": "code",
   "execution_count": 4,
   "id": "25644eae",
   "metadata": {},
   "outputs": [],
   "source": [
    "import requests\n",
    "import json\n",
    "from dotenv import load_dotenv\n",
    "import os\n",
    "import pandas as pd\n",
    "import pyjsonviewer\n",
    "import geopandas \n",
    "import shapely\n",
    "import pymongo as pym\n",
    "from pymongo import MongoClient,GEOSPHERE\n",
    "import shapely.geometry as shg"
   ]
  },
  {
   "cell_type": "markdown",
   "id": "fde6d99e",
   "metadata": {},
   "source": [
    "# FUNCIONES DE LLAMADA A LA API"
   ]
  },
  {
   "cell_type": "code",
   "execution_count": 5,
   "id": "72123b6f",
   "metadata": {},
   "outputs": [
    {
     "data": {
      "text/plain": [
       "True"
      ]
     },
     "execution_count": 5,
     "metadata": {},
     "output_type": "execute_result"
    }
   ],
   "source": [
    "load_dotenv()\n",
    "#Tenemos los tokens guardados en un .env en el visual studio code"
   ]
  },
  {
   "cell_type": "code",
   "execution_count": 6,
   "id": "dec2bab8",
   "metadata": {},
   "outputs": [],
   "source": [
    "tk_id = os.getenv(\"token_client_id\")"
   ]
  },
  {
   "cell_type": "code",
   "execution_count": 7,
   "id": "376db8da",
   "metadata": {},
   "outputs": [],
   "source": [
    "tk_secret = os.getenv(\"token_client_secret\")"
   ]
  },
  {
   "cell_type": "code",
   "execution_count": 8,
   "id": "265e2807",
   "metadata": {},
   "outputs": [],
   "source": [
    "git_tk = os.getenv(\"github_tk\")"
   ]
  },
  {
   "cell_type": "code",
   "execution_count": 9,
   "id": "ac79c0bf",
   "metadata": {},
   "outputs": [],
   "source": [
    "url = 'https://api.foursquare.com/v2/venues/explore'"
   ]
  },
  {
   "cell_type": "code",
   "execution_count": 10,
   "id": "78e62246",
   "metadata": {},
   "outputs": [],
   "source": [
    "#pyjsonviewer.view_data(json_data = LaVariableQueQuierasSinComillas)"
   ]
  },
  {
   "cell_type": "code",
   "execution_count": 11,
   "id": "53d27374",
   "metadata": {},
   "outputs": [],
   "source": [
    "def llamada_API(url, coordenadas, query):\n",
    "    parametros = {\n",
    "    \"client_id\": tk_id,\n",
    "    \"client_secret\": tk_secret,\n",
    "    \"v\": \"20180323\",\n",
    "    \"ll\": f\"{coordenadas}\",\n",
    "    \"query\": f\"{query}\",\n",
    "    \"limit\": 200  \n",
    "}\n",
    "    response = requests.get(url, params=parametros).json()[\"response\"][\"groups\"][0][\"items\"]\n",
    "    return response"
   ]
  },
  {
   "cell_type": "code",
   "execution_count": 12,
   "id": "8a98844a",
   "metadata": {},
   "outputs": [],
   "source": [
    "def escoger_datos(response):\n",
    "    name = []\n",
    "    type_ = []\n",
    "    lat = []\n",
    "    lng = []\n",
    "    cc = []\n",
    "    adress = []\n",
    "    for i in response:\n",
    "        name.append(i[\"venue\"][\"name\"])\n",
    "    for i in response:\n",
    "        type_.append(i[\"venue\"][\"categories\"][0][\"name\"])\n",
    "    for i in response:\n",
    "        lng.append(i[\"venue\"][\"location\"][\"lng\"])\n",
    "    for i in response:\n",
    "        lat.append(i[\"venue\"][\"location\"][\"lat\"])\n",
    "    for i in response:\n",
    "        cc.append(i[\"venue\"][\"location\"][\"cc\"])\n",
    "    for i in response:\n",
    "        adress.append(i[\"venue\"][\"location\"][\"formattedAddress\"][0])      \n",
    "    response2 = [name , type_, cc, adress,  lat, lng ]\n",
    "\n",
    "    return response2"
   ]
  },
  {
   "cell_type": "code",
   "execution_count": 13,
   "id": "7e6d6db9",
   "metadata": {},
   "outputs": [],
   "source": [
    "def crear_df(response2):\n",
    "    df = pd.DataFrame(response2).T\n",
    "    df1 = df.rename(columns = {0:\"Name\", 1:\"Type\", 2:\"Country\", 3:\"Adress\", 4:\"Latitude\", 5:\"Longitude\", })\n",
    "    return df1"
   ]
  },
  {
   "cell_type": "code",
   "execution_count": 14,
   "id": "825c0406",
   "metadata": {},
   "outputs": [],
   "source": [
    "def get_geometry(df):\n",
    "    df2 = geopandas.GeoDataFrame(df, geometry=geopandas.points_from_xy(df.Latitude, df.Longitude))\n",
    "    return df2"
   ]
  },
  {
   "cell_type": "code",
   "execution_count": 15,
   "id": "83bcfd86",
   "metadata": {},
   "outputs": [],
   "source": [
    "def get_loc(df):\n",
    "    df3 = df['geometry'].apply(lambda x:shapely.geometry.mapping(x))\n",
    "    return pd.DataFrame(df3)"
   ]
  },
  {
   "cell_type": "code",
   "execution_count": 16,
   "id": "2b1fcf5e",
   "metadata": {},
   "outputs": [],
   "source": [
    "def df_final1(url, coordenadas, query):\n",
    "    a  = llamada_API(url, coordenadas, query)\n",
    "    b = escoger_datos(a)\n",
    "    c = crear_df(b)\n",
    "    d = get_geometry(c)\n",
    "    d[\"location\"] = get_loc(d)\n",
    "    df_terminado = d[[\"Name\",\"Type\",\"Country\", \"Adress\",\"Latitude\",\"Longitude\",\"location\"]]\n",
    "    return df_terminado"
   ]
  },
  {
   "cell_type": "markdown",
   "id": "9de81127",
   "metadata": {},
   "source": [
    "# FUNCTIONS TO GET CONDITIONS OF A LOCATION"
   ]
  },
  {
   "cell_type": "markdown",
   "id": "be6a1bab",
   "metadata": {},
   "source": [
    "# SCHOOLS"
   ]
  },
  {
   "cell_type": "code",
   "execution_count": 17,
   "id": "f25495e4",
   "metadata": {},
   "outputs": [],
   "source": [
    "Schools = [\"Nursery School\",\"Elementary School\",\"Middle School\",\"High School\"]\n",
    "def get_schools(location, Schools):\n",
    "    Nursery_sch = df_final1(url, location, Schools[0])\n",
    "    Elementary_sch = df_final1(url, location, Schools[1])\n",
    "    Middle_sch = df_final1(url, location, Schools[2])\n",
    "    High_sch = df_final1(url, location, Schools[3])\n",
    "    all_schools_bad_index = pd.concat([Nursery_sch, Elementary_sch, Middle_sch, High_sch])\n",
    "    all_schools = all_schools_bad_index.reset_index(drop=True)\n",
    "    return all_schools"
   ]
  },
  {
   "cell_type": "markdown",
   "id": "a99aea7c",
   "metadata": {},
   "source": [
    "# DESIGNING COMPANIES"
   ]
  },
  {
   "cell_type": "code",
   "execution_count": 18,
   "id": "398c637c",
   "metadata": {},
   "outputs": [],
   "source": [
    "def get_design_studio(location):\n",
    "    DesignCo = df_final1(url, location, \"Design Studio\")\n",
    "    return DesignCo"
   ]
  },
  {
   "cell_type": "markdown",
   "id": "8718428f",
   "metadata": {},
   "source": [
    "# TECH STARTUPS"
   ]
  },
  {
   "cell_type": "code",
   "execution_count": 19,
   "id": "184179da",
   "metadata": {},
   "outputs": [],
   "source": [
    "def get_tech_startups(location):\n",
    "    TechStaUp = df_final1(url, location, \"Tech Startup\")\n",
    "    return TechStaUp\n",
    "    "
   ]
  },
  {
   "cell_type": "markdown",
   "id": "82ac139e",
   "metadata": {},
   "source": [
    "# LEISURE"
   ]
  },
  {
   "cell_type": "code",
   "execution_count": 20,
   "id": "25515b31",
   "metadata": {},
   "outputs": [],
   "source": [
    "leisure = [\"Nightclub\", \"Piano Bar\", \"Pub\", \"Irish Pub\"]\n",
    "def get_leisure(location, leisure):\n",
    "    Disco = df_final1(url, location, leisure[0])\n",
    "    Piano_bar = df_final1(url, location, leisure[1])\n",
    "    Pub = df_final1(url, location, leisure[2])\n",
    "    irish_pub = df_final1(url, location, leisure[3])\n",
    "    all_leisure_bad_index = pd.concat([Disco, Piano_bar, Pub, irish_pub])\n",
    "    leisure = all_leisure_bad_index.reset_index(drop=True)\n",
    "    return leisure"
   ]
  },
  {
   "cell_type": "markdown",
   "id": "f2c02f6c",
   "metadata": {},
   "source": [
    "# TRAVELLING STATIONS"
   ]
  },
  {
   "cell_type": "code",
   "execution_count": 21,
   "id": "99a9d4d4",
   "metadata": {},
   "outputs": [],
   "source": [
    "stations = [\"Metro Station\", \"Light Rail Station\", \"Bus Station\"  ]\n",
    "def get_closeby_stations(location, stations):\n",
    "    Metro = df_final1(url, location, stations[0])\n",
    "    Rail_Station = df_final1(url, location, stations[1])\n",
    "    Bus_Station = df_final1(url, location, stations[1])\n",
    "    all_stations_bad_index = pd.concat([Metro, Rail_Station, Bus_Station])\n",
    "    stations = all_stations_bad_index.reset_index(drop=True)\n",
    "    return stations"
   ]
  },
  {
   "cell_type": "markdown",
   "id": "078c2457",
   "metadata": {},
   "source": [
    "# PARKS"
   ]
  },
  {
   "cell_type": "code",
   "execution_count": 22,
   "id": "19cadf9f",
   "metadata": {},
   "outputs": [],
   "source": [
    "def get_parks(location):\n",
    "    Parks = df_final1(url, london_loc, \"Park\")\n",
    "    return Parks"
   ]
  },
  {
   "cell_type": "markdown",
   "id": "030cb18d",
   "metadata": {},
   "source": [
    "# DATAFRAME GLOBAL Y LIMPIO"
   ]
  },
  {
   "cell_type": "code",
   "execution_count": 23,
   "id": "cef0da7b",
   "metadata": {},
   "outputs": [],
   "source": [
    "def df_FINAL(location):\n",
    "    a = get_schools(location, Schools)\n",
    "    b = get_design_studio(location)\n",
    "    c = get_tech_startups(location)\n",
    "    d = get_leisure(location, leisure)\n",
    "    e = get_closeby_stations(location,stations)\n",
    "    f = get_parks(location)\n",
    "    global_dataframe_bad_index = pd.concat([a,b,c,d,e,f])\n",
    "    global_df_final = global_dataframe_bad_index.reset_index(drop=True)\n",
    "    return global_df_final"
   ]
  },
  {
   "cell_type": "code",
   "execution_count": 24,
   "id": "2697f7a6",
   "metadata": {},
   "outputs": [],
   "source": [
    "a = df_FINAL(london_loc)"
   ]
  },
  {
   "cell_type": "code",
   "execution_count": 40,
   "id": "0336f274",
   "metadata": {},
   "outputs": [
    {
     "data": {
      "text/html": [
       "<div>\n",
       "<style scoped>\n",
       "    .dataframe tbody tr th:only-of-type {\n",
       "        vertical-align: middle;\n",
       "    }\n",
       "\n",
       "    .dataframe tbody tr th {\n",
       "        vertical-align: top;\n",
       "    }\n",
       "\n",
       "    .dataframe thead th {\n",
       "        text-align: right;\n",
       "    }\n",
       "</style>\n",
       "<table border=\"1\" class=\"dataframe\">\n",
       "  <thead>\n",
       "    <tr style=\"text-align: right;\">\n",
       "      <th></th>\n",
       "      <th>Name</th>\n",
       "      <th>Type</th>\n",
       "      <th>Country</th>\n",
       "      <th>Adress</th>\n",
       "      <th>Latitude</th>\n",
       "      <th>Longitude</th>\n",
       "      <th>location</th>\n",
       "    </tr>\n",
       "  </thead>\n",
       "  <tbody>\n",
       "    <tr>\n",
       "      <th>72</th>\n",
       "      <td>By Creative Ltd</td>\n",
       "      <td>Design Studio</td>\n",
       "      <td>GB</td>\n",
       "      <td>147, Curtain Rd</td>\n",
       "      <td>51.526614</td>\n",
       "      <td>-0.080559</td>\n",
       "      <td>{'type': 'Point', 'coordinates': (51.5266135, ...</td>\n",
       "    </tr>\n",
       "    <tr>\n",
       "      <th>104</th>\n",
       "      <td>Knewton London</td>\n",
       "      <td>Tech Startup</td>\n",
       "      <td>GB</td>\n",
       "      <td>89 Worship Place</td>\n",
       "      <td>51.522069</td>\n",
       "      <td>-0.081966</td>\n",
       "      <td>{'type': 'Point', 'coordinates': (51.522069432...</td>\n",
       "    </tr>\n",
       "    <tr>\n",
       "      <th>76</th>\n",
       "      <td>Fuerte International</td>\n",
       "      <td>Design Studio</td>\n",
       "      <td>GB</td>\n",
       "      <td>6-8 Bonhill Street</td>\n",
       "      <td>51.529646</td>\n",
       "      <td>-0.086316</td>\n",
       "      <td>{'type': 'Point', 'coordinates': (51.529646321...</td>\n",
       "    </tr>\n",
       "    <tr>\n",
       "      <th>231</th>\n",
       "      <td>The Fox</td>\n",
       "      <td>Pub</td>\n",
       "      <td>GB</td>\n",
       "      <td>28 Paul St.</td>\n",
       "      <td>51.523358</td>\n",
       "      <td>-0.08433</td>\n",
       "      <td>{'type': 'Point', 'coordinates': (51.523357650...</td>\n",
       "    </tr>\n",
       "    <tr>\n",
       "      <th>40</th>\n",
       "      <td>Harris Academy</td>\n",
       "      <td>High School</td>\n",
       "      <td>GB</td>\n",
       "      <td>55 Southwark Park Road</td>\n",
       "      <td>51.492903</td>\n",
       "      <td>-0.070644</td>\n",
       "      <td>{'type': 'Point', 'coordinates': (51.492903442...</td>\n",
       "    </tr>\n",
       "    <tr>\n",
       "      <th>51</th>\n",
       "      <td>Alexander McQueen</td>\n",
       "      <td>Design Studio</td>\n",
       "      <td>GB</td>\n",
       "      <td>76-78 Clerkenwell Rd.</td>\n",
       "      <td>51.522614</td>\n",
       "      <td>-0.101735</td>\n",
       "      <td>{'type': 'Point', 'coordinates': (51.522613794...</td>\n",
       "    </tr>\n",
       "    <tr>\n",
       "      <th>0</th>\n",
       "      <td>Hatching Dragons</td>\n",
       "      <td>Nursery School</td>\n",
       "      <td>GB</td>\n",
       "      <td>1 Viscount Street</td>\n",
       "      <td>51.521599</td>\n",
       "      <td>-0.095356</td>\n",
       "      <td>{'type': 'Point', 'coordinates': (51.521599411...</td>\n",
       "    </tr>\n",
       "    <tr>\n",
       "      <th>31</th>\n",
       "      <td>Tufnel Park School</td>\n",
       "      <td>Middle School</td>\n",
       "      <td>GB</td>\n",
       "      <td>United Kingdom</td>\n",
       "      <td>51.554251</td>\n",
       "      <td>-0.129383</td>\n",
       "      <td>{'type': 'Point', 'coordinates': (51.554250946...</td>\n",
       "    </tr>\n",
       "    <tr>\n",
       "      <th>200</th>\n",
       "      <td>Well &amp; Bucket</td>\n",
       "      <td>Pub</td>\n",
       "      <td>GB</td>\n",
       "      <td>143 Bethnal Green Rd</td>\n",
       "      <td>51.525294</td>\n",
       "      <td>-0.070989</td>\n",
       "      <td>{'type': 'Point', 'coordinates': (51.525293555...</td>\n",
       "    </tr>\n",
       "    <tr>\n",
       "      <th>330</th>\n",
       "      <td>Quaker Garden</td>\n",
       "      <td>Park</td>\n",
       "      <td>GB</td>\n",
       "      <td>Banner St</td>\n",
       "      <td>51.523688</td>\n",
       "      <td>-0.090893</td>\n",
       "      <td>{'type': 'Point', 'coordinates': (51.523688241...</td>\n",
       "    </tr>\n",
       "  </tbody>\n",
       "</table>\n",
       "</div>"
      ],
      "text/plain": [
       "                     Name            Type Country                  Adress  \\\n",
       "72        By Creative Ltd   Design Studio      GB         147, Curtain Rd   \n",
       "104        Knewton London    Tech Startup      GB        89 Worship Place   \n",
       "76   Fuerte International   Design Studio      GB      6-8 Bonhill Street   \n",
       "231               The Fox             Pub      GB             28 Paul St.   \n",
       "40         Harris Academy     High School      GB  55 Southwark Park Road   \n",
       "51      Alexander McQueen   Design Studio      GB   76-78 Clerkenwell Rd.   \n",
       "0        Hatching Dragons  Nursery School      GB       1 Viscount Street   \n",
       "31     Tufnel Park School   Middle School      GB          United Kingdom   \n",
       "200         Well & Bucket             Pub      GB    143 Bethnal Green Rd   \n",
       "330         Quaker Garden            Park      GB               Banner St   \n",
       "\n",
       "      Latitude Longitude                                           location  \n",
       "72   51.526614 -0.080559  {'type': 'Point', 'coordinates': (51.5266135, ...  \n",
       "104  51.522069 -0.081966  {'type': 'Point', 'coordinates': (51.522069432...  \n",
       "76   51.529646 -0.086316  {'type': 'Point', 'coordinates': (51.529646321...  \n",
       "231  51.523358  -0.08433  {'type': 'Point', 'coordinates': (51.523357650...  \n",
       "40   51.492903 -0.070644  {'type': 'Point', 'coordinates': (51.492903442...  \n",
       "51   51.522614 -0.101735  {'type': 'Point', 'coordinates': (51.522613794...  \n",
       "0    51.521599 -0.095356  {'type': 'Point', 'coordinates': (51.521599411...  \n",
       "31   51.554251 -0.129383  {'type': 'Point', 'coordinates': (51.554250946...  \n",
       "200  51.525294 -0.070989  {'type': 'Point', 'coordinates': (51.525293555...  \n",
       "330  51.523688 -0.090893  {'type': 'Point', 'coordinates': (51.523688241...  "
      ]
     },
     "execution_count": 40,
     "metadata": {},
     "output_type": "execute_result"
    }
   ],
   "source": [
    "a.sample(10)"
   ]
  },
  {
   "cell_type": "markdown",
   "id": "71b98e6f",
   "metadata": {},
   "source": [
    "# LONDON"
   ]
  },
  {
   "cell_type": "code",
   "execution_count": 42,
   "id": "9739250a",
   "metadata": {},
   "outputs": [],
   "source": [
    "london_schools = get_schools(london_loc, Schools)\n",
    "london_designing_companies = get_design_studio(london_loc)\n",
    "london_tech_startups = get_tech_startups(london_loc)\n",
    "london_leisure = get_leisure(london_loc, leisure)\n",
    "london_travelling_stations = get_closeby_stations(london_loc, stations)\n",
    "london_parks = get_parks(london_loc)\n",
    "london_df_entero = df_FINAL(london_loc)"
   ]
  },
  {
   "cell_type": "markdown",
   "id": "f41f7eab",
   "metadata": {},
   "source": [
    "# SINGAPORE"
   ]
  },
  {
   "cell_type": "code",
   "execution_count": 43,
   "id": "cf434e12",
   "metadata": {},
   "outputs": [],
   "source": [
    "singapore_schools = get_schools(singapore_loc, Schools)\n",
    "singapore_designing_companies = get_design_studio(singapore_loc)\n",
    "singapore_tech_startups = get_tech_startups(singapore_loc)\n",
    "singapore_leisure = get_leisure(singapore_loc, leisure)\n",
    "singapore_travelling_stations = get_closeby_stations(singapore_loc, stations)\n",
    "singapore_parks = get_parks(singapore_loc)\n",
    "singapore_df_entero = df_FINAL(singapore_loc)"
   ]
  },
  {
   "cell_type": "markdown",
   "id": "a97ecaba",
   "metadata": {},
   "source": [
    "# SAN FRANCISCO"
   ]
  },
  {
   "cell_type": "code",
   "execution_count": 45,
   "id": "3992c2d9",
   "metadata": {},
   "outputs": [],
   "source": [
    "sanfrancisco_schools = get_schools(san_francisco_loc, Schools)\n",
    "sanfrancisco_designing_companies = get_design_studio(san_francisco_loc)\n",
    "sanfrancisco_tech_startups = get_tech_startups(san_francisco_loc)\n",
    "sanfrancisco_leisure = get_leisure(san_francisco_loc, leisure)\n",
    "sanfrancisco_travelling_stations = get_closeby_stations(san_francisco_loc, stations)\n",
    "sanfrancisco_parks = get_parks(san_francisco_loc)\n",
    "sanfrancisco_df_entero = df_FINAL(san_francisco_loc)"
   ]
  },
  {
   "cell_type": "markdown",
   "id": "27577772",
   "metadata": {},
   "source": [
    "# CONECTION TO MONGODB"
   ]
  },
  {
   "cell_type": "code",
   "execution_count": 47,
   "id": "e9f69811",
   "metadata": {},
   "outputs": [],
   "source": [
    "prueba = sanfrancisco_df_entero"
   ]
  },
  {
   "cell_type": "code",
   "execution_count": 48,
   "id": "3f746bcf",
   "metadata": {},
   "outputs": [
    {
     "data": {
      "text/html": [
       "<div>\n",
       "<style scoped>\n",
       "    .dataframe tbody tr th:only-of-type {\n",
       "        vertical-align: middle;\n",
       "    }\n",
       "\n",
       "    .dataframe tbody tr th {\n",
       "        vertical-align: top;\n",
       "    }\n",
       "\n",
       "    .dataframe thead th {\n",
       "        text-align: right;\n",
       "    }\n",
       "</style>\n",
       "<table border=\"1\" class=\"dataframe\">\n",
       "  <thead>\n",
       "    <tr style=\"text-align: right;\">\n",
       "      <th></th>\n",
       "      <th>Name</th>\n",
       "      <th>Type</th>\n",
       "      <th>Country</th>\n",
       "      <th>Adress</th>\n",
       "      <th>Latitude</th>\n",
       "      <th>Longitude</th>\n",
       "      <th>location</th>\n",
       "    </tr>\n",
       "  </thead>\n",
       "  <tbody>\n",
       "    <tr>\n",
       "      <th>0</th>\n",
       "      <td>Kids by the Bay - Financial District</td>\n",
       "      <td>Daycare</td>\n",
       "      <td>US</td>\n",
       "      <td>75 Hawthorne St</td>\n",
       "      <td>37.785471</td>\n",
       "      <td>-122.398037</td>\n",
       "      <td>{'type': 'Point', 'coordinates': (37.785471, -...</td>\n",
       "    </tr>\n",
       "    <tr>\n",
       "      <th>1</th>\n",
       "      <td>Japanese YWCA Building / Nihonmachi Little Fri...</td>\n",
       "      <td>Nursery School</td>\n",
       "      <td>US</td>\n",
       "      <td>1700 Sutter St (btwn Webster &amp; Buchanan St)</td>\n",
       "      <td>37.787017</td>\n",
       "      <td>-122.430609</td>\n",
       "      <td>{'type': 'Point', 'coordinates': (37.787016633...</td>\n",
       "    </tr>\n",
       "    <tr>\n",
       "      <th>2</th>\n",
       "      <td>C5 Children's School</td>\n",
       "      <td>Nursery School</td>\n",
       "      <td>US</td>\n",
       "      <td>455 Golden Gate Ave Ste 2400 (Larkin)</td>\n",
       "      <td>37.778864</td>\n",
       "      <td>-122.414584</td>\n",
       "      <td>{'type': 'Point', 'coordinates': (37.778864078...</td>\n",
       "    </tr>\n",
       "    <tr>\n",
       "      <th>3</th>\n",
       "      <td>Tiny Giants Too!</td>\n",
       "      <td>Nursery School</td>\n",
       "      <td>US</td>\n",
       "      <td>2163 Filbert St (Fillmore)</td>\n",
       "      <td>37.797872</td>\n",
       "      <td>-122.435021</td>\n",
       "      <td>{'type': 'Point', 'coordinates': (37.797872, -...</td>\n",
       "    </tr>\n",
       "    <tr>\n",
       "      <th>4</th>\n",
       "      <td>Kids by the Bay - Civic Center</td>\n",
       "      <td>Preschool</td>\n",
       "      <td>US</td>\n",
       "      <td>90 7th Street, Floor 1 Ste 2000 (Stevenson)</td>\n",
       "      <td>37.77943</td>\n",
       "      <td>-122.411819</td>\n",
       "      <td>{'type': 'Point', 'coordinates': (37.779430009...</td>\n",
       "    </tr>\n",
       "    <tr>\n",
       "      <th>...</th>\n",
       "      <td>...</td>\n",
       "      <td>...</td>\n",
       "      <td>...</td>\n",
       "      <td>...</td>\n",
       "      <td>...</td>\n",
       "      <td>...</td>\n",
       "      <td>...</td>\n",
       "    </tr>\n",
       "    <tr>\n",
       "      <th>389</th>\n",
       "      <td>Barbican</td>\n",
       "      <td>Neighborhood</td>\n",
       "      <td>GB</td>\n",
       "      <td>Barbican</td>\n",
       "      <td>51.519635</td>\n",
       "      <td>-0.093701</td>\n",
       "      <td>{'type': 'Point', 'coordinates': (51.519634648...</td>\n",
       "    </tr>\n",
       "    <tr>\n",
       "      <th>390</th>\n",
       "      <td>King George’s Field</td>\n",
       "      <td>Park</td>\n",
       "      <td>GB</td>\n",
       "      <td>Portsoken St</td>\n",
       "      <td>51.511394</td>\n",
       "      <td>-0.074624</td>\n",
       "      <td>{'type': 'Point', 'coordinates': (51.511393766...</td>\n",
       "    </tr>\n",
       "    <tr>\n",
       "      <th>391</th>\n",
       "      <td>Seething Lane Garden</td>\n",
       "      <td>Park</td>\n",
       "      <td>GB</td>\n",
       "      <td>Seething Lane</td>\n",
       "      <td>51.510084</td>\n",
       "      <td>-0.079051</td>\n",
       "      <td>{'type': 'Point', 'coordinates': (51.510083522...</td>\n",
       "    </tr>\n",
       "    <tr>\n",
       "      <th>392</th>\n",
       "      <td>Tower Hill</td>\n",
       "      <td>Neighborhood</td>\n",
       "      <td>GB</td>\n",
       "      <td>London</td>\n",
       "      <td>51.510053</td>\n",
       "      <td>-0.076536</td>\n",
       "      <td>{'type': 'Point', 'coordinates': (51.510052558...</td>\n",
       "    </tr>\n",
       "    <tr>\n",
       "      <th>393</th>\n",
       "      <td>Brick Lane</td>\n",
       "      <td>Road</td>\n",
       "      <td>GB</td>\n",
       "      <td>Brick Ln</td>\n",
       "      <td>51.521097</td>\n",
       "      <td>-0.071831</td>\n",
       "      <td>{'type': 'Point', 'coordinates': (51.521096843...</td>\n",
       "    </tr>\n",
       "  </tbody>\n",
       "</table>\n",
       "<p>394 rows × 7 columns</p>\n",
       "</div>"
      ],
      "text/plain": [
       "                                                  Name            Type  \\\n",
       "0                 Kids by the Bay - Financial District         Daycare   \n",
       "1    Japanese YWCA Building / Nihonmachi Little Fri...  Nursery School   \n",
       "2                                 C5 Children's School  Nursery School   \n",
       "3                                     Tiny Giants Too!  Nursery School   \n",
       "4                       Kids by the Bay - Civic Center       Preschool   \n",
       "..                                                 ...             ...   \n",
       "389                                           Barbican    Neighborhood   \n",
       "390                                King George’s Field            Park   \n",
       "391                               Seething Lane Garden            Park   \n",
       "392                                         Tower Hill    Neighborhood   \n",
       "393                                         Brick Lane            Road   \n",
       "\n",
       "    Country                                       Adress   Latitude  \\\n",
       "0        US                              75 Hawthorne St  37.785471   \n",
       "1        US  1700 Sutter St (btwn Webster & Buchanan St)  37.787017   \n",
       "2        US        455 Golden Gate Ave Ste 2400 (Larkin)  37.778864   \n",
       "3        US                   2163 Filbert St (Fillmore)  37.797872   \n",
       "4        US  90 7th Street, Floor 1 Ste 2000 (Stevenson)   37.77943   \n",
       "..      ...                                          ...        ...   \n",
       "389      GB                                     Barbican  51.519635   \n",
       "390      GB                                 Portsoken St  51.511394   \n",
       "391      GB                                Seething Lane  51.510084   \n",
       "392      GB                                       London  51.510053   \n",
       "393      GB                                     Brick Ln  51.521097   \n",
       "\n",
       "      Longitude                                           location  \n",
       "0   -122.398037  {'type': 'Point', 'coordinates': (37.785471, -...  \n",
       "1   -122.430609  {'type': 'Point', 'coordinates': (37.787016633...  \n",
       "2   -122.414584  {'type': 'Point', 'coordinates': (37.778864078...  \n",
       "3   -122.435021  {'type': 'Point', 'coordinates': (37.797872, -...  \n",
       "4   -122.411819  {'type': 'Point', 'coordinates': (37.779430009...  \n",
       "..          ...                                                ...  \n",
       "389   -0.093701  {'type': 'Point', 'coordinates': (51.519634648...  \n",
       "390   -0.074624  {'type': 'Point', 'coordinates': (51.511393766...  \n",
       "391   -0.079051  {'type': 'Point', 'coordinates': (51.510083522...  \n",
       "392   -0.076536  {'type': 'Point', 'coordinates': (51.510052558...  \n",
       "393   -0.071831  {'type': 'Point', 'coordinates': (51.521096843...  \n",
       "\n",
       "[394 rows x 7 columns]"
      ]
     },
     "execution_count": 48,
     "metadata": {},
     "output_type": "execute_result"
    }
   ],
   "source": [
    "prueba"
   ]
  },
  {
   "cell_type": "markdown",
   "id": "d6c12c1d",
   "metadata": {},
   "source": [
    "# MONGODB"
   ]
  },
  {
   "cell_type": "code",
   "execution_count": 58,
   "id": "ead84beb",
   "metadata": {},
   "outputs": [
    {
     "data": {
      "text/plain": [
       "'location_2dsphere'"
      ]
     },
     "execution_count": 58,
     "metadata": {},
     "output_type": "execute_result"
    }
   ],
   "source": [
    "client=MongoClient('localhost',27017)\n",
    "db = client.Trabajo_4\n",
    "collection = db.location\n",
    "collection.create_index([(\"location\", GEOSPHERE)])"
   ]
  },
  {
   "cell_type": "code",
   "execution_count": 59,
   "id": "0044a5f4",
   "metadata": {},
   "outputs": [
    {
     "ename": "BulkWriteError",
     "evalue": "batch op errors occurred, full error: {'writeErrors': [{'index': 0, 'code': 16755, 'errmsg': 'Can\\'t extract geo keys: { _id: ObjectId(\\'6133a458d64489f5ce8f2a06\\'), Name: \"Kids by the Bay - Financial District\", Type: \"Daycare\", Country: \"US\", Adress: \"75 Hawthorne St\", Latitude: 37.785471, Longitude: -122.398037, location: { type: \"Point\", coordinates: [ 37.785471, -122.398037 ] } }  longitude/latitude is out of bounds, lng: 37.7855 lat: -122.398', 'op': {'Name': 'Kids by the Bay - Financial District', 'Type': 'Daycare', 'Country': 'US', 'Adress': '75 Hawthorne St', 'Latitude': 37.785471, 'Longitude': -122.39803700000002, 'location': {'type': 'Point', 'coordinates': (37.785471, -122.39803700000002)}, '_id': ObjectId('6133a458d64489f5ce8f2a06')}}], 'writeConcernErrors': [], 'nInserted': 0, 'nUpserted': 0, 'nMatched': 0, 'nModified': 0, 'nRemoved': 0, 'upserted': []}",
     "output_type": "error",
     "traceback": [
      "\u001b[0;31m---------------------------------------------------------------------------\u001b[0m",
      "\u001b[0;31mBulkWriteError\u001b[0m                            Traceback (most recent call last)",
      "\u001b[0;32m/var/folders/f9/ww50zmn51ylc9hycc8vysr9c0000gn/T/ipykernel_45017/2544806227.py\u001b[0m in \u001b[0;36m<module>\u001b[0;34m\u001b[0m\n\u001b[1;32m      1\u001b[0m \u001b[0mdata\u001b[0m \u001b[0;34m=\u001b[0m \u001b[0mprueba\u001b[0m\u001b[0;34m.\u001b[0m\u001b[0mto_dict\u001b[0m\u001b[0;34m(\u001b[0m\u001b[0morient\u001b[0m\u001b[0;34m=\u001b[0m\u001b[0;34m'records'\u001b[0m\u001b[0;34m)\u001b[0m\u001b[0;34m\u001b[0m\u001b[0;34m\u001b[0m\u001b[0m\n\u001b[0;32m----> 2\u001b[0;31m \u001b[0mcollection\u001b[0m\u001b[0;34m.\u001b[0m\u001b[0minsert_many\u001b[0m\u001b[0;34m(\u001b[0m\u001b[0mdata\u001b[0m\u001b[0;34m)\u001b[0m\u001b[0;34m\u001b[0m\u001b[0;34m\u001b[0m\u001b[0m\n\u001b[0m\u001b[1;32m      3\u001b[0m \u001b[0mclient\u001b[0m\u001b[0;34m.\u001b[0m\u001b[0mclose\u001b[0m\u001b[0;34m(\u001b[0m\u001b[0;34m)\u001b[0m\u001b[0;34m\u001b[0m\u001b[0;34m\u001b[0m\u001b[0m\n",
      "\u001b[0;32m/opt/homebrew/Caskroom/miniconda/base/envs/ironhack/lib/python3.8/site-packages/pymongo/collection.py\u001b[0m in \u001b[0;36minsert_many\u001b[0;34m(self, documents, ordered, bypass_document_validation, session)\u001b[0m\n\u001b[1;32m    768\u001b[0m         \u001b[0mblk\u001b[0m \u001b[0;34m=\u001b[0m \u001b[0m_Bulk\u001b[0m\u001b[0;34m(\u001b[0m\u001b[0mself\u001b[0m\u001b[0;34m,\u001b[0m \u001b[0mordered\u001b[0m\u001b[0;34m,\u001b[0m \u001b[0mbypass_document_validation\u001b[0m\u001b[0;34m)\u001b[0m\u001b[0;34m\u001b[0m\u001b[0;34m\u001b[0m\u001b[0m\n\u001b[1;32m    769\u001b[0m         \u001b[0mblk\u001b[0m\u001b[0;34m.\u001b[0m\u001b[0mops\u001b[0m \u001b[0;34m=\u001b[0m \u001b[0;34m[\u001b[0m\u001b[0mdoc\u001b[0m \u001b[0;32mfor\u001b[0m \u001b[0mdoc\u001b[0m \u001b[0;32min\u001b[0m \u001b[0mgen\u001b[0m\u001b[0;34m(\u001b[0m\u001b[0;34m)\u001b[0m\u001b[0;34m]\u001b[0m\u001b[0;34m\u001b[0m\u001b[0;34m\u001b[0m\u001b[0m\n\u001b[0;32m--> 770\u001b[0;31m         \u001b[0mblk\u001b[0m\u001b[0;34m.\u001b[0m\u001b[0mexecute\u001b[0m\u001b[0;34m(\u001b[0m\u001b[0mwrite_concern\u001b[0m\u001b[0;34m,\u001b[0m \u001b[0msession\u001b[0m\u001b[0;34m=\u001b[0m\u001b[0msession\u001b[0m\u001b[0;34m)\u001b[0m\u001b[0;34m\u001b[0m\u001b[0;34m\u001b[0m\u001b[0m\n\u001b[0m\u001b[1;32m    771\u001b[0m         \u001b[0;32mreturn\u001b[0m \u001b[0mInsertManyResult\u001b[0m\u001b[0;34m(\u001b[0m\u001b[0minserted_ids\u001b[0m\u001b[0;34m,\u001b[0m \u001b[0mwrite_concern\u001b[0m\u001b[0;34m.\u001b[0m\u001b[0macknowledged\u001b[0m\u001b[0;34m)\u001b[0m\u001b[0;34m\u001b[0m\u001b[0;34m\u001b[0m\u001b[0m\n\u001b[1;32m    772\u001b[0m \u001b[0;34m\u001b[0m\u001b[0m\n",
      "\u001b[0;32m/opt/homebrew/Caskroom/miniconda/base/envs/ironhack/lib/python3.8/site-packages/pymongo/bulk.py\u001b[0m in \u001b[0;36mexecute\u001b[0;34m(self, write_concern, session)\u001b[0m\n\u001b[1;32m    527\u001b[0m                 \u001b[0mself\u001b[0m\u001b[0;34m.\u001b[0m\u001b[0mexecute_no_results\u001b[0m\u001b[0;34m(\u001b[0m\u001b[0msock_info\u001b[0m\u001b[0;34m,\u001b[0m \u001b[0mgenerator\u001b[0m\u001b[0;34m)\u001b[0m\u001b[0;34m\u001b[0m\u001b[0;34m\u001b[0m\u001b[0m\n\u001b[1;32m    528\u001b[0m         \u001b[0;32melse\u001b[0m\u001b[0;34m:\u001b[0m\u001b[0;34m\u001b[0m\u001b[0;34m\u001b[0m\u001b[0m\n\u001b[0;32m--> 529\u001b[0;31m             \u001b[0;32mreturn\u001b[0m \u001b[0mself\u001b[0m\u001b[0;34m.\u001b[0m\u001b[0mexecute_command\u001b[0m\u001b[0;34m(\u001b[0m\u001b[0mgenerator\u001b[0m\u001b[0;34m,\u001b[0m \u001b[0mwrite_concern\u001b[0m\u001b[0;34m,\u001b[0m \u001b[0msession\u001b[0m\u001b[0;34m)\u001b[0m\u001b[0;34m\u001b[0m\u001b[0;34m\u001b[0m\u001b[0m\n\u001b[0m\u001b[1;32m    530\u001b[0m \u001b[0;34m\u001b[0m\u001b[0m\n\u001b[1;32m    531\u001b[0m \u001b[0;34m\u001b[0m\u001b[0m\n",
      "\u001b[0;32m/opt/homebrew/Caskroom/miniconda/base/envs/ironhack/lib/python3.8/site-packages/pymongo/bulk.py\u001b[0m in \u001b[0;36mexecute_command\u001b[0;34m(self, generator, write_concern, session)\u001b[0m\n\u001b[1;32m    362\u001b[0m \u001b[0;34m\u001b[0m\u001b[0m\n\u001b[1;32m    363\u001b[0m         \u001b[0;32mif\u001b[0m \u001b[0mfull_result\u001b[0m\u001b[0;34m[\u001b[0m\u001b[0;34m\"writeErrors\"\u001b[0m\u001b[0;34m]\u001b[0m \u001b[0;32mor\u001b[0m \u001b[0mfull_result\u001b[0m\u001b[0;34m[\u001b[0m\u001b[0;34m\"writeConcernErrors\"\u001b[0m\u001b[0;34m]\u001b[0m\u001b[0;34m:\u001b[0m\u001b[0;34m\u001b[0m\u001b[0;34m\u001b[0m\u001b[0m\n\u001b[0;32m--> 364\u001b[0;31m             \u001b[0m_raise_bulk_write_error\u001b[0m\u001b[0;34m(\u001b[0m\u001b[0mfull_result\u001b[0m\u001b[0;34m)\u001b[0m\u001b[0;34m\u001b[0m\u001b[0;34m\u001b[0m\u001b[0m\n\u001b[0m\u001b[1;32m    365\u001b[0m         \u001b[0;32mreturn\u001b[0m \u001b[0mfull_result\u001b[0m\u001b[0;34m\u001b[0m\u001b[0;34m\u001b[0m\u001b[0m\n\u001b[1;32m    366\u001b[0m \u001b[0;34m\u001b[0m\u001b[0m\n",
      "\u001b[0;32m/opt/homebrew/Caskroom/miniconda/base/envs/ironhack/lib/python3.8/site-packages/pymongo/bulk.py\u001b[0m in \u001b[0;36m_raise_bulk_write_error\u001b[0;34m(full_result)\u001b[0m\n\u001b[1;32m    138\u001b[0m         full_result[\"writeErrors\"].sort(\n\u001b[1;32m    139\u001b[0m             key=lambda error: error[\"index\"])\n\u001b[0;32m--> 140\u001b[0;31m     \u001b[0;32mraise\u001b[0m \u001b[0mBulkWriteError\u001b[0m\u001b[0;34m(\u001b[0m\u001b[0mfull_result\u001b[0m\u001b[0;34m)\u001b[0m\u001b[0;34m\u001b[0m\u001b[0;34m\u001b[0m\u001b[0m\n\u001b[0m\u001b[1;32m    141\u001b[0m \u001b[0;34m\u001b[0m\u001b[0m\n\u001b[1;32m    142\u001b[0m \u001b[0;34m\u001b[0m\u001b[0m\n",
      "\u001b[0;31mBulkWriteError\u001b[0m: batch op errors occurred, full error: {'writeErrors': [{'index': 0, 'code': 16755, 'errmsg': 'Can\\'t extract geo keys: { _id: ObjectId(\\'6133a458d64489f5ce8f2a06\\'), Name: \"Kids by the Bay - Financial District\", Type: \"Daycare\", Country: \"US\", Adress: \"75 Hawthorne St\", Latitude: 37.785471, Longitude: -122.398037, location: { type: \"Point\", coordinates: [ 37.785471, -122.398037 ] } }  longitude/latitude is out of bounds, lng: 37.7855 lat: -122.398', 'op': {'Name': 'Kids by the Bay - Financial District', 'Type': 'Daycare', 'Country': 'US', 'Adress': '75 Hawthorne St', 'Latitude': 37.785471, 'Longitude': -122.39803700000002, 'location': {'type': 'Point', 'coordinates': (37.785471, -122.39803700000002)}, '_id': ObjectId('6133a458d64489f5ce8f2a06')}}], 'writeConcernErrors': [], 'nInserted': 0, 'nUpserted': 0, 'nMatched': 0, 'nModified': 0, 'nRemoved': 0, 'upserted': []}"
     ]
    }
   ],
   "source": [
    "data = prueba.to_dict(orient='records')\n",
    "collection.insert_many(data)\n",
    "client.close()"
   ]
  },
  {
   "cell_type": "code",
   "execution_count": null,
   "id": "19c19731",
   "metadata": {},
   "outputs": [],
   "source": []
  }
 ],
 "metadata": {
  "kernelspec": {
   "display_name": "ironhack",
   "language": "python",
   "name": "ironhack"
  },
  "language_info": {
   "codemirror_mode": {
    "name": "ipython",
    "version": 3
   },
   "file_extension": ".py",
   "mimetype": "text/x-python",
   "name": "python",
   "nbconvert_exporter": "python",
   "pygments_lexer": "ipython3",
   "version": "3.8.11"
  }
 },
 "nbformat": 4,
 "nbformat_minor": 5
}
