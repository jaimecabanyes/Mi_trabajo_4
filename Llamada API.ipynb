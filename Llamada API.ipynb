{
 "cells": [
  {
   "cell_type": "markdown",
   "id": "d0bb1c43",
   "metadata": {},
   "source": [
    "# LOCALIZACIONES DEFINIDAS\n",
    "posibles lugares bien situados"
   ]
  },
  {
   "cell_type": "code",
   "execution_count": 1,
   "id": "fd3e2273",
   "metadata": {},
   "outputs": [],
   "source": [
    "london_loc = \"51.520624794291884, -0.0870022262169723\""
   ]
  },
  {
   "cell_type": "code",
   "execution_count": 2,
   "id": "b5207585",
   "metadata": {},
   "outputs": [],
   "source": [
    "singapore_loc = \"1.2862863534171092, 103.84868192263733\""
   ]
  },
  {
   "cell_type": "code",
   "execution_count": 3,
   "id": "0fda389d",
   "metadata": {},
   "outputs": [],
   "source": [
    "san_francisco_loc = \"37.79787988216447, -122.41049370727525\""
   ]
  },
  {
   "cell_type": "markdown",
   "id": "c1358bfa",
   "metadata": {},
   "source": [
    "# API\n",
    "importar librerias"
   ]
  },
  {
   "cell_type": "code",
   "execution_count": 4,
   "id": "25644eae",
   "metadata": {},
   "outputs": [],
   "source": [
    "import requests\n",
    "import json\n",
    "from dotenv import load_dotenv\n",
    "import os\n",
    "import pandas as pd\n",
    "import pyjsonviewer\n",
    "import geopandas \n",
    "import shapely\n",
    "import pymongo as pym\n",
    "from pymongo import MongoClient,GEOSPHERE\n",
    "import shapely.geometry as shg"
   ]
  },
  {
   "cell_type": "markdown",
   "id": "fde6d99e",
   "metadata": {},
   "source": [
    "# FUNCIONES DE LLAMADA A LA API"
   ]
  },
  {
   "cell_type": "code",
   "execution_count": 5,
   "id": "72123b6f",
   "metadata": {},
   "outputs": [
    {
     "data": {
      "text/plain": [
       "True"
      ]
     },
     "execution_count": 5,
     "metadata": {},
     "output_type": "execute_result"
    }
   ],
   "source": [
    "load_dotenv()\n",
    "#Tenemos los tokens guardados en un .env en el visual studio code"
   ]
  },
  {
   "cell_type": "code",
   "execution_count": 6,
   "id": "dec2bab8",
   "metadata": {},
   "outputs": [],
   "source": [
    "tk_id = os.getenv(\"token_client_id\")"
   ]
  },
  {
   "cell_type": "code",
   "execution_count": 7,
   "id": "376db8da",
   "metadata": {},
   "outputs": [],
   "source": [
    "tk_secret = os.getenv(\"token_client_secret\")"
   ]
  },
  {
   "cell_type": "code",
   "execution_count": 8,
   "id": "265e2807",
   "metadata": {},
   "outputs": [],
   "source": [
    "git_tk = os.getenv(\"github_tk\")"
   ]
  },
  {
   "cell_type": "code",
   "execution_count": 9,
   "id": "ac79c0bf",
   "metadata": {},
   "outputs": [],
   "source": [
    "url = 'https://api.foursquare.com/v2/venues/explore'"
   ]
  },
  {
   "cell_type": "code",
   "execution_count": 10,
   "id": "78e62246",
   "metadata": {},
   "outputs": [],
   "source": [
    "#pyjsonviewer.view_data(json_data = LaVariableQueQuierasSinComillas)"
   ]
  },
  {
   "cell_type": "code",
   "execution_count": 11,
   "id": "53d27374",
   "metadata": {},
   "outputs": [],
   "source": [
    "def llamada_API(url, coordenadas, query):\n",
    "    parametros = {\n",
    "    \"client_id\": tk_id,\n",
    "    \"client_secret\": tk_secret,\n",
    "    \"v\": \"20180323\",\n",
    "    \"ll\": f\"{coordenadas}\",\n",
    "    \"query\": f\"{query}\",\n",
    "    \"limit\": 200  \n",
    "}\n",
    "    response = requests.get(url, params=parametros).json()[\"response\"][\"groups\"][0][\"items\"]\n",
    "    return response"
   ]
  },
  {
   "cell_type": "code",
   "execution_count": 12,
   "id": "8a98844a",
   "metadata": {},
   "outputs": [],
   "source": [
    "def escoger_datos(response):\n",
    "    name = []\n",
    "    type_ = []\n",
    "    lat = []\n",
    "    lng = []\n",
    "    cc = []\n",
    "    adress = []\n",
    "    for i in response:\n",
    "        name.append(i[\"venue\"][\"name\"])\n",
    "    for i in response:\n",
    "        type_.append(i[\"venue\"][\"categories\"][0][\"name\"])\n",
    "    for i in response:\n",
    "        lng.append(i[\"venue\"][\"location\"][\"lng\"])\n",
    "    for i in response:\n",
    "        lat.append(i[\"venue\"][\"location\"][\"lat\"])\n",
    "    for i in response:\n",
    "        cc.append(i[\"venue\"][\"location\"][\"cc\"])\n",
    "    for i in response:\n",
    "        adress.append(i[\"venue\"][\"location\"][\"formattedAddress\"][0])      \n",
    "    response2 = [name , type_, cc, adress,  lat, lng ]\n",
    "\n",
    "    return response2"
   ]
  },
  {
   "cell_type": "code",
   "execution_count": 13,
   "id": "7e6d6db9",
   "metadata": {},
   "outputs": [],
   "source": [
    "def crear_df(response2):\n",
    "    df = pd.DataFrame(response2).T\n",
    "    df1 = df.rename(columns = {0:\"Name\", 1:\"Type\", 2:\"Country\", 3:\"Adress\", 4:\"Latitude\", 5:\"Longitude\", })\n",
    "    return df1"
   ]
  },
  {
   "cell_type": "code",
   "execution_count": 14,
   "id": "825c0406",
   "metadata": {},
   "outputs": [],
   "source": [
    "def get_geometry(df):\n",
    "    df2 = geopandas.GeoDataFrame(df, geometry=geopandas.points_from_xy(df.Latitude, df.Longitude))\n",
    "    return df2"
   ]
  },
  {
   "cell_type": "code",
   "execution_count": 15,
   "id": "05f93e55",
   "metadata": {},
   "outputs": [],
   "source": [
    "def get_loc(df):\n",
    "    df3 = df['geometry'].apply(lambda x:shapely.geometry.mapping(x))\n",
    "    return pd.DataFrame(df3)"
   ]
  },
  {
   "cell_type": "code",
   "execution_count": 16,
   "id": "2b1fcf5e",
   "metadata": {},
   "outputs": [],
   "source": [
    "def df_final(url, coordenadas, query):\n",
    "    a  = llamada_API(url, coordenadas, query)\n",
    "    b = escoger_datos(a)\n",
    "    c = crear_df(b)\n",
    "    d = get_geometry(c)\n",
    "    d[\"location\"] = get_loc(d)\n",
    "    df_terminado = d[[\"Name\",\"Type\",\"Country\", \"Adress\",\"Latitude\",\"Longitude\",\"location\"]]\n",
    "    return df_terminado"
   ]
  },
  {
   "cell_type": "markdown",
   "id": "183c6fae",
   "metadata": {},
   "source": [
    "# Satisfying Conditions (DATAFRAMES)"
   ]
  },
  {
   "cell_type": "markdown",
   "id": "b1cfb93c",
   "metadata": {},
   "source": [
    "# LONDON"
   ]
  },
  {
   "cell_type": "code",
   "execution_count": 17,
   "id": "a0e3d2b8",
   "metadata": {},
   "outputs": [],
   "source": [
    "# Schools\n",
    "ldn_Nursery_sch = df_final(url, london_loc, \"Nursery School\")\n",
    "ldn_Elementary_sch = df_final(url, london_loc, \"Elementary School\")\n",
    "ldn_Middle_sch = df_final(url, london_loc, \"Middle School\")\n",
    "ldn_High_sch = df_final(url, london_loc, \"High School\")\n",
    "# Design Studio\n",
    "ldn_DesignCo = df_final(url, london_loc, \"Design Studio\")\n",
    "# Technological StartUps\n",
    "ldn_TechStaUp = df_final(url, london_loc, \"Tech Startup\")\n",
    "# London Leisure\n",
    "ldn_Disco = df_final(url, london_loc, \"Nightclub\")\n",
    "ldn_Piano_bar = df_final(url, london_loc, \"Piano Bar\")\n",
    "ldn_Pub = df_final(url, london_loc, \"Pub\")\n",
    "ldn_irish_pub = df_final(url, london_loc, \"Irish Pub\")\n",
    "# Travelling \n",
    "ldn_Metro = df_final(url, london_loc, \"Metro Station\")\n",
    "ldn_Rail_Station = df_final(url, london_loc, \"Light Rail Station\")\n",
    "ldn_Bus_Station = df_final(url, london_loc, \"Bus Station\")\n",
    "# Parks (For Dobby and maintenance guy)\n",
    "ldn_Park = df_final(url, london_loc, \"Park\")"
   ]
  },
  {
   "cell_type": "markdown",
   "id": "d95cf284",
   "metadata": {},
   "source": [
    "# SINGAPORE"
   ]
  },
  {
   "cell_type": "code",
   "execution_count": 18,
   "id": "c3d35cc1",
   "metadata": {},
   "outputs": [],
   "source": [
    "# Schools\n",
    "sg_Nursery_sch = df_final(url, singapore_loc, \"Nursery School\")\n",
    "sg_Elementary_sch = df_final(url, singapore_loc, \"Elementary School\")\n",
    "sg_Middle_sch = df_final(url, singapore_loc, \"Middle School\")\n",
    "sg_High_sch = df_final(url, singapore_loc, \"High School\")\n",
    "# Design Studio\n",
    "sg_DesignCo = df_final(url, singapore_loc, \"Design Studio\")\n",
    "sg_DesignCo = df_final(url, singapore_loc, \"Design Studio\")\n",
    "# Technological StartUps\n",
    "sg_TechStaUp = df_final(url, singapore_loc, \"Tech Startup\")\n",
    "# London Leisure\n",
    "sg_Disco = df_final(url, singapore_loc, \"Nightclub\")\n",
    "sg_Piano_bar = df_final(url, singapore_loc, \"Piano Bar\")\n",
    "sg_Pub = df_final(url, singapore_loc, \"Pub\")\n",
    "sg_irish_pub = df_final(url, singapore_loc, \"Irish Pub\")\n",
    "# Travelling \n",
    "sg_Metro = df_final(url, singapore_loc, \"Metro Station\")\n",
    "sg_Rail_Station = df_final(url, singapore_loc, \"Light Rail Station\")\n",
    "sg_Bus_Station = df_final(url, singapore_loc, \"Bus Station\")\n",
    "# Parks (For Dobby and maintenance guy)\n",
    "sg_Park = df_final(url, singapore_loc, \"Park\")"
   ]
  },
  {
   "cell_type": "markdown",
   "id": "4f524b1d",
   "metadata": {},
   "source": [
    "# SAN FRANCISCO"
   ]
  },
  {
   "cell_type": "code",
   "execution_count": null,
   "id": "f7b0b71b",
   "metadata": {},
   "outputs": [],
   "source": [
    "# Schools\n",
    "SF_Nursery_sch = df_final(url, san_francisco_loc, \"Nursery School\")\n",
    "SF_Elementary_sch = df_final(url, san_francisco_loc, \"Elementary School\")\n",
    "SF_Middle_sch = df_final(url, san_francisco_loc, \"Middle School\")\n",
    "SF_High_sch = df_final(url, san_francisco_loc, \"High School\")\n",
    "# Design Studio\n",
    "SF_DesignCo = df_final(url, san_francisco_loc, \"Design Studio\")\n",
    "SF_DesignCo = df_final(url, san_francisco_loc, \"Design Studio\")\n",
    "# Technological StartUps\n",
    "SF_TechStaUp = df_final(url, san_francisco_loc, \"Tech Startup\")\n",
    "# London Leisure\n",
    "SF_Disco = df_final(url, san_francisco_loc, \"Nightclub\")\n",
    "SF_Piano_bar = df_final(url, san_francisco_loc, \"Piano Bar\")\n",
    "SF_Pub = df_final(url, san_francisco_loc, \"Pub\")\n",
    "SF_irish_pub = df_final(url, san_francisco_loc, \"Irish Pub\")\n",
    "# Travelling \n",
    "SF_Metro = df_final(url, san_francisco_loc, \"Metro Station\")\n",
    "SF_Rail_Station = df_final(url, san_francisco_loc, \"Light Rail Station\")\n",
    "SF_Bus_Station = df_final(url, san_francisco_loc, \"Bus Station\")\n",
    "# Parks (For Dobby and maintenance guy)\n",
    "SF_Park = df_final(url, s, \"Park\")"
   ]
  }
 ],
 "metadata": {
  "kernelspec": {
   "display_name": "ironhack",
   "language": "python",
   "name": "ironhack"
  },
  "language_info": {
   "codemirror_mode": {
    "name": "ipython",
    "version": 3
   },
   "file_extension": ".py",
   "mimetype": "text/x-python",
   "name": "python",
   "nbconvert_exporter": "python",
   "pygments_lexer": "ipython3",
   "version": "3.8.11"
  }
 },
 "nbformat": 4,
 "nbformat_minor": 5
}
