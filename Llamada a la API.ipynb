{
 "cells": [
  {
   "cell_type": "markdown",
   "id": "c81b91c4",
   "metadata": {},
   "source": [
    "# LOCALIZACIONES DEFINIDAS\n",
    "Posibles lugares bien situados"
   ]
  },
  {
   "cell_type": "code",
   "execution_count": 1,
   "id": "a4826844",
   "metadata": {},
   "outputs": [],
   "source": [
    "london_loc = [51.520624794291884, -0.0870022262169723]"
   ]
  },
  {
   "cell_type": "code",
   "execution_count": 2,
   "id": "4cec58f7",
   "metadata": {},
   "outputs": [],
   "source": [
    "singapore_loc = [1.2862863534171092, 103.84868192263733]"
   ]
  },
  {
   "cell_type": "code",
   "execution_count": 3,
   "id": "99884342",
   "metadata": {},
   "outputs": [],
   "source": [
    "san_francisco_loc = [37.79787988216447, -122.41049370727525]"
   ]
  },
  {
   "cell_type": "markdown",
   "id": "38f09a84",
   "metadata": {},
   "source": [
    "# API\n",
    "Importar librerias "
   ]
  },
  {
   "cell_type": "code",
   "execution_count": 4,
   "id": "e60b220d",
   "metadata": {},
   "outputs": [],
   "source": [
    "import requests\n",
    "import json\n",
    "from dotenv import load_dotenv\n",
    "import os\n",
    "import pandas as pd\n",
    "import pyjsonviewer"
   ]
  },
  {
   "cell_type": "markdown",
   "id": "f15abd60",
   "metadata": {},
   "source": [
    "Tokens"
   ]
  },
  {
   "cell_type": "code",
   "execution_count": 5,
   "id": "6b4efa0e",
   "metadata": {},
   "outputs": [
    {
     "data": {
      "text/plain": [
       "True"
      ]
     },
     "execution_count": 5,
     "metadata": {},
     "output_type": "execute_result"
    }
   ],
   "source": [
    "load_dotenv()\n",
    "#Tenemos los tokens guardados en un .env en el visual studio code"
   ]
  },
  {
   "cell_type": "code",
   "execution_count": 6,
   "id": "59ec1d40",
   "metadata": {},
   "outputs": [],
   "source": [
    "tk_id = os.getenv(\"token_client_id\")"
   ]
  },
  {
   "cell_type": "code",
   "execution_count": 7,
   "id": "993f4a52",
   "metadata": {},
   "outputs": [],
   "source": [
    "tk_secret = os.getenv(\"token_client_secret\")"
   ]
  },
  {
   "cell_type": "code",
   "execution_count": 8,
   "id": "0395312f",
   "metadata": {},
   "outputs": [],
   "source": [
    "git_tk = os.getenv(\"github_tk\")"
   ]
  },
  {
   "cell_type": "markdown",
   "id": "b9e89f49",
   "metadata": {},
   "source": [
    "Llamar a la api"
   ]
  },
  {
   "cell_type": "code",
   "execution_count": 9,
   "id": "c83999b8",
   "metadata": {},
   "outputs": [],
   "source": [
    "url = 'https://api.foursquare.com/v2/venues/explore'"
   ]
  },
  {
   "cell_type": "markdown",
   "id": "48baf05c",
   "metadata": {},
   "source": [
    "## Parametros Londres"
   ]
  },
  {
   "cell_type": "code",
   "execution_count": 10,
   "id": "c055e05e",
   "metadata": {},
   "outputs": [],
   "source": [
    "#Schools\n",
    "parametros_ln_schools = {\n",
    "    \"client_id\": tk_id,\n",
    "    \"client_secret\": tk_secret,\n",
    "    \"v\": \"20180323\",\n",
    "    \"ll\": f\"{london_loc[0]}, {london_loc[1]}\",\n",
    "    \"query\": \"Schools\",\n",
    "    \"limit\": 200   \n",
    "}"
   ]
  },
  {
   "cell_type": "code",
   "execution_count": 11,
   "id": "bf6f1308",
   "metadata": {},
   "outputs": [],
   "source": [
    "lnd_resp_schools = requests.get(url, params=parametros_ln_schools).json()"
   ]
  },
  {
   "cell_type": "code",
   "execution_count": 12,
   "id": "663103b1",
   "metadata": {},
   "outputs": [],
   "source": [
    "#Design Companies\n",
    "parametros_ln_design_companies = {\n",
    "    \"client_id\": tk_id,\n",
    "    \"client_secret\": tk_secret,\n",
    "    \"v\": \"20180323\",\n",
    "    \"ll\": f\"{london_loc[0]}, {london_loc[1]}\",\n",
    "    \"query\": \"Design Companies\",\n",
    "    \"limit\": 200  \n",
    "}"
   ]
  },
  {
   "cell_type": "code",
   "execution_count": 13,
   "id": "48228074",
   "metadata": {},
   "outputs": [],
   "source": [
    "lnd_resp_design_companies = requests.get(url, params=parametros_ln_design_companies).json()"
   ]
  },
  {
   "cell_type": "code",
   "execution_count": 14,
   "id": "7b7764e9",
   "metadata": {},
   "outputs": [],
   "source": [
    "#Disco Bars\n",
    "parametros_ln_disco_bars = {\n",
    "    \"client_id\": tk_id,\n",
    "    \"client_secret\": tk_secret,\n",
    "    \"v\": \"20180323\",\n",
    "    \"ll\": f\"{london_loc[0]}, {london_loc[1]}\",\n",
    "    \"query\": \"Disco Bars\",\n",
    "    \"limit\": 200  \n",
    "}"
   ]
  },
  {
   "cell_type": "code",
   "execution_count": 15,
   "id": "3a29f66c",
   "metadata": {},
   "outputs": [],
   "source": [
    "lnd_resp_disco_bars = requests.get(url, params=parametros_ln_disco_bars).json()"
   ]
  },
  {
   "cell_type": "code",
   "execution_count": 16,
   "id": "56fd8113",
   "metadata": {},
   "outputs": [],
   "source": [
    "#Technological Startups\n",
    "parametros_ln_technological_startups = {\n",
    "    \"client_id\": tk_id,\n",
    "    \"client_secret\": tk_secret,\n",
    "    \"v\": \"20180323\",\n",
    "    \"ll\": f\"{london_loc[0]}, {london_loc[1]}\",\n",
    "    \"query\": \"technological startups\",\n",
    "    \"limit\": 200  \n",
    "}"
   ]
  },
  {
   "cell_type": "code",
   "execution_count": 17,
   "id": "a29fffa3",
   "metadata": {},
   "outputs": [],
   "source": [
    "lnd_resp_technological_startups = requests.get(url, params=parametros_ln_technological_startups).json()"
   ]
  },
  {
   "cell_type": "code",
   "execution_count": 18,
   "id": "2ecaf90c",
   "metadata": {},
   "outputs": [],
   "source": [
    "#Metro Station\n",
    "parametros_ln_metro = {\n",
    "    \"client_id\": tk_id,\n",
    "    \"client_secret\": tk_secret,\n",
    "    \"v\": \"20180323\",\n",
    "    \"ll\": f\"{london_loc[0]}, {london_loc[1]}\",\n",
    "    \"query\": \"Metro\",\n",
    "    \"limit\": 200  \n",
    "}"
   ]
  },
  {
   "cell_type": "code",
   "execution_count": 19,
   "id": "721f8cd7",
   "metadata": {},
   "outputs": [],
   "source": [
    "lnd_resp_metro = requests.get(url, params=parametros_ln_metro).json()"
   ]
  },
  {
   "cell_type": "markdown",
   "id": "31246dc1",
   "metadata": {},
   "source": [
    "### Crear Dataframes"
   ]
  },
  {
   "cell_type": "code",
   "execution_count": 20,
   "id": "6443fbf9",
   "metadata": {},
   "outputs": [],
   "source": [
    "design_co = lnd_resp_design_companies[\"response\"]['groups'][0][\"items\"][1][\"venue\"]"
   ]
  },
  {
   "cell_type": "code",
   "execution_count": 21,
   "id": "b8491f70",
   "metadata": {},
   "outputs": [],
   "source": [
    "bars = lnd_resp_disco_bars[\"response\"]['groups'][0][\"items\"][1][\"venue\"]"
   ]
  },
  {
   "cell_type": "code",
   "execution_count": 22,
   "id": "8f89c832",
   "metadata": {},
   "outputs": [],
   "source": [
    "schools = lnd_resp_schools[\"response\"]['groups'][0][\"items\"][1][\"venue\"]"
   ]
  },
  {
   "cell_type": "code",
   "execution_count": 23,
   "id": "99ccaf37",
   "metadata": {},
   "outputs": [],
   "source": [
    "tech_star = lnd_resp_technological_startups[\"response\"]['groups'][0][\"items\"][1][\"venue\"]"
   ]
  },
  {
   "cell_type": "code",
   "execution_count": 24,
   "id": "2d6cf9d7",
   "metadata": {},
   "outputs": [],
   "source": [
    "metro = lnd_resp_metro[\"response\"]['groups'][0][\"items\"][1][\"venue\"]"
   ]
  },
  {
   "cell_type": "code",
   "execution_count": 29,
   "id": "6011b809",
   "metadata": {},
   "outputs": [
    {
     "data": {
      "text/plain": [
       "11"
      ]
     },
     "execution_count": 29,
     "metadata": {},
     "output_type": "execute_result"
    }
   ],
   "source": [
    "len(bars)"
   ]
  },
  {
   "cell_type": "code",
   "execution_count": null,
   "id": "73c22e30",
   "metadata": {},
   "outputs": [],
   "source": []
  },
  {
   "cell_type": "code",
   "execution_count": null,
   "id": "075fcf8d",
   "metadata": {},
   "outputs": [],
   "source": []
  },
  {
   "cell_type": "code",
   "execution_count": null,
   "id": "695e840c",
   "metadata": {},
   "outputs": [],
   "source": []
  },
  {
   "cell_type": "code",
   "execution_count": null,
   "id": "6979d123",
   "metadata": {},
   "outputs": [],
   "source": []
  },
  {
   "cell_type": "code",
   "execution_count": 31,
   "id": "4894b1e2",
   "metadata": {},
   "outputs": [],
   "source": [
    "\n",
    "\n",
    "\n",
    "\n",
    "def creardataframes(dict_principal):\n",
    "    if len(dict_principal) == 11:\n",
    "        return (dict_principal[\"response\"]['groups'][0][\"items\"][1][\"venue\"])\n",
    "        "
   ]
  },
  {
   "cell_type": "code",
   "execution_count": 32,
   "id": "e7dc2fd0",
   "metadata": {},
   "outputs": [
    {
     "ename": "KeyError",
     "evalue": "'response'",
     "output_type": "error",
     "traceback": [
      "\u001b[0;31m---------------------------------------------------------------------------\u001b[0m",
      "\u001b[0;31mKeyError\u001b[0m                                  Traceback (most recent call last)",
      "\u001b[0;32m/var/folders/f9/ww50zmn51ylc9hycc8vysr9c0000gn/T/ipykernel_38892/1207941039.py\u001b[0m in \u001b[0;36m<module>\u001b[0;34m\u001b[0m\n\u001b[0;32m----> 1\u001b[0;31m \u001b[0mcreardataframes\u001b[0m\u001b[0;34m(\u001b[0m\u001b[0mbars\u001b[0m\u001b[0;34m)\u001b[0m\u001b[0;34m\u001b[0m\u001b[0;34m\u001b[0m\u001b[0m\n\u001b[0m",
      "\u001b[0;32m/var/folders/f9/ww50zmn51ylc9hycc8vysr9c0000gn/T/ipykernel_38892/507870818.py\u001b[0m in \u001b[0;36mcreardataframes\u001b[0;34m(dict_principal)\u001b[0m\n\u001b[1;32m      1\u001b[0m \u001b[0;32mdef\u001b[0m \u001b[0mcreardataframes\u001b[0m\u001b[0;34m(\u001b[0m\u001b[0mdict_principal\u001b[0m\u001b[0;34m)\u001b[0m\u001b[0;34m:\u001b[0m\u001b[0;34m\u001b[0m\u001b[0;34m\u001b[0m\u001b[0m\n\u001b[1;32m      2\u001b[0m     \u001b[0;32mif\u001b[0m \u001b[0mlen\u001b[0m\u001b[0;34m(\u001b[0m\u001b[0mdict_principal\u001b[0m\u001b[0;34m)\u001b[0m \u001b[0;34m==\u001b[0m \u001b[0;36m11\u001b[0m\u001b[0;34m:\u001b[0m\u001b[0;34m\u001b[0m\u001b[0;34m\u001b[0m\u001b[0m\n\u001b[0;32m----> 3\u001b[0;31m         \u001b[0;32mreturn\u001b[0m \u001b[0;34m(\u001b[0m\u001b[0mdict_principal\u001b[0m\u001b[0;34m[\u001b[0m\u001b[0;34m\"response\"\u001b[0m\u001b[0;34m]\u001b[0m\u001b[0;34m[\u001b[0m\u001b[0;34m'groups'\u001b[0m\u001b[0;34m]\u001b[0m\u001b[0;34m[\u001b[0m\u001b[0;36m0\u001b[0m\u001b[0;34m]\u001b[0m\u001b[0;34m[\u001b[0m\u001b[0;34m\"items\"\u001b[0m\u001b[0;34m]\u001b[0m\u001b[0;34m[\u001b[0m\u001b[0;36m1\u001b[0m\u001b[0;34m]\u001b[0m\u001b[0;34m[\u001b[0m\u001b[0;34m\"venue\"\u001b[0m\u001b[0;34m]\u001b[0m\u001b[0;34m)\u001b[0m\u001b[0;34m\u001b[0m\u001b[0;34m\u001b[0m\u001b[0m\n\u001b[0m\u001b[1;32m      4\u001b[0m \u001b[0;34m\u001b[0m\u001b[0m\n",
      "\u001b[0;31mKeyError\u001b[0m: 'response'"
     ]
    }
   ],
   "source": [
    "creardataframes(bars)"
   ]
  },
  {
   "cell_type": "code",
   "execution_count": null,
   "id": "a03dff4c",
   "metadata": {},
   "outputs": [],
   "source": []
  },
  {
   "cell_type": "code",
   "execution_count": null,
   "id": "e057ab40",
   "metadata": {},
   "outputs": [],
   "source": []
  },
  {
   "cell_type": "code",
   "execution_count": null,
   "id": "32333d38",
   "metadata": {},
   "outputs": [],
   "source": []
  },
  {
   "cell_type": "code",
   "execution_count": null,
   "id": "859f8cb2",
   "metadata": {},
   "outputs": [],
   "source": []
  },
  {
   "cell_type": "code",
   "execution_count": null,
   "id": "76fff6a1",
   "metadata": {},
   "outputs": [],
   "source": []
  },
  {
   "cell_type": "code",
   "execution_count": null,
   "id": "3b957be0",
   "metadata": {},
   "outputs": [],
   "source": [
    "type(lnd_resp_schools)"
   ]
  },
  {
   "cell_type": "code",
   "execution_count": null,
   "id": "ed5ea1d6",
   "metadata": {},
   "outputs": [],
   "source": [
    "lnd_resp_schools[\"meta\"]"
   ]
  },
  {
   "cell_type": "code",
   "execution_count": null,
   "id": "8212ced5",
   "metadata": {},
   "outputs": [],
   "source": [
    "schools1 = lnd_resp_schools[\"response\"]['groups'][0][\"items\"]"
   ]
  },
  {
   "cell_type": "code",
   "execution_count": null,
   "id": "1c1f5ada",
   "metadata": {},
   "outputs": [],
   "source": [
    "schools1[1][\"venue\"]"
   ]
  },
  {
   "cell_type": "code",
   "execution_count": null,
   "id": "d2bcc20e",
   "metadata": {},
   "outputs": [],
   "source": [
    "df_sch_ln = []\n",
    "def dataframes(dicts):\n",
    "    \n",
    "    return dicts[\"response\"]['groups'][0][\"items\"][1][\"venue\"]\n",
    "    "
   ]
  },
  {
   "cell_type": "code",
   "execution_count": null,
   "id": "4a1dfa22",
   "metadata": {},
   "outputs": [],
   "source": [
    "len(lnd_resp_design_companies[\"response\"]['groups'][0][\"items\"][1][\"venue\"])"
   ]
  },
  {
   "cell_type": "code",
   "execution_count": null,
   "id": "22ae55bb",
   "metadata": {},
   "outputs": [],
   "source": []
  }
 ],
 "metadata": {
  "kernelspec": {
   "display_name": "ironhack",
   "language": "python",
   "name": "ironhack"
  },
  "language_info": {
   "codemirror_mode": {
    "name": "ipython",
    "version": 3
   },
   "file_extension": ".py",
   "mimetype": "text/x-python",
   "name": "python",
   "nbconvert_exporter": "python",
   "pygments_lexer": "ipython3",
   "version": "3.8.11"
  }
 },
 "nbformat": 4,
 "nbformat_minor": 5
}
