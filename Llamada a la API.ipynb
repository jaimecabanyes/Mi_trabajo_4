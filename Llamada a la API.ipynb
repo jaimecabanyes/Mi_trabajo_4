{
 "cells": [
  {
   "cell_type": "markdown",
   "id": "d1391c62",
   "metadata": {},
   "source": [
    "# LOCALIZACIONES DEFINIDAS\n",
    "Posibles lugares bien situados"
   ]
  },
  {
   "cell_type": "code",
   "execution_count": 1,
   "id": "3680bf2d",
   "metadata": {},
   "outputs": [],
   "source": [
    "london_loc = \"51.520624794291884, -0.0870022262169723\""
   ]
  },
  {
   "cell_type": "code",
   "execution_count": 2,
   "id": "320fa00c",
   "metadata": {},
   "outputs": [],
   "source": [
    "singapore_loc = \"1.2862863534171092, 103.84868192263733\""
   ]
  },
  {
   "cell_type": "code",
   "execution_count": 3,
   "id": "470a4f6c",
   "metadata": {},
   "outputs": [],
   "source": [
    "san_francisco_loc = \"37.79787988216447, -122.41049370727525\""
   ]
  },
  {
   "cell_type": "markdown",
   "id": "f385504c",
   "metadata": {},
   "source": [
    "# API\n",
    "Importar librerias "
   ]
  },
  {
   "cell_type": "code",
   "execution_count": 4,
   "id": "0dcfd3b5",
   "metadata": {},
   "outputs": [],
   "source": [
    "import requests\n",
    "import json\n",
    "from dotenv import load_dotenv\n",
    "import os\n",
    "import pandas as pd\n",
    "import pyjsonviewer\n",
    "import geopandas \n",
    "import shapely\n",
    "import pymongo as pym\n",
    "from pymongo import MongoClient,GEOSPHERE\n",
    "import shapely.geometry as shg"
   ]
  },
  {
   "cell_type": "markdown",
   "id": "178090f0",
   "metadata": {},
   "source": [
    "Tokens"
   ]
  },
  {
   "cell_type": "code",
   "execution_count": 5,
   "id": "474c0bf8",
   "metadata": {},
   "outputs": [
    {
     "data": {
      "text/plain": [
       "True"
      ]
     },
     "execution_count": 5,
     "metadata": {},
     "output_type": "execute_result"
    }
   ],
   "source": [
    "load_dotenv()\n",
    "#Tenemos los tokens guardados en un .env en el visual studio code"
   ]
  },
  {
   "cell_type": "code",
   "execution_count": 6,
   "id": "d82ce8df",
   "metadata": {},
   "outputs": [],
   "source": [
    "tk_id = os.getenv(\"token_client_id\")"
   ]
  },
  {
   "cell_type": "code",
   "execution_count": 7,
   "id": "20241485",
   "metadata": {},
   "outputs": [],
   "source": [
    "tk_secret = os.getenv(\"token_client_secret\")"
   ]
  },
  {
   "cell_type": "code",
   "execution_count": 8,
   "id": "d90f34b7",
   "metadata": {},
   "outputs": [],
   "source": [
    "git_tk = os.getenv(\"github_tk\")"
   ]
  },
  {
   "cell_type": "markdown",
   "id": "72503c58",
   "metadata": {},
   "source": [
    "Llamar a la api"
   ]
  },
  {
   "cell_type": "code",
   "execution_count": 9,
   "id": "071947b6",
   "metadata": {},
   "outputs": [],
   "source": [
    "url = 'https://api.foursquare.com/v2/venues/explore'"
   ]
  },
  {
   "cell_type": "markdown",
   "id": "aef493ac",
   "metadata": {},
   "source": [
    "# Londres"
   ]
  },
  {
   "cell_type": "markdown",
   "id": "f50b1a97",
   "metadata": {},
   "source": [
    "## Funciones de llamada a la API\n"
   ]
  },
  {
   "cell_type": "code",
   "execution_count": 10,
   "id": "68c8f1cc",
   "metadata": {},
   "outputs": [],
   "source": [
    "def llamada_API(url, coordenadas, query):\n",
    "    parametros = {\n",
    "    \"client_id\": tk_id,\n",
    "    \"client_secret\": tk_secret,\n",
    "    \"v\": \"20180323\",\n",
    "    \"ll\": f\"{coordenadas}\",\n",
    "    \"query\": f\"{query}\",\n",
    "    \"limit\": 200  \n",
    "}\n",
    "    response = requests.get(url, params=parametros).json()[\"response\"][\"groups\"][0][\"items\"]\n",
    "    return response "
   ]
  },
  {
   "cell_type": "code",
   "execution_count": 11,
   "id": "49556e62",
   "metadata": {},
   "outputs": [],
   "source": [
    "def escoger_datos(response):\n",
    "    name = []\n",
    "    type_ = []\n",
    "    lat = []\n",
    "    lng = []\n",
    "    for i in response:\n",
    "        name.append(i[\"venue\"][\"name\"])\n",
    "    for i in response:\n",
    "        type_.append(i[\"venue\"][\"categories\"][0][\"name\"])\n",
    "    for i in response:\n",
    "        lng.append(i[\"venue\"][\"location\"][\"lng\"])\n",
    "    for i in response:\n",
    "        lat.append(i[\"venue\"][\"location\"][\"lat\"])\n",
    "        \n",
    "    response2 = [name , type_, lat, lng]\n",
    "\n",
    "    return response2"
   ]
  },
  {
   "cell_type": "code",
   "execution_count": 12,
   "id": "eb2fca11",
   "metadata": {},
   "outputs": [],
   "source": [
    "def crear_df(response2):\n",
    "    df = pd.DataFrame(response2).T\n",
    "    df1 = df.rename(columns = {0:\"Name\", 1:\"Type\", 2:\"Latitude\", 3:\"Longitude\"})\n",
    "    return df1"
   ]
  },
  {
   "cell_type": "code",
   "execution_count": 13,
   "id": "c675ec0c",
   "metadata": {},
   "outputs": [],
   "source": [
    "def get_geometry(df):\n",
    "    df2 = geopandas.GeoDataFrame(df, geometry=geopandas.points_from_xy(df.Latitude, df.Longitude))\n",
    "    return df2"
   ]
  },
  {
   "cell_type": "code",
   "execution_count": 14,
   "id": "dd41fba8",
   "metadata": {},
   "outputs": [],
   "source": [
    "def get_loc(df):\n",
    "    df3 = df['geometry'].apply(lambda x:shapely.geometry.mapping(x))\n",
    "    return pd.DataFrame(df3)"
   ]
  },
  {
   "cell_type": "code",
   "execution_count": 15,
   "id": "69f3b4e5",
   "metadata": {},
   "outputs": [],
   "source": [
    "def df_final(url, coordenadas, query):\n",
    "    a  = llamada_API(url, coordenadas, query)\n",
    "    b = escoger_datos(a)\n",
    "    c = crear_df(b)\n",
    "    d = get_geometry(c)\n",
    "    d[\"loc\"] = get_loc(d)\n",
    "    df_terminado = d[[\"Name\",\"Type\",\"Latitude\",\"Longitude\",\"loc\"]]\n",
    "    return df_terminado"
   ]
  },
  {
   "cell_type": "code",
   "execution_count": 23,
   "id": "64deafe5",
   "metadata": {},
   "outputs": [],
   "source": [
    "df = df_final(url, london_loc, \"Nursery School\")"
   ]
  },
  {
   "cell_type": "code",
   "execution_count": 24,
   "id": "b49fe752",
   "metadata": {
    "scrolled": false
   },
   "outputs": [
    {
     "data": {
      "text/html": [
       "<div>\n",
       "<style scoped>\n",
       "    .dataframe tbody tr th:only-of-type {\n",
       "        vertical-align: middle;\n",
       "    }\n",
       "\n",
       "    .dataframe tbody tr th {\n",
       "        vertical-align: top;\n",
       "    }\n",
       "\n",
       "    .dataframe thead th {\n",
       "        text-align: right;\n",
       "    }\n",
       "</style>\n",
       "<table border=\"1\" class=\"dataframe\">\n",
       "  <thead>\n",
       "    <tr style=\"text-align: right;\">\n",
       "      <th></th>\n",
       "      <th>Name</th>\n",
       "      <th>Type</th>\n",
       "      <th>Latitude</th>\n",
       "      <th>Longitude</th>\n",
       "      <th>loc</th>\n",
       "    </tr>\n",
       "  </thead>\n",
       "  <tbody>\n",
       "    <tr>\n",
       "      <th>0</th>\n",
       "      <td>Hatching Dragons</td>\n",
       "      <td>Nursery School</td>\n",
       "      <td>51.521599</td>\n",
       "      <td>-0.095356</td>\n",
       "      <td>{'type': 'Point', 'coordinates': (51.521599411...</td>\n",
       "    </tr>\n",
       "    <tr>\n",
       "      <th>1</th>\n",
       "      <td>Bright Horizons City Child Nursery and Preschool</td>\n",
       "      <td>Nursery School</td>\n",
       "      <td>51.521406</td>\n",
       "      <td>-0.095647</td>\n",
       "      <td>{'type': 'Point', 'coordinates': (51.5214063, ...</td>\n",
       "    </tr>\n",
       "    <tr>\n",
       "      <th>2</th>\n",
       "      <td>Hatching Dragons</td>\n",
       "      <td>Nursery School</td>\n",
       "      <td>51.517948</td>\n",
       "      <td>-0.096538</td>\n",
       "      <td>{'type': 'Point', 'coordinates': (51.517948, -...</td>\n",
       "    </tr>\n",
       "    <tr>\n",
       "      <th>3</th>\n",
       "      <td>Bright Horizons Spitalfields Day Nursery and P...</td>\n",
       "      <td>Nursery School</td>\n",
       "      <td>51.520314</td>\n",
       "      <td>-0.074974</td>\n",
       "      <td>{'type': 'Point', 'coordinates': (51.520313793...</td>\n",
       "    </tr>\n",
       "    <tr>\n",
       "      <th>4</th>\n",
       "      <td>Hopes and Dreams Montessori Nursery School</td>\n",
       "      <td>Nursery School</td>\n",
       "      <td>51.53105</td>\n",
       "      <td>-0.102079</td>\n",
       "      <td>{'type': 'Point', 'coordinates': (51.531049874...</td>\n",
       "    </tr>\n",
       "    <tr>\n",
       "      <th>5</th>\n",
       "      <td>The Soulful Nutritionist</td>\n",
       "      <td>Nursery School</td>\n",
       "      <td>51.523818</td>\n",
       "      <td>-0.110315</td>\n",
       "      <td>{'type': 'Point', 'coordinates': (51.5238179, ...</td>\n",
       "    </tr>\n",
       "    <tr>\n",
       "      <th>6</th>\n",
       "      <td>Rosemary Works Big Play School</td>\n",
       "      <td>Nursery School</td>\n",
       "      <td>51.536926</td>\n",
       "      <td>-0.083277</td>\n",
       "      <td>{'type': 'Point', 'coordinates': (51.536926463...</td>\n",
       "    </tr>\n",
       "    <tr>\n",
       "      <th>7</th>\n",
       "      <td>Montessori by Busy Bees</td>\n",
       "      <td>Nursery School</td>\n",
       "      <td>51.51005</td>\n",
       "      <td>-0.059813</td>\n",
       "      <td>{'type': 'Point', 'coordinates': (51.5100497, ...</td>\n",
       "    </tr>\n",
       "    <tr>\n",
       "      <th>8</th>\n",
       "      <td>Bright Horizons Tabard Square Nursery and Pres...</td>\n",
       "      <td>Nursery School</td>\n",
       "      <td>51.500406</td>\n",
       "      <td>-0.090973</td>\n",
       "      <td>{'type': 'Point', 'coordinates': (51.5004061, ...</td>\n",
       "    </tr>\n",
       "    <tr>\n",
       "      <th>9</th>\n",
       "      <td>Montessori by Busy Bees</td>\n",
       "      <td>Nursery School</td>\n",
       "      <td>51.508951</td>\n",
       "      <td>-0.058398</td>\n",
       "      <td>{'type': 'Point', 'coordinates': (51.5089513, ...</td>\n",
       "    </tr>\n",
       "    <tr>\n",
       "      <th>10</th>\n",
       "      <td>Puddle Jumpers Nursery</td>\n",
       "      <td>Nursery School</td>\n",
       "      <td>51.519123</td>\n",
       "      <td>-0.121389</td>\n",
       "      <td>{'type': 'Point', 'coordinates': (51.519123390...</td>\n",
       "    </tr>\n",
       "    <tr>\n",
       "      <th>11</th>\n",
       "      <td>Fennies Nursery Woking</td>\n",
       "      <td>Nursery School</td>\n",
       "      <td>51.50917</td>\n",
       "      <td>-0.127437</td>\n",
       "      <td>{'type': 'Point', 'coordinates': (51.509169821...</td>\n",
       "    </tr>\n",
       "    <tr>\n",
       "      <th>12</th>\n",
       "      <td>Bright Horizons Floral Place Nursery and Presc...</td>\n",
       "      <td>Nursery School</td>\n",
       "      <td>51.54875</td>\n",
       "      <td>-0.088515</td>\n",
       "      <td>{'type': 'Point', 'coordinates': (51.548750335...</td>\n",
       "    </tr>\n",
       "    <tr>\n",
       "      <th>13</th>\n",
       "      <td>Bright Horizons Mount Carmel Day Nursery and P...</td>\n",
       "      <td>Nursery School</td>\n",
       "      <td>51.551394</td>\n",
       "      <td>-0.112786</td>\n",
       "      <td>{'type': 'Point', 'coordinates': (51.551393891...</td>\n",
       "    </tr>\n",
       "    <tr>\n",
       "      <th>14</th>\n",
       "      <td>Monkey Puzzle Day Nursery</td>\n",
       "      <td>Nursery School</td>\n",
       "      <td>51.556389</td>\n",
       "      <td>-0.098601</td>\n",
       "      <td>{'type': 'Point', 'coordinates': (51.556388898...</td>\n",
       "    </tr>\n",
       "  </tbody>\n",
       "</table>\n",
       "</div>"
      ],
      "text/plain": [
       "                                                 Name            Type  \\\n",
       "0                                    Hatching Dragons  Nursery School   \n",
       "1    Bright Horizons City Child Nursery and Preschool  Nursery School   \n",
       "2                                    Hatching Dragons  Nursery School   \n",
       "3   Bright Horizons Spitalfields Day Nursery and P...  Nursery School   \n",
       "4          Hopes and Dreams Montessori Nursery School  Nursery School   \n",
       "5                            The Soulful Nutritionist  Nursery School   \n",
       "6                      Rosemary Works Big Play School  Nursery School   \n",
       "7                             Montessori by Busy Bees  Nursery School   \n",
       "8   Bright Horizons Tabard Square Nursery and Pres...  Nursery School   \n",
       "9                             Montessori by Busy Bees  Nursery School   \n",
       "10                             Puddle Jumpers Nursery  Nursery School   \n",
       "11                             Fennies Nursery Woking  Nursery School   \n",
       "12  Bright Horizons Floral Place Nursery and Presc...  Nursery School   \n",
       "13  Bright Horizons Mount Carmel Day Nursery and P...  Nursery School   \n",
       "14                          Monkey Puzzle Day Nursery  Nursery School   \n",
       "\n",
       "     Latitude Longitude                                                loc  \n",
       "0   51.521599 -0.095356  {'type': 'Point', 'coordinates': (51.521599411...  \n",
       "1   51.521406 -0.095647  {'type': 'Point', 'coordinates': (51.5214063, ...  \n",
       "2   51.517948 -0.096538  {'type': 'Point', 'coordinates': (51.517948, -...  \n",
       "3   51.520314 -0.074974  {'type': 'Point', 'coordinates': (51.520313793...  \n",
       "4    51.53105 -0.102079  {'type': 'Point', 'coordinates': (51.531049874...  \n",
       "5   51.523818 -0.110315  {'type': 'Point', 'coordinates': (51.5238179, ...  \n",
       "6   51.536926 -0.083277  {'type': 'Point', 'coordinates': (51.536926463...  \n",
       "7    51.51005 -0.059813  {'type': 'Point', 'coordinates': (51.5100497, ...  \n",
       "8   51.500406 -0.090973  {'type': 'Point', 'coordinates': (51.5004061, ...  \n",
       "9   51.508951 -0.058398  {'type': 'Point', 'coordinates': (51.5089513, ...  \n",
       "10  51.519123 -0.121389  {'type': 'Point', 'coordinates': (51.519123390...  \n",
       "11   51.50917 -0.127437  {'type': 'Point', 'coordinates': (51.509169821...  \n",
       "12   51.54875 -0.088515  {'type': 'Point', 'coordinates': (51.548750335...  \n",
       "13  51.551394 -0.112786  {'type': 'Point', 'coordinates': (51.551393891...  \n",
       "14  51.556389 -0.098601  {'type': 'Point', 'coordinates': (51.556388898...  "
      ]
     },
     "execution_count": 24,
     "metadata": {},
     "output_type": "execute_result"
    }
   ],
   "source": [
    "df"
   ]
  },
  {
   "cell_type": "code",
   "execution_count": 26,
   "id": "86557e0c",
   "metadata": {
    "scrolled": false
   },
   "outputs": [],
   "source": [
    "a = llamada_API(url, london_loc, \"Economics\")"
   ]
  },
  {
   "cell_type": "code",
   "execution_count": null,
   "id": "5bd6fe9a",
   "metadata": {},
   "outputs": [],
   "source": []
  },
  {
   "cell_type": "markdown",
   "id": "c4ca6290",
   "metadata": {},
   "source": [
    "geometry --> mongo --> 2dsphere --> geoqueries"
   ]
  }
 ],
 "metadata": {
  "kernelspec": {
   "display_name": "ironhack",
   "language": "python",
   "name": "ironhack"
  },
  "language_info": {
   "codemirror_mode": {
    "name": "ipython",
    "version": 3
   },
   "file_extension": ".py",
   "mimetype": "text/x-python",
   "name": "python",
   "nbconvert_exporter": "python",
   "pygments_lexer": "ipython3",
   "version": "3.8.11"
  }
 },
 "nbformat": 4,
 "nbformat_minor": 5
}
