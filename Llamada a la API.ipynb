{
 "cells": [
  {
   "cell_type": "markdown",
   "id": "d1391c62",
   "metadata": {},
   "source": [
    "# LOCALIZACIONES DEFINIDAS\n",
    "Posibles lugares bien situados"
   ]
  },
  {
   "cell_type": "code",
   "execution_count": 1,
   "id": "3680bf2d",
   "metadata": {},
   "outputs": [],
   "source": [
    "london_loc = \"51.520624794291884, -0.0870022262169723\""
   ]
  },
  {
   "cell_type": "code",
   "execution_count": 2,
   "id": "320fa00c",
   "metadata": {},
   "outputs": [],
   "source": [
    "singapore_loc = \"1.2862863534171092, 103.84868192263733\""
   ]
  },
  {
   "cell_type": "code",
   "execution_count": 3,
   "id": "470a4f6c",
   "metadata": {},
   "outputs": [],
   "source": [
    "san_francisco_loc = \"37.79787988216447, -122.41049370727525\""
   ]
  },
  {
   "cell_type": "markdown",
   "id": "f385504c",
   "metadata": {},
   "source": [
    "# API\n",
    "Importar librerias "
   ]
  },
  {
   "cell_type": "code",
   "execution_count": 4,
   "id": "0dcfd3b5",
   "metadata": {},
   "outputs": [],
   "source": [
    "import requests\n",
    "import json\n",
    "from dotenv import load_dotenv\n",
    "import os\n",
    "import pandas as pd\n",
    "import pyjsonviewer"
   ]
  },
  {
   "cell_type": "markdown",
   "id": "178090f0",
   "metadata": {},
   "source": [
    "Tokens"
   ]
  },
  {
   "cell_type": "code",
   "execution_count": 5,
   "id": "474c0bf8",
   "metadata": {},
   "outputs": [
    {
     "data": {
      "text/plain": [
       "True"
      ]
     },
     "execution_count": 5,
     "metadata": {},
     "output_type": "execute_result"
    }
   ],
   "source": [
    "load_dotenv()\n",
    "#Tenemos los tokens guardados en un .env en el visual studio code"
   ]
  },
  {
   "cell_type": "code",
   "execution_count": 6,
   "id": "d82ce8df",
   "metadata": {},
   "outputs": [],
   "source": [
    "tk_id = os.getenv(\"token_client_id\")"
   ]
  },
  {
   "cell_type": "code",
   "execution_count": 7,
   "id": "20241485",
   "metadata": {},
   "outputs": [],
   "source": [
    "tk_secret = os.getenv(\"token_client_secret\")"
   ]
  },
  {
   "cell_type": "code",
   "execution_count": 8,
   "id": "d90f34b7",
   "metadata": {},
   "outputs": [],
   "source": [
    "git_tk = os.getenv(\"github_tk\")"
   ]
  },
  {
   "cell_type": "markdown",
   "id": "72503c58",
   "metadata": {},
   "source": [
    "Llamar a la api"
   ]
  },
  {
   "cell_type": "code",
   "execution_count": 9,
   "id": "071947b6",
   "metadata": {},
   "outputs": [],
   "source": [
    "url = 'https://api.foursquare.com/v2/venues/explore'"
   ]
  },
  {
   "cell_type": "markdown",
   "id": "aef493ac",
   "metadata": {},
   "source": [
    "# Londres"
   ]
  },
  {
   "cell_type": "markdown",
   "id": "f50b1a97",
   "metadata": {},
   "source": [
    "## Funciones de llamada a la API\n"
   ]
  },
  {
   "cell_type": "code",
   "execution_count": 10,
   "id": "68c8f1cc",
   "metadata": {},
   "outputs": [],
   "source": [
    "def llamada_API(url, coordenadas, query):\n",
    "    parametros = {\n",
    "    \"client_id\": tk_id,\n",
    "    \"client_secret\": tk_secret,\n",
    "    \"v\": \"20180323\",\n",
    "    \"ll\": f\"{coordenadas}\",\n",
    "    \"query\": f\"{query}\",\n",
    "    \"limit\": 200  \n",
    "}\n",
    "    response = requests.get(url, params=parametros).json()[\"response\"][\"groups\"][0][\"items\"]\n",
    "    return response "
   ]
  },
  {
   "cell_type": "code",
   "execution_count": 11,
   "id": "fa28bfa8",
   "metadata": {},
   "outputs": [],
   "source": [
    " Nurs = llamada_API (url, london_loc, \"Nursery School\")"
   ]
  },
  {
   "cell_type": "code",
   "execution_count": 12,
   "id": "9e9472b8",
   "metadata": {},
   "outputs": [],
   "source": [
    "def escoger_datos(response):\n",
    "    name = []\n",
    "    type_ = []\n",
    "    lat = []\n",
    "    lng = []\n",
    "    city = []\n",
    "    for i in response:\n",
    "        name.append(i[\"venue\"][\"name\"])\n",
    "    for i in response:\n",
    "        type_.append(i[\"venue\"][\"categories\"][0][\"name\"])\n",
    "    for i in response:\n",
    "        lat.append(i[\"venue\"][\"location\"][\"lat\"])\n",
    "    for i in response:\n",
    "        lng.append(i[\"venue\"][\"location\"][\"lng\"])\n",
    "    for i in response:\n",
    "        city.append(i[\"venue\"][\"location\"][\"city\"])\n",
    "    response2 = [name , type_, lat, lng, city ]\n",
    "\n",
    "    return response2"
   ]
  },
  {
   "cell_type": "code",
   "execution_count": 19,
   "id": "cbce084c",
   "metadata": {},
   "outputs": [],
   "source": [
    "def crear_df(response2):\n",
    "    df = pd.DataFrame(response2, columns = [\"Name\", \"Type\", \"Latitude\", \"Longitude\", \"City\"])\n",
    "    return df"
   ]
  },
  {
   "cell_type": "code",
   "execution_count": 21,
   "id": "8f534ffc",
   "metadata": {},
   "outputs": [
    {
     "ename": "ValueError",
     "evalue": "5 columns passed, passed data had 15 columns",
     "output_type": "error",
     "traceback": [
      "\u001b[0;31m---------------------------------------------------------------------------\u001b[0m",
      "\u001b[0;31mAssertionError\u001b[0m                            Traceback (most recent call last)",
      "\u001b[0;32m/opt/homebrew/Caskroom/miniconda/base/envs/ironhack/lib/python3.8/site-packages/pandas/core/internals/construction.py\u001b[0m in \u001b[0;36m_finalize_columns_and_data\u001b[0;34m(content, columns, dtype)\u001b[0m\n\u001b[1;32m    897\u001b[0m     \u001b[0;32mtry\u001b[0m\u001b[0;34m:\u001b[0m\u001b[0;34m\u001b[0m\u001b[0;34m\u001b[0m\u001b[0m\n\u001b[0;32m--> 898\u001b[0;31m         \u001b[0mcolumns\u001b[0m \u001b[0;34m=\u001b[0m \u001b[0m_validate_or_indexify_columns\u001b[0m\u001b[0;34m(\u001b[0m\u001b[0mcontents\u001b[0m\u001b[0;34m,\u001b[0m \u001b[0mcolumns\u001b[0m\u001b[0;34m)\u001b[0m\u001b[0;34m\u001b[0m\u001b[0;34m\u001b[0m\u001b[0m\n\u001b[0m\u001b[1;32m    899\u001b[0m     \u001b[0;32mexcept\u001b[0m \u001b[0mAssertionError\u001b[0m \u001b[0;32mas\u001b[0m \u001b[0merr\u001b[0m\u001b[0;34m:\u001b[0m\u001b[0;34m\u001b[0m\u001b[0;34m\u001b[0m\u001b[0m\n",
      "\u001b[0;32m/opt/homebrew/Caskroom/miniconda/base/envs/ironhack/lib/python3.8/site-packages/pandas/core/internals/construction.py\u001b[0m in \u001b[0;36m_validate_or_indexify_columns\u001b[0;34m(content, columns)\u001b[0m\n\u001b[1;32m    945\u001b[0m             \u001b[0;31m# caller's responsibility to check for this...\u001b[0m\u001b[0;34m\u001b[0m\u001b[0;34m\u001b[0m\u001b[0;34m\u001b[0m\u001b[0m\n\u001b[0;32m--> 946\u001b[0;31m             raise AssertionError(\n\u001b[0m\u001b[1;32m    947\u001b[0m                 \u001b[0;34mf\"{len(columns)} columns passed, passed data had \"\u001b[0m\u001b[0;34m\u001b[0m\u001b[0;34m\u001b[0m\u001b[0m\n",
      "\u001b[0;31mAssertionError\u001b[0m: 5 columns passed, passed data had 15 columns",
      "\nThe above exception was the direct cause of the following exception:\n",
      "\u001b[0;31mValueError\u001b[0m                                Traceback (most recent call last)",
      "\u001b[0;32m/var/folders/f9/ww50zmn51ylc9hycc8vysr9c0000gn/T/ipykernel_40820/4141169594.py\u001b[0m in \u001b[0;36m<module>\u001b[0;34m\u001b[0m\n\u001b[0;32m----> 1\u001b[0;31m \u001b[0mcrear_df\u001b[0m\u001b[0;34m(\u001b[0m\u001b[0ma\u001b[0m\u001b[0;34m)\u001b[0m\u001b[0;34m\u001b[0m\u001b[0;34m\u001b[0m\u001b[0m\n\u001b[0m",
      "\u001b[0;32m/var/folders/f9/ww50zmn51ylc9hycc8vysr9c0000gn/T/ipykernel_40820/657224063.py\u001b[0m in \u001b[0;36mcrear_df\u001b[0;34m(response2)\u001b[0m\n\u001b[1;32m      1\u001b[0m \u001b[0;32mdef\u001b[0m \u001b[0mcrear_df\u001b[0m\u001b[0;34m(\u001b[0m\u001b[0mresponse2\u001b[0m\u001b[0;34m)\u001b[0m\u001b[0;34m:\u001b[0m\u001b[0;34m\u001b[0m\u001b[0;34m\u001b[0m\u001b[0m\n\u001b[0;32m----> 2\u001b[0;31m     \u001b[0mdf\u001b[0m \u001b[0;34m=\u001b[0m \u001b[0mpd\u001b[0m\u001b[0;34m.\u001b[0m\u001b[0mDataFrame\u001b[0m\u001b[0;34m(\u001b[0m\u001b[0mresponse2\u001b[0m\u001b[0;34m,\u001b[0m \u001b[0mcolumns\u001b[0m \u001b[0;34m=\u001b[0m \u001b[0;34m[\u001b[0m\u001b[0;34m\"Name\"\u001b[0m\u001b[0;34m,\u001b[0m \u001b[0;34m\"Type\"\u001b[0m\u001b[0;34m,\u001b[0m \u001b[0;34m\"Latitude\"\u001b[0m\u001b[0;34m,\u001b[0m \u001b[0;34m\"Longitude\"\u001b[0m\u001b[0;34m,\u001b[0m \u001b[0;34m\"City\"\u001b[0m\u001b[0;34m]\u001b[0m\u001b[0;34m)\u001b[0m\u001b[0;34m\u001b[0m\u001b[0;34m\u001b[0m\u001b[0m\n\u001b[0m\u001b[1;32m      3\u001b[0m     \u001b[0;32mreturn\u001b[0m \u001b[0mdf\u001b[0m\u001b[0;34m\u001b[0m\u001b[0;34m\u001b[0m\u001b[0m\n",
      "\u001b[0;32m/opt/homebrew/Caskroom/miniconda/base/envs/ironhack/lib/python3.8/site-packages/pandas/core/frame.py\u001b[0m in \u001b[0;36m__init__\u001b[0;34m(self, data, index, columns, dtype, copy)\u001b[0m\n\u001b[1;32m    692\u001b[0m                         \u001b[0;31m# ndarray], Index, Series], Sequence[Any]]\"\u001b[0m\u001b[0;34m\u001b[0m\u001b[0;34m\u001b[0m\u001b[0;34m\u001b[0m\u001b[0m\n\u001b[1;32m    693\u001b[0m                         \u001b[0mcolumns\u001b[0m \u001b[0;34m=\u001b[0m \u001b[0mensure_index\u001b[0m\u001b[0;34m(\u001b[0m\u001b[0mcolumns\u001b[0m\u001b[0;34m)\u001b[0m  \u001b[0;31m# type: ignore[arg-type]\u001b[0m\u001b[0;34m\u001b[0m\u001b[0;34m\u001b[0m\u001b[0m\n\u001b[0;32m--> 694\u001b[0;31m                     arrays, columns, index = nested_data_to_arrays(\n\u001b[0m\u001b[1;32m    695\u001b[0m                         \u001b[0;31m# error: Argument 3 to \"nested_data_to_arrays\" has incompatible\u001b[0m\u001b[0;34m\u001b[0m\u001b[0;34m\u001b[0m\u001b[0;34m\u001b[0m\u001b[0m\n\u001b[1;32m    696\u001b[0m                         \u001b[0;31m# type \"Optional[Collection[Any]]\"; expected \"Optional[Index]\"\u001b[0m\u001b[0;34m\u001b[0m\u001b[0;34m\u001b[0m\u001b[0;34m\u001b[0m\u001b[0m\n",
      "\u001b[0;32m/opt/homebrew/Caskroom/miniconda/base/envs/ironhack/lib/python3.8/site-packages/pandas/core/internals/construction.py\u001b[0m in \u001b[0;36mnested_data_to_arrays\u001b[0;34m(data, columns, index, dtype)\u001b[0m\n\u001b[1;32m    481\u001b[0m         \u001b[0mcolumns\u001b[0m \u001b[0;34m=\u001b[0m \u001b[0mensure_index\u001b[0m\u001b[0;34m(\u001b[0m\u001b[0mdata\u001b[0m\u001b[0;34m[\u001b[0m\u001b[0;36m0\u001b[0m\u001b[0;34m]\u001b[0m\u001b[0;34m.\u001b[0m\u001b[0m_fields\u001b[0m\u001b[0;34m)\u001b[0m\u001b[0;34m\u001b[0m\u001b[0;34m\u001b[0m\u001b[0m\n\u001b[1;32m    482\u001b[0m \u001b[0;34m\u001b[0m\u001b[0m\n\u001b[0;32m--> 483\u001b[0;31m     \u001b[0marrays\u001b[0m\u001b[0;34m,\u001b[0m \u001b[0mcolumns\u001b[0m \u001b[0;34m=\u001b[0m \u001b[0mto_arrays\u001b[0m\u001b[0;34m(\u001b[0m\u001b[0mdata\u001b[0m\u001b[0;34m,\u001b[0m \u001b[0mcolumns\u001b[0m\u001b[0;34m,\u001b[0m \u001b[0mdtype\u001b[0m\u001b[0;34m=\u001b[0m\u001b[0mdtype\u001b[0m\u001b[0;34m)\u001b[0m\u001b[0;34m\u001b[0m\u001b[0;34m\u001b[0m\u001b[0m\n\u001b[0m\u001b[1;32m    484\u001b[0m     \u001b[0mcolumns\u001b[0m \u001b[0;34m=\u001b[0m \u001b[0mensure_index\u001b[0m\u001b[0;34m(\u001b[0m\u001b[0mcolumns\u001b[0m\u001b[0;34m)\u001b[0m\u001b[0;34m\u001b[0m\u001b[0;34m\u001b[0m\u001b[0m\n\u001b[1;32m    485\u001b[0m \u001b[0;34m\u001b[0m\u001b[0m\n",
      "\u001b[0;32m/opt/homebrew/Caskroom/miniconda/base/envs/ironhack/lib/python3.8/site-packages/pandas/core/internals/construction.py\u001b[0m in \u001b[0;36mto_arrays\u001b[0;34m(data, columns, dtype)\u001b[0m\n\u001b[1;32m    797\u001b[0m         \u001b[0marr\u001b[0m \u001b[0;34m=\u001b[0m \u001b[0m_list_to_arrays\u001b[0m\u001b[0;34m(\u001b[0m\u001b[0mdata\u001b[0m\u001b[0;34m)\u001b[0m\u001b[0;34m\u001b[0m\u001b[0;34m\u001b[0m\u001b[0m\n\u001b[1;32m    798\u001b[0m \u001b[0;34m\u001b[0m\u001b[0m\n\u001b[0;32m--> 799\u001b[0;31m     \u001b[0mcontent\u001b[0m\u001b[0;34m,\u001b[0m \u001b[0mcolumns\u001b[0m \u001b[0;34m=\u001b[0m \u001b[0m_finalize_columns_and_data\u001b[0m\u001b[0;34m(\u001b[0m\u001b[0marr\u001b[0m\u001b[0;34m,\u001b[0m \u001b[0mcolumns\u001b[0m\u001b[0;34m,\u001b[0m \u001b[0mdtype\u001b[0m\u001b[0;34m)\u001b[0m\u001b[0;34m\u001b[0m\u001b[0;34m\u001b[0m\u001b[0m\n\u001b[0m\u001b[1;32m    800\u001b[0m     \u001b[0;32mreturn\u001b[0m \u001b[0mcontent\u001b[0m\u001b[0;34m,\u001b[0m \u001b[0mcolumns\u001b[0m\u001b[0;34m\u001b[0m\u001b[0;34m\u001b[0m\u001b[0m\n\u001b[1;32m    801\u001b[0m \u001b[0;34m\u001b[0m\u001b[0m\n",
      "\u001b[0;32m/opt/homebrew/Caskroom/miniconda/base/envs/ironhack/lib/python3.8/site-packages/pandas/core/internals/construction.py\u001b[0m in \u001b[0;36m_finalize_columns_and_data\u001b[0;34m(content, columns, dtype)\u001b[0m\n\u001b[1;32m    899\u001b[0m     \u001b[0;32mexcept\u001b[0m \u001b[0mAssertionError\u001b[0m \u001b[0;32mas\u001b[0m \u001b[0merr\u001b[0m\u001b[0;34m:\u001b[0m\u001b[0;34m\u001b[0m\u001b[0;34m\u001b[0m\u001b[0m\n\u001b[1;32m    900\u001b[0m         \u001b[0;31m# GH#26429 do not raise user-facing AssertionError\u001b[0m\u001b[0;34m\u001b[0m\u001b[0;34m\u001b[0m\u001b[0;34m\u001b[0m\u001b[0m\n\u001b[0;32m--> 901\u001b[0;31m         \u001b[0;32mraise\u001b[0m \u001b[0mValueError\u001b[0m\u001b[0;34m(\u001b[0m\u001b[0merr\u001b[0m\u001b[0;34m)\u001b[0m \u001b[0;32mfrom\u001b[0m \u001b[0merr\u001b[0m\u001b[0;34m\u001b[0m\u001b[0;34m\u001b[0m\u001b[0m\n\u001b[0m\u001b[1;32m    902\u001b[0m \u001b[0;34m\u001b[0m\u001b[0m\n\u001b[1;32m    903\u001b[0m     \u001b[0;32mif\u001b[0m \u001b[0mlen\u001b[0m\u001b[0;34m(\u001b[0m\u001b[0mcontents\u001b[0m\u001b[0;34m)\u001b[0m \u001b[0;32mand\u001b[0m \u001b[0mcontents\u001b[0m\u001b[0;34m[\u001b[0m\u001b[0;36m0\u001b[0m\u001b[0;34m]\u001b[0m\u001b[0;34m.\u001b[0m\u001b[0mdtype\u001b[0m \u001b[0;34m==\u001b[0m \u001b[0mnp\u001b[0m\u001b[0;34m.\u001b[0m\u001b[0mobject_\u001b[0m\u001b[0;34m:\u001b[0m\u001b[0;34m\u001b[0m\u001b[0;34m\u001b[0m\u001b[0m\n",
      "\u001b[0;31mValueError\u001b[0m: 5 columns passed, passed data had 15 columns"
     ]
    }
   ],
   "source": [
    "crear_df(a)"
   ]
  },
  {
   "cell_type": "code",
   "execution_count": 23,
   "id": "1c83a847",
   "metadata": {},
   "outputs": [
    {
     "data": {
      "text/plain": [
       "{'Name': ['Nursery School',\n",
       "  'Nursery School',\n",
       "  'Nursery School',\n",
       "  'Nursery School',\n",
       "  'Nursery School',\n",
       "  'Nursery School',\n",
       "  'Nursery School',\n",
       "  'Nursery School',\n",
       "  'Nursery School',\n",
       "  'Nursery School',\n",
       "  'Nursery School',\n",
       "  'Nursery School',\n",
       "  'Nursery School',\n",
       "  'Nursery School',\n",
       "  'Nursery School']}"
      ]
     },
     "execution_count": 23,
     "metadata": {},
     "output_type": "execute_result"
    }
   ],
   "source": [
    "lst.append({'Name': a[0][i], 'Type': a[1][i], 'Latitude': a[2][i]})"
   ]
  },
  {
   "cell_type": "code",
   "execution_count": 22,
   "id": "7de0a3bc",
   "metadata": {},
   "outputs": [
    {
     "data": {
      "text/plain": [
       "[['Hatching Dragons',\n",
       "  'Bright Horizons City Child Nursery and Preschool',\n",
       "  'Hatching Dragons',\n",
       "  'Bright Horizons Spitalfields Day Nursery and Preschool',\n",
       "  'Hopes and Dreams Montessori Nursery School',\n",
       "  'The Soulful Nutritionist',\n",
       "  'Rosemary Works Big Play School',\n",
       "  'Montessori by Busy Bees',\n",
       "  'Bright Horizons Tabard Square Nursery and Preschool',\n",
       "  'Montessori by Busy Bees',\n",
       "  'Puddle Jumpers Nursery',\n",
       "  'Fennies Nursery Woking',\n",
       "  'Bright Horizons Floral Place Nursery and Preschool',\n",
       "  'Bright Horizons Mount Carmel Day Nursery and Preschool',\n",
       "  'Monkey Puzzle Day Nursery'],\n",
       " ['Nursery School',\n",
       "  'Nursery School',\n",
       "  'Nursery School',\n",
       "  'Nursery School',\n",
       "  'Nursery School',\n",
       "  'Nursery School',\n",
       "  'Nursery School',\n",
       "  'Nursery School',\n",
       "  'Nursery School',\n",
       "  'Nursery School',\n",
       "  'Nursery School',\n",
       "  'Nursery School',\n",
       "  'Nursery School',\n",
       "  'Nursery School',\n",
       "  'Nursery School'],\n",
       " [51.521599411945914,\n",
       "  51.5214063,\n",
       "  51.517948,\n",
       "  51.520313793033694,\n",
       "  51.5310498745605,\n",
       "  51.5238179,\n",
       "  51.53692646357954,\n",
       "  51.5100497,\n",
       "  51.5004061,\n",
       "  51.5089513,\n",
       "  51.51912339060358,\n",
       "  51.5091698216777,\n",
       "  51.54875033585555,\n",
       "  51.551393891126885,\n",
       "  51.556388898273795],\n",
       " [-0.09535610000000361,\n",
       "  -0.0956472,\n",
       "  -0.096538,\n",
       "  -0.0749744024467418,\n",
       "  -0.10207925799761322,\n",
       "  -0.1103146000000379,\n",
       "  -0.08327722549438477,\n",
       "  -0.0598132,\n",
       "  -0.0909726,\n",
       "  -0.0583978,\n",
       "  -0.12138892338157348,\n",
       "  -0.12743711471557617,\n",
       "  -0.08851531779100696,\n",
       "  -0.11278636995791658,\n",
       "  -0.09860090114315777],\n",
       " ['London',\n",
       "  'London',\n",
       "  'London',\n",
       "  'London',\n",
       "  'London',\n",
       "  'EC1R 5HL',\n",
       "  'London',\n",
       "  'London',\n",
       "  'London',\n",
       "  'London',\n",
       "  'London',\n",
       "  'London',\n",
       "  'London',\n",
       "  'London',\n",
       "  'London']]"
      ]
     },
     "execution_count": 22,
     "metadata": {},
     "output_type": "execute_result"
    }
   ],
   "source": [
    "a"
   ]
  },
  {
   "cell_type": "code",
   "execution_count": null,
   "id": "e7b963a5",
   "metadata": {},
   "outputs": [],
   "source": []
  },
  {
   "cell_type": "code",
   "execution_count": null,
   "id": "de2c7b3d",
   "metadata": {},
   "outputs": [],
   "source": []
  },
  {
   "cell_type": "code",
   "execution_count": 20,
   "id": "d191bf23",
   "metadata": {},
   "outputs": [],
   "source": [
    "a = escoger_datos(Nurs)"
   ]
  },
  {
   "cell_type": "code",
   "execution_count": null,
   "id": "76a78d01",
   "metadata": {},
   "outputs": [],
   "source": []
  },
  {
   "cell_type": "code",
   "execution_count": null,
   "id": "4bdc0cd3",
   "metadata": {},
   "outputs": [],
   "source": []
  },
  {
   "cell_type": "code",
   "execution_count": null,
   "id": "699693f3",
   "metadata": {},
   "outputs": [],
   "source": []
  },
  {
   "cell_type": "code",
   "execution_count": null,
   "id": "c3e83f37",
   "metadata": {},
   "outputs": [],
   "source": []
  }
 ],
 "metadata": {
  "kernelspec": {
   "display_name": "ironhack",
   "language": "python",
   "name": "ironhack"
  },
  "language_info": {
   "codemirror_mode": {
    "name": "ipython",
    "version": 3
   },
   "file_extension": ".py",
   "mimetype": "text/x-python",
   "name": "python",
   "nbconvert_exporter": "python",
   "pygments_lexer": "ipython3",
   "version": "3.8.11"
  }
 },
 "nbformat": 4,
 "nbformat_minor": 5
}
